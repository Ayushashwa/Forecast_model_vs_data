{
 "cells": [
  {
   "cell_type": "code",
   "execution_count": 93,
   "id": "b5e0a9ec",
   "metadata": {
    "execution": {
     "iopub.execute_input": "2025-10-02T22:09:56.637708Z",
     "iopub.status.busy": "2025-10-02T22:09:56.637349Z",
     "iopub.status.idle": "2025-10-02T22:09:56.647947Z",
     "shell.execute_reply": "2025-10-02T22:09:56.646791Z",
     "shell.execute_reply.started": "2025-10-02T22:09:56.637685Z"
    }
   },
   "outputs": [
    {
     "name": "stdout",
     "output_type": "stream",
     "text": [
      "/kaggle/input/forecast/market_lookup_table.csv\n",
      "/kaggle/input/forecast/prescriber_data.csv\n",
      "/kaggle/input/forecast/patient_claims_data.csv\n",
      "/kaggle/input/forecast/calendar_table.csv\n",
      "/kaggle/input/forecast-exp-3/calendar.csv\n",
      "/kaggle/input/forecast-exp-3/claims.csv\n",
      "/kaggle/input/forecast-exp-3/prescribers.csv\n",
      "/kaggle/input/forecast-exp-3/market.csv\n",
      "/kaggle/input/forecast-expanded/market_expanded.csv\n",
      "/kaggle/input/forecast-expanded/prescribers_expanded.csv\n",
      "/kaggle/input/forecast-expanded/calendar_expanded.csv\n",
      "/kaggle/input/forecast-expanded/claims_expanded.csv\n"
     ]
    }
   ],
   "source": [
    "import numpy as np\n",
    "import pandas as pd\n",
    "import os\n",
    "for dirname, _, filenames in os.walk('/kaggle/input'):\n",
    "    for filename in filenames:\n",
    "        print(os.path.join(dirname, filename))"
   ]
  },
  {
   "cell_type": "code",
   "execution_count": 94,
   "id": "255e3f1c",
   "metadata": {
    "execution": {
     "iopub.execute_input": "2025-10-02T22:09:56.650025Z",
     "iopub.status.busy": "2025-10-02T22:09:56.649662Z",
     "iopub.status.idle": "2025-10-02T22:09:56.670265Z",
     "shell.execute_reply": "2025-10-02T22:09:56.669087Z",
     "shell.execute_reply.started": "2025-10-02T22:09:56.650001Z"
    }
   },
   "outputs": [
    {
     "name": "stdout",
     "output_type": "stream",
     "text": [
      "Current directory: /kaggle/working\n"
     ]
    }
   ],
   "source": [
    "import pandas as pd\n",
    "import numpy as np\n",
    "from datetime import datetime\n",
    "from pathlib import Path\n",
    "current_dir = Path.cwd()\n",
    "print(\"Current directory:\", current_dir)"
   ]
  },
  {
   "cell_type": "code",
   "execution_count": 95,
   "id": "7b5650e9",
   "metadata": {
    "execution": {
     "iopub.execute_input": "2025-10-02T22:09:56.671713Z",
     "iopub.status.busy": "2025-10-02T22:09:56.671431Z",
     "iopub.status.idle": "2025-10-02T22:09:56.699380Z",
     "shell.execute_reply": "2025-10-02T22:09:56.697453Z",
     "shell.execute_reply.started": "2025-10-02T22:09:56.671691Z"
    }
   },
   "outputs": [
    {
     "name": "stdout",
     "output_type": "stream",
     "text": [
      "['forecast', 'forecast-exp-3', 'forecast-expanded']\n"
     ]
    }
   ],
   "source": [
    "import os\n",
    "base_path = \"/kaggle/input/\"\n",
    "print(os.listdir(base_path))"
   ]
  },
  {
   "cell_type": "code",
   "execution_count": 96,
   "id": "6aefed17",
   "metadata": {
    "execution": {
     "iopub.execute_input": "2025-10-02T22:09:56.702185Z",
     "iopub.status.busy": "2025-10-02T22:09:56.701785Z",
     "iopub.status.idle": "2025-10-02T22:09:56.744149Z",
     "shell.execute_reply": "2025-10-02T22:09:56.742904Z",
     "shell.execute_reply.started": "2025-10-02T22:09:56.702155Z"
    }
   },
   "outputs": [],
   "source": [
    "\n",
    "import pandas as pd\n",
    "base_path = \"/kaggle/input/forecast/\"\n",
    "market = pd.read_csv(base_path + \"market_lookup_table.csv\")\n",
    "prescribers = pd.read_csv(base_path + \"prescriber_data.csv\")\n",
    "claims = pd.read_csv(base_path + \"patient_claims_data.csv\")\n",
    "calendar = pd.read_csv(base_path + \"calendar_table.csv\")\n",
    "\n"
   ]
  },
  {
   "cell_type": "code",
   "execution_count": 97,
   "id": "5b5434da-c0ed-4f9e-8fc4-34f47c7feba6",
   "metadata": {
    "execution": {
     "iopub.execute_input": "2025-10-02T22:09:56.745392Z",
     "iopub.status.busy": "2025-10-02T22:09:56.745114Z",
     "iopub.status.idle": "2025-10-02T22:09:56.761462Z",
     "shell.execute_reply": "2025-10-02T22:09:56.760233Z",
     "shell.execute_reply.started": "2025-10-02T22:09:56.745371Z"
    }
   },
   "outputs": [
    {
     "name": "stdout",
     "output_type": "stream",
     "text": [
      "=== Market Lookup Data ===\n",
      "['brand_name', 'molecule', 'therapeutic_class']\n",
      "  brand_name    molecule therapeutic_class\n",
      "0     Drug_A  Molecule_0           Class_A\n",
      "1     Drug_B  Molecule_1           Class_B\n",
      "2     Drug_C  Molecule_2           Class_C\n",
      "3     Drug_D  Molecule_3           Class_A\n",
      "4     Drug_E  Molecule_4           Class_B \n",
      "\n",
      "=== Prescribers Data ===\n",
      "['hcp_id', 'specialty', 'brand_written', 'region']\n",
      "    hcp_id      specialty brand_written region\n",
      "0  HCP7311  Endocrinology        Drug_E  South\n",
      "1  HCP4114        General        Drug_E  South\n",
      "2  HCP5173      Neurology        Drug_E   East\n",
      "3  HCP1727      Neurology        Drug_E   West\n",
      "4  HCP8144     Cardiology        Drug_C  North \n",
      "\n",
      "=== Claims Data ===\n",
      "['patient_id', 'ndc_code', 'drug_name', 'start_date', 'end_date', 'days_supply', 'provider_id', 'specialty', 'diagnosis_code', 'region']\n",
      "  patient_id    ndc_code drug_name  start_date    end_date  days_supply  \\\n",
      "0     P23104  51904-9849    Drug_B  2022-05-12  2022-07-11           60   \n",
      "1     P80678  29769-4788    Drug_D  2022-05-08  2022-06-07           30   \n",
      "2     P13617  45614-6502    Drug_A  2024-02-19  2024-04-19           60   \n",
      "3     P23577  29769-4788    Drug_D  2024-05-08  2024-08-06           90   \n",
      "4     P44718  20561-3267    Drug_C  2024-06-11  2024-08-10           60   \n",
      "\n",
      "  provider_id specialty diagnosis_code region  \n",
      "0     HCP3414   General           D654   East  \n",
      "1     HCP1400   General           D654   West  \n",
      "2     HCP7311   General           D789   East  \n",
      "3     HCP5499   General           D321  South  \n",
      "4     HCP1727   General           D789   West   \n",
      "\n",
      "=== Calendar Data ===\n",
      "['date', 'month', 'year', 'fiscal_quarter', 'fiscal_year']\n",
      "         date  month  year  fiscal_quarter  fiscal_year\n",
      "0  2022-01-01      1  2022               1         2022\n",
      "1  2022-01-02      1  2022               1         2022\n",
      "2  2022-01-03      1  2022               1         2022\n",
      "3  2022-01-04      1  2022               1         2022\n",
      "4  2022-01-05      1  2022               1         2022 \n",
      "\n"
     ]
    }
   ],
   "source": [
    "\n",
    "print(\"=== Market Lookup Data ===\")\n",
    "print(market.columns.tolist())\n",
    "print(market.head(), \"\\n\")\n",
    "\n",
    "print(\"=== Prescribers Data ===\")\n",
    "print(prescribers.columns.tolist())\n",
    "print(prescribers.head(), \"\\n\")\n",
    "\n",
    "print(\"=== Claims Data ===\")\n",
    "print(claims.columns.tolist())\n",
    "print(claims.head(), \"\\n\")\n",
    "\n",
    "print(\"=== Calendar Data ===\")\n",
    "print(calendar.columns.tolist())\n",
    "print(calendar.head(), \"\\n\")\n"
   ]
  },
  {
   "cell_type": "code",
   "execution_count": 98,
   "id": "b3616338-036b-49a0-a789-a7dc5b0b90b8",
   "metadata": {
    "execution": {
     "iopub.execute_input": "2025-10-02T22:09:56.762985Z",
     "iopub.status.busy": "2025-10-02T22:09:56.762544Z",
     "iopub.status.idle": "2025-10-02T22:09:56.794068Z",
     "shell.execute_reply": "2025-10-02T22:09:56.792739Z",
     "shell.execute_reply.started": "2025-10-02T22:09:56.762957Z"
    }
   },
   "outputs": [
    {
     "data": {
      "text/html": [
       "<div>\n",
       "<style scoped>\n",
       "    .dataframe tbody tr th:only-of-type {\n",
       "        vertical-align: middle;\n",
       "    }\n",
       "\n",
       "    .dataframe tbody tr th {\n",
       "        vertical-align: top;\n",
       "    }\n",
       "\n",
       "    .dataframe thead th {\n",
       "        text-align: right;\n",
       "    }\n",
       "</style>\n",
       "<table border=\"1\" class=\"dataframe\">\n",
       "  <thead>\n",
       "    <tr style=\"text-align: right;\">\n",
       "      <th></th>\n",
       "      <th>date</th>\n",
       "      <th>month</th>\n",
       "      <th>year</th>\n",
       "      <th>fiscal_quarter</th>\n",
       "      <th>fiscal_year</th>\n",
       "    </tr>\n",
       "  </thead>\n",
       "  <tbody>\n",
       "    <tr>\n",
       "      <th>0</th>\n",
       "      <td>2022-01-01</td>\n",
       "      <td>1</td>\n",
       "      <td>2022</td>\n",
       "      <td>1</td>\n",
       "      <td>2022</td>\n",
       "    </tr>\n",
       "  </tbody>\n",
       "</table>\n",
       "</div>"
      ],
      "text/plain": [
       "         date  month  year  fiscal_quarter  fiscal_year\n",
       "0  2022-01-01      1  2022               1         2022"
      ]
     },
     "execution_count": 98,
     "metadata": {},
     "output_type": "execute_result"
    }
   ],
   "source": [
    "calendar.head(1)"
   ]
  },
  {
   "cell_type": "code",
   "execution_count": 99,
   "id": "81fc9088",
   "metadata": {
    "execution": {
     "iopub.execute_input": "2025-10-02T22:09:56.795814Z",
     "iopub.status.busy": "2025-10-02T22:09:56.795415Z",
     "iopub.status.idle": "2025-10-02T22:09:56.831344Z",
     "shell.execute_reply": "2025-10-02T22:09:56.829890Z",
     "shell.execute_reply.started": "2025-10-02T22:09:56.795790Z"
    }
   },
   "outputs": [
    {
     "data": {
      "text/html": [
       "<div>\n",
       "<style scoped>\n",
       "    .dataframe tbody tr th:only-of-type {\n",
       "        vertical-align: middle;\n",
       "    }\n",
       "\n",
       "    .dataframe tbody tr th {\n",
       "        vertical-align: top;\n",
       "    }\n",
       "\n",
       "    .dataframe thead th {\n",
       "        text-align: right;\n",
       "    }\n",
       "</style>\n",
       "<table border=\"1\" class=\"dataframe\">\n",
       "  <thead>\n",
       "    <tr style=\"text-align: right;\">\n",
       "      <th></th>\n",
       "      <th>patient_id</th>\n",
       "      <th>ndc_code</th>\n",
       "      <th>drug_name</th>\n",
       "      <th>start_date</th>\n",
       "      <th>end_date</th>\n",
       "      <th>days_supply</th>\n",
       "      <th>provider_id</th>\n",
       "      <th>specialty</th>\n",
       "      <th>diagnosis_code</th>\n",
       "      <th>region</th>\n",
       "    </tr>\n",
       "  </thead>\n",
       "  <tbody>\n",
       "    <tr>\n",
       "      <th>0</th>\n",
       "      <td>P23104</td>\n",
       "      <td>51904-9849</td>\n",
       "      <td>Drug_B</td>\n",
       "      <td>2022-05-12</td>\n",
       "      <td>2022-07-11</td>\n",
       "      <td>60</td>\n",
       "      <td>HCP3414</td>\n",
       "      <td>General</td>\n",
       "      <td>D654</td>\n",
       "      <td>East</td>\n",
       "    </tr>\n",
       "  </tbody>\n",
       "</table>\n",
       "</div>"
      ],
      "text/plain": [
       "  patient_id    ndc_code drug_name  start_date    end_date  days_supply  \\\n",
       "0     P23104  51904-9849    Drug_B  2022-05-12  2022-07-11           60   \n",
       "\n",
       "  provider_id specialty diagnosis_code region  \n",
       "0     HCP3414   General           D654   East  "
      ]
     },
     "execution_count": 99,
     "metadata": {},
     "output_type": "execute_result"
    }
   ],
   "source": [
    "claims.head(1)"
   ]
  },
  {
   "cell_type": "code",
   "execution_count": 100,
   "id": "ee350571",
   "metadata": {
    "execution": {
     "iopub.execute_input": "2025-10-02T22:09:56.833374Z",
     "iopub.status.busy": "2025-10-02T22:09:56.832898Z",
     "iopub.status.idle": "2025-10-02T22:09:56.877406Z",
     "shell.execute_reply": "2025-10-02T22:09:56.875680Z",
     "shell.execute_reply.started": "2025-10-02T22:09:56.833336Z"
    }
   },
   "outputs": [
    {
     "data": {
      "text/html": [
       "<div>\n",
       "<style scoped>\n",
       "    .dataframe tbody tr th:only-of-type {\n",
       "        vertical-align: middle;\n",
       "    }\n",
       "\n",
       "    .dataframe tbody tr th {\n",
       "        vertical-align: top;\n",
       "    }\n",
       "\n",
       "    .dataframe thead th {\n",
       "        text-align: right;\n",
       "    }\n",
       "</style>\n",
       "<table border=\"1\" class=\"dataframe\">\n",
       "  <thead>\n",
       "    <tr style=\"text-align: right;\">\n",
       "      <th></th>\n",
       "      <th>patient_id</th>\n",
       "      <th>ndc_code</th>\n",
       "      <th>drug_name</th>\n",
       "      <th>start_date</th>\n",
       "      <th>end_date</th>\n",
       "      <th>days_supply</th>\n",
       "      <th>provider_id</th>\n",
       "      <th>specialty</th>\n",
       "      <th>diagnosis_code</th>\n",
       "      <th>region</th>\n",
       "    </tr>\n",
       "  </thead>\n",
       "  <tbody>\n",
       "    <tr>\n",
       "      <th>1193</th>\n",
       "      <td>P10074</td>\n",
       "      <td>20561-3267</td>\n",
       "      <td>Drug_C</td>\n",
       "      <td>2022-04-06</td>\n",
       "      <td>2022-07-05</td>\n",
       "      <td>90</td>\n",
       "      <td>HCP8043</td>\n",
       "      <td>General</td>\n",
       "      <td>D654</td>\n",
       "      <td>South</td>\n",
       "    </tr>\n",
       "    <tr>\n",
       "      <th>1937</th>\n",
       "      <td>P10074</td>\n",
       "      <td>29769-4788</td>\n",
       "      <td>Drug_D</td>\n",
       "      <td>2022-06-26</td>\n",
       "      <td>2022-09-24</td>\n",
       "      <td>90</td>\n",
       "      <td>HCP7790</td>\n",
       "      <td>General</td>\n",
       "      <td>D123</td>\n",
       "      <td>North</td>\n",
       "    </tr>\n",
       "  </tbody>\n",
       "</table>\n",
       "</div>"
      ],
      "text/plain": [
       "     patient_id    ndc_code drug_name  start_date    end_date  days_supply  \\\n",
       "1193     P10074  20561-3267    Drug_C  2022-04-06  2022-07-05           90   \n",
       "1937     P10074  29769-4788    Drug_D  2022-06-26  2022-09-24           90   \n",
       "\n",
       "     provider_id specialty diagnosis_code region  \n",
       "1193     HCP8043   General           D654  South  \n",
       "1937     HCP7790   General           D123  North  "
      ]
     },
     "execution_count": 100,
     "metadata": {},
     "output_type": "execute_result"
    }
   ],
   "source": [
    "claims.head(5)\n",
    "claims['start_date'] = pd.to_datetime(claims['start_date']).dt.date\n",
    "claims_sorted=claims.sort_values(by=['patient_id','start_date'])\n",
    "claims_sorted.head(2)"
   ]
  },
  {
   "cell_type": "code",
   "execution_count": 101,
   "id": "99c29d89",
   "metadata": {
    "execution": {
     "iopub.execute_input": "2025-10-02T22:09:56.882328Z",
     "iopub.status.busy": "2025-10-02T22:09:56.881408Z",
     "iopub.status.idle": "2025-10-02T22:09:56.906366Z",
     "shell.execute_reply": "2025-10-02T22:09:56.903956Z",
     "shell.execute_reply.started": "2025-10-02T22:09:56.882298Z"
    }
   },
   "outputs": [
    {
     "data": {
      "text/html": [
       "<div>\n",
       "<style scoped>\n",
       "    .dataframe tbody tr th:only-of-type {\n",
       "        vertical-align: middle;\n",
       "    }\n",
       "\n",
       "    .dataframe tbody tr th {\n",
       "        vertical-align: top;\n",
       "    }\n",
       "\n",
       "    .dataframe thead th {\n",
       "        text-align: right;\n",
       "    }\n",
       "</style>\n",
       "<table border=\"1\" class=\"dataframe\">\n",
       "  <thead>\n",
       "    <tr style=\"text-align: right;\">\n",
       "      <th></th>\n",
       "      <th>patient_id</th>\n",
       "      <th>ndc_code</th>\n",
       "      <th>drug_name</th>\n",
       "      <th>start_date</th>\n",
       "      <th>end_date</th>\n",
       "      <th>days_supply</th>\n",
       "      <th>provider_id</th>\n",
       "      <th>specialty</th>\n",
       "      <th>diagnosis_code</th>\n",
       "      <th>region</th>\n",
       "      <th>previous_end</th>\n",
       "    </tr>\n",
       "  </thead>\n",
       "  <tbody>\n",
       "    <tr>\n",
       "      <th>1193</th>\n",
       "      <td>P10074</td>\n",
       "      <td>20561-3267</td>\n",
       "      <td>Drug_C</td>\n",
       "      <td>2022-04-06</td>\n",
       "      <td>2022-07-05</td>\n",
       "      <td>90</td>\n",
       "      <td>HCP8043</td>\n",
       "      <td>General</td>\n",
       "      <td>D654</td>\n",
       "      <td>South</td>\n",
       "      <td>NaN</td>\n",
       "    </tr>\n",
       "    <tr>\n",
       "      <th>1937</th>\n",
       "      <td>P10074</td>\n",
       "      <td>29769-4788</td>\n",
       "      <td>Drug_D</td>\n",
       "      <td>2022-06-26</td>\n",
       "      <td>2022-09-24</td>\n",
       "      <td>90</td>\n",
       "      <td>HCP7790</td>\n",
       "      <td>General</td>\n",
       "      <td>D123</td>\n",
       "      <td>North</td>\n",
       "      <td>2022-07-05</td>\n",
       "    </tr>\n",
       "  </tbody>\n",
       "</table>\n",
       "</div>"
      ],
      "text/plain": [
       "     patient_id    ndc_code drug_name  start_date    end_date  days_supply  \\\n",
       "1193     P10074  20561-3267    Drug_C  2022-04-06  2022-07-05           90   \n",
       "1937     P10074  29769-4788    Drug_D  2022-06-26  2022-09-24           90   \n",
       "\n",
       "     provider_id specialty diagnosis_code region previous_end  \n",
       "1193     HCP8043   General           D654  South          NaN  \n",
       "1937     HCP7790   General           D123  North   2022-07-05  "
      ]
     },
     "execution_count": 101,
     "metadata": {},
     "output_type": "execute_result"
    }
   ],
   "source": [
    "claims_sorted['previous_end'] = claims_sorted.groupby('patient_id')['end_date'].shift(1)\n",
    "claims_sorted.head(2)"
   ]
  },
  {
   "cell_type": "code",
   "execution_count": 102,
   "id": "71ce8048",
   "metadata": {
    "execution": {
     "iopub.execute_input": "2025-10-02T22:09:56.907969Z",
     "iopub.status.busy": "2025-10-02T22:09:56.907634Z",
     "iopub.status.idle": "2025-10-02T22:09:56.935645Z",
     "shell.execute_reply": "2025-10-02T22:09:56.933768Z",
     "shell.execute_reply.started": "2025-10-02T22:09:56.907946Z"
    }
   },
   "outputs": [
    {
     "data": {
      "text/html": [
       "<div>\n",
       "<style scoped>\n",
       "    .dataframe tbody tr th:only-of-type {\n",
       "        vertical-align: middle;\n",
       "    }\n",
       "\n",
       "    .dataframe tbody tr th {\n",
       "        vertical-align: top;\n",
       "    }\n",
       "\n",
       "    .dataframe thead th {\n",
       "        text-align: right;\n",
       "    }\n",
       "</style>\n",
       "<table border=\"1\" class=\"dataframe\">\n",
       "  <thead>\n",
       "    <tr style=\"text-align: right;\">\n",
       "      <th></th>\n",
       "      <th>patient_id</th>\n",
       "      <th>ndc_code</th>\n",
       "      <th>drug_name</th>\n",
       "      <th>start_date</th>\n",
       "      <th>end_date</th>\n",
       "      <th>days_supply</th>\n",
       "      <th>provider_id</th>\n",
       "      <th>specialty</th>\n",
       "      <th>diagnosis_code</th>\n",
       "      <th>region</th>\n",
       "      <th>previous_end</th>\n",
       "      <th>gap_days</th>\n",
       "    </tr>\n",
       "  </thead>\n",
       "  <tbody>\n",
       "    <tr>\n",
       "      <th>1193</th>\n",
       "      <td>P10074</td>\n",
       "      <td>20561-3267</td>\n",
       "      <td>Drug_C</td>\n",
       "      <td>2022-04-06</td>\n",
       "      <td>2022-07-05</td>\n",
       "      <td>90</td>\n",
       "      <td>HCP8043</td>\n",
       "      <td>General</td>\n",
       "      <td>D654</td>\n",
       "      <td>South</td>\n",
       "      <td>NaN</td>\n",
       "      <td>-1.0</td>\n",
       "    </tr>\n",
       "    <tr>\n",
       "      <th>1937</th>\n",
       "      <td>P10074</td>\n",
       "      <td>29769-4788</td>\n",
       "      <td>Drug_D</td>\n",
       "      <td>2022-06-26</td>\n",
       "      <td>2022-09-24</td>\n",
       "      <td>90</td>\n",
       "      <td>HCP7790</td>\n",
       "      <td>General</td>\n",
       "      <td>D123</td>\n",
       "      <td>North</td>\n",
       "      <td>2022-07-05</td>\n",
       "      <td>-9.0</td>\n",
       "    </tr>\n",
       "  </tbody>\n",
       "</table>\n",
       "</div>"
      ],
      "text/plain": [
       "     patient_id    ndc_code drug_name  start_date    end_date  days_supply  \\\n",
       "1193     P10074  20561-3267    Drug_C  2022-04-06  2022-07-05           90   \n",
       "1937     P10074  29769-4788    Drug_D  2022-06-26  2022-09-24           90   \n",
       "\n",
       "     provider_id specialty diagnosis_code region previous_end  gap_days  \n",
       "1193     HCP8043   General           D654  South          NaN      -1.0  \n",
       "1937     HCP7790   General           D123  North   2022-07-05      -9.0  "
      ]
     },
     "execution_count": 102,
     "metadata": {},
     "output_type": "execute_result"
    }
   ],
   "source": [
    "claims_sorted['gap_days']=pd.to_datetime(claims_sorted['start_date'])-pd.to_datetime(claims_sorted['previous_end'])\n",
    "claims_sorted['gap_days'] = claims_sorted['gap_days'].dt.days\n",
    "claims_sorted['gap_days'] = claims_sorted['gap_days'].fillna(-1)\n",
    "claims_sorted.head(2)"
   ]
  },
  {
   "cell_type": "code",
   "execution_count": 103,
   "id": "a0248ec1",
   "metadata": {
    "execution": {
     "iopub.execute_input": "2025-10-02T22:09:56.937177Z",
     "iopub.status.busy": "2025-10-02T22:09:56.936847Z",
     "iopub.status.idle": "2025-10-02T22:09:56.971811Z",
     "shell.execute_reply": "2025-10-02T22:09:56.970841Z",
     "shell.execute_reply.started": "2025-10-02T22:09:56.937154Z"
    }
   },
   "outputs": [
    {
     "data": {
      "text/html": [
       "<div>\n",
       "<style scoped>\n",
       "    .dataframe tbody tr th:only-of-type {\n",
       "        vertical-align: middle;\n",
       "    }\n",
       "\n",
       "    .dataframe tbody tr th {\n",
       "        vertical-align: top;\n",
       "    }\n",
       "\n",
       "    .dataframe thead th {\n",
       "        text-align: right;\n",
       "    }\n",
       "</style>\n",
       "<table border=\"1\" class=\"dataframe\">\n",
       "  <thead>\n",
       "    <tr style=\"text-align: right;\">\n",
       "      <th></th>\n",
       "      <th>patient_id</th>\n",
       "      <th>ndc_code</th>\n",
       "      <th>drug_name</th>\n",
       "      <th>start_date</th>\n",
       "      <th>end_date</th>\n",
       "      <th>days_supply</th>\n",
       "      <th>provider_id</th>\n",
       "      <th>specialty</th>\n",
       "      <th>diagnosis_code</th>\n",
       "      <th>region</th>\n",
       "      <th>previous_end</th>\n",
       "      <th>gap_days</th>\n",
       "      <th>new_start</th>\n",
       "    </tr>\n",
       "  </thead>\n",
       "  <tbody>\n",
       "    <tr>\n",
       "      <th>1193</th>\n",
       "      <td>P10074</td>\n",
       "      <td>20561-3267</td>\n",
       "      <td>Drug_C</td>\n",
       "      <td>2022-04-06</td>\n",
       "      <td>2022-07-05</td>\n",
       "      <td>90</td>\n",
       "      <td>HCP8043</td>\n",
       "      <td>General</td>\n",
       "      <td>D654</td>\n",
       "      <td>South</td>\n",
       "      <td>NaN</td>\n",
       "      <td>-1.0</td>\n",
       "      <td>0</td>\n",
       "    </tr>\n",
       "    <tr>\n",
       "      <th>1937</th>\n",
       "      <td>P10074</td>\n",
       "      <td>29769-4788</td>\n",
       "      <td>Drug_D</td>\n",
       "      <td>2022-06-26</td>\n",
       "      <td>2022-09-24</td>\n",
       "      <td>90</td>\n",
       "      <td>HCP7790</td>\n",
       "      <td>General</td>\n",
       "      <td>D123</td>\n",
       "      <td>North</td>\n",
       "      <td>2022-07-05</td>\n",
       "      <td>-9.0</td>\n",
       "      <td>0</td>\n",
       "    </tr>\n",
       "  </tbody>\n",
       "</table>\n",
       "</div>"
      ],
      "text/plain": [
       "     patient_id    ndc_code drug_name  start_date    end_date  days_supply  \\\n",
       "1193     P10074  20561-3267    Drug_C  2022-04-06  2022-07-05           90   \n",
       "1937     P10074  29769-4788    Drug_D  2022-06-26  2022-09-24           90   \n",
       "\n",
       "     provider_id specialty diagnosis_code region previous_end  gap_days  \\\n",
       "1193     HCP8043   General           D654  South          NaN      -1.0   \n",
       "1937     HCP7790   General           D123  North   2022-07-05      -9.0   \n",
       "\n",
       "      new_start  \n",
       "1193          0  \n",
       "1937          0  "
      ]
     },
     "execution_count": 103,
     "metadata": {},
     "output_type": "execute_result"
    }
   ],
   "source": [
    "claims_sorted['new_start'] = (claims_sorted['gap_days'] > 180).astype(int)\n",
    "claims_sorted.head(2)"
   ]
  },
  {
   "cell_type": "code",
   "execution_count": 104,
   "id": "6f15d38b",
   "metadata": {
    "execution": {
     "iopub.execute_input": "2025-10-02T22:09:56.973116Z",
     "iopub.status.busy": "2025-10-02T22:09:56.972770Z",
     "iopub.status.idle": "2025-10-02T22:09:57.077580Z",
     "shell.execute_reply": "2025-10-02T22:09:57.076737Z",
     "shell.execute_reply.started": "2025-10-02T22:09:56.973094Z"
    }
   },
   "outputs": [
    {
     "data": {
      "text/html": [
       "<div>\n",
       "<style scoped>\n",
       "    .dataframe tbody tr th:only-of-type {\n",
       "        vertical-align: middle;\n",
       "    }\n",
       "\n",
       "    .dataframe tbody tr th {\n",
       "        vertical-align: top;\n",
       "    }\n",
       "\n",
       "    .dataframe thead th {\n",
       "        text-align: right;\n",
       "    }\n",
       "</style>\n",
       "<table border=\"1\" class=\"dataframe\">\n",
       "  <thead>\n",
       "    <tr style=\"text-align: right;\">\n",
       "      <th></th>\n",
       "      <th>patient_id</th>\n",
       "      <th>ndc_code</th>\n",
       "      <th>drug_name</th>\n",
       "      <th>start_date</th>\n",
       "      <th>end_date</th>\n",
       "      <th>days_supply</th>\n",
       "      <th>provider_id</th>\n",
       "      <th>specialty</th>\n",
       "      <th>diagnosis_code</th>\n",
       "      <th>region</th>\n",
       "      <th>previous_end</th>\n",
       "      <th>gap_days</th>\n",
       "      <th>new_start</th>\n",
       "      <th>last_med_date</th>\n",
       "    </tr>\n",
       "  </thead>\n",
       "  <tbody>\n",
       "    <tr>\n",
       "      <th>1193</th>\n",
       "      <td>P10074</td>\n",
       "      <td>20561-3267</td>\n",
       "      <td>Drug_C</td>\n",
       "      <td>2022-04-06</td>\n",
       "      <td>2022-07-05</td>\n",
       "      <td>90</td>\n",
       "      <td>HCP8043</td>\n",
       "      <td>General</td>\n",
       "      <td>D654</td>\n",
       "      <td>South</td>\n",
       "      <td>NaN</td>\n",
       "      <td>-1.0</td>\n",
       "      <td>0</td>\n",
       "      <td>2024-10-12</td>\n",
       "    </tr>\n",
       "    <tr>\n",
       "      <th>1937</th>\n",
       "      <td>P10074</td>\n",
       "      <td>29769-4788</td>\n",
       "      <td>Drug_D</td>\n",
       "      <td>2022-06-26</td>\n",
       "      <td>2022-09-24</td>\n",
       "      <td>90</td>\n",
       "      <td>HCP7790</td>\n",
       "      <td>General</td>\n",
       "      <td>D123</td>\n",
       "      <td>North</td>\n",
       "      <td>2022-07-05</td>\n",
       "      <td>-9.0</td>\n",
       "      <td>0</td>\n",
       "      <td>2024-10-12</td>\n",
       "    </tr>\n",
       "  </tbody>\n",
       "</table>\n",
       "</div>"
      ],
      "text/plain": [
       "     patient_id    ndc_code drug_name  start_date    end_date  days_supply  \\\n",
       "1193     P10074  20561-3267    Drug_C  2022-04-06  2022-07-05           90   \n",
       "1937     P10074  29769-4788    Drug_D  2022-06-26  2022-09-24           90   \n",
       "\n",
       "     provider_id specialty diagnosis_code region previous_end  gap_days  \\\n",
       "1193     HCP8043   General           D654  South          NaN      -1.0   \n",
       "1937     HCP7790   General           D123  North   2022-07-05      -9.0   \n",
       "\n",
       "      new_start last_med_date  \n",
       "1193          0    2024-10-12  \n",
       "1937          0    2024-10-12  "
      ]
     },
     "execution_count": 104,
     "metadata": {},
     "output_type": "execute_result"
    }
   ],
   "source": [
    "claims_sorted['last_med_date'] = claims_sorted.groupby('patient_id')['end_date'].transform('max')\n",
    "claims_sorted['last_med_date']=claims_sorted.groupby('patient_id')['end_date'].transform('max')\n",
    "claims_sorted.head(2)"
   ]
  },
  {
   "cell_type": "code",
   "execution_count": 105,
   "id": "92254bd4",
   "metadata": {
    "execution": {
     "iopub.execute_input": "2025-10-02T22:09:57.078840Z",
     "iopub.status.busy": "2025-10-02T22:09:57.078506Z",
     "iopub.status.idle": "2025-10-02T22:09:57.085989Z",
     "shell.execute_reply": "2025-10-02T22:09:57.084783Z",
     "shell.execute_reply.started": "2025-10-02T22:09:57.078820Z"
    }
   },
   "outputs": [],
   "source": [
    "from datetime import datetime\n",
    "claims_sorted['todays_date'] = pd.to_datetime(datetime.today().strftime('%Y-%m-%d'))"
   ]
  },
  {
   "cell_type": "code",
   "execution_count": 106,
   "id": "ab3d707b",
   "metadata": {
    "execution": {
     "iopub.execute_input": "2025-10-02T22:09:57.087540Z",
     "iopub.status.busy": "2025-10-02T22:09:57.087163Z",
     "iopub.status.idle": "2025-10-02T22:09:57.130057Z",
     "shell.execute_reply": "2025-10-02T22:09:57.129054Z",
     "shell.execute_reply.started": "2025-10-02T22:09:57.087512Z"
    }
   },
   "outputs": [
    {
     "data": {
      "text/html": [
       "<div>\n",
       "<style scoped>\n",
       "    .dataframe tbody tr th:only-of-type {\n",
       "        vertical-align: middle;\n",
       "    }\n",
       "\n",
       "    .dataframe tbody tr th {\n",
       "        vertical-align: top;\n",
       "    }\n",
       "\n",
       "    .dataframe thead th {\n",
       "        text-align: right;\n",
       "    }\n",
       "</style>\n",
       "<table border=\"1\" class=\"dataframe\">\n",
       "  <thead>\n",
       "    <tr style=\"text-align: right;\">\n",
       "      <th></th>\n",
       "      <th>patient_id</th>\n",
       "      <th>ndc_code</th>\n",
       "      <th>drug_name</th>\n",
       "      <th>start_date</th>\n",
       "      <th>end_date</th>\n",
       "      <th>days_supply</th>\n",
       "      <th>provider_id</th>\n",
       "      <th>specialty</th>\n",
       "      <th>diagnosis_code</th>\n",
       "      <th>region</th>\n",
       "      <th>previous_end</th>\n",
       "      <th>gap_days</th>\n",
       "      <th>new_start</th>\n",
       "      <th>last_med_date</th>\n",
       "      <th>todays_date</th>\n",
       "      <th>last_med_days_count</th>\n",
       "    </tr>\n",
       "  </thead>\n",
       "  <tbody>\n",
       "    <tr>\n",
       "      <th>1193</th>\n",
       "      <td>P10074</td>\n",
       "      <td>20561-3267</td>\n",
       "      <td>Drug_C</td>\n",
       "      <td>2022-04-06</td>\n",
       "      <td>2022-07-05</td>\n",
       "      <td>90</td>\n",
       "      <td>HCP8043</td>\n",
       "      <td>General</td>\n",
       "      <td>D654</td>\n",
       "      <td>South</td>\n",
       "      <td>NaN</td>\n",
       "      <td>-1.0</td>\n",
       "      <td>0</td>\n",
       "      <td>2024-10-12</td>\n",
       "      <td>2025-10-02</td>\n",
       "      <td>355</td>\n",
       "    </tr>\n",
       "    <tr>\n",
       "      <th>1937</th>\n",
       "      <td>P10074</td>\n",
       "      <td>29769-4788</td>\n",
       "      <td>Drug_D</td>\n",
       "      <td>2022-06-26</td>\n",
       "      <td>2022-09-24</td>\n",
       "      <td>90</td>\n",
       "      <td>HCP7790</td>\n",
       "      <td>General</td>\n",
       "      <td>D123</td>\n",
       "      <td>North</td>\n",
       "      <td>2022-07-05</td>\n",
       "      <td>-9.0</td>\n",
       "      <td>0</td>\n",
       "      <td>2024-10-12</td>\n",
       "      <td>2025-10-02</td>\n",
       "      <td>355</td>\n",
       "    </tr>\n",
       "  </tbody>\n",
       "</table>\n",
       "</div>"
      ],
      "text/plain": [
       "     patient_id    ndc_code drug_name  start_date    end_date  days_supply  \\\n",
       "1193     P10074  20561-3267    Drug_C  2022-04-06  2022-07-05           90   \n",
       "1937     P10074  29769-4788    Drug_D  2022-06-26  2022-09-24           90   \n",
       "\n",
       "     provider_id specialty diagnosis_code region previous_end  gap_days  \\\n",
       "1193     HCP8043   General           D654  South          NaN      -1.0   \n",
       "1937     HCP7790   General           D123  North   2022-07-05      -9.0   \n",
       "\n",
       "      new_start last_med_date todays_date  last_med_days_count  \n",
       "1193          0    2024-10-12  2025-10-02                  355  \n",
       "1937          0    2024-10-12  2025-10-02                  355  "
      ]
     },
     "execution_count": 106,
     "metadata": {},
     "output_type": "execute_result"
    }
   ],
   "source": [
    "claims_sorted['last_med_days_count']=pd.to_datetime(claims_sorted['todays_date'])-pd.to_datetime(claims_sorted['last_med_date'])\n",
    "claims_sorted['last_med_days_count'] = claims_sorted['last_med_days_count'].dt.days\n",
    "claims_sorted['last_med_days_count'] = claims_sorted['last_med_days_count'].fillna(-1)\n",
    "claims_sorted.head(2)"
   ]
  },
  {
   "cell_type": "code",
   "execution_count": 107,
   "id": "01975444",
   "metadata": {
    "execution": {
     "iopub.execute_input": "2025-10-02T22:09:57.131696Z",
     "iopub.status.busy": "2025-10-02T22:09:57.131321Z",
     "iopub.status.idle": "2025-10-02T22:09:57.138356Z",
     "shell.execute_reply": "2025-10-02T22:09:57.137261Z",
     "shell.execute_reply.started": "2025-10-02T22:09:57.131665Z"
    }
   },
   "outputs": [],
   "source": [
    "claims_sorted['discontinued'] = (claims_sorted['last_med_days_count'] > 365).astype(int)"
   ]
  },
  {
   "cell_type": "code",
   "execution_count": 108,
   "id": "b8d2b8d2",
   "metadata": {
    "execution": {
     "iopub.execute_input": "2025-10-02T22:09:57.139698Z",
     "iopub.status.busy": "2025-10-02T22:09:57.139437Z",
     "iopub.status.idle": "2025-10-02T22:09:57.169146Z",
     "shell.execute_reply": "2025-10-02T22:09:57.167915Z",
     "shell.execute_reply.started": "2025-10-02T22:09:57.139679Z"
    }
   },
   "outputs": [
    {
     "name": "stdout",
     "output_type": "stream",
     "text": [
      "Total patients : 497\n",
      "New start patients : 390\n",
      "Discounted patients : 210\n",
      "New and Discounted patients : 144\n"
     ]
    }
   ],
   "source": [
    "print(\"Total patients :\",claims_sorted['patient_id'].nunique())\n",
    "print(\"New start patients :\",claims_sorted[claims_sorted['new_start'] == 1]['patient_id'].nunique())\n",
    "print(\"Discounted patients :\",claims_sorted[claims_sorted['discontinued'] == 1]['patient_id'].nunique())\n",
    "print(\"New and Discounted patients :\",claims_sorted[(claims_sorted['new_start'] == 1) & (claims_sorted['discontinued'] == 1)]['patient_id'].nunique())"
   ]
  },
  {
   "cell_type": "code",
   "execution_count": 109,
   "id": "b39e28fa",
   "metadata": {
    "execution": {
     "iopub.execute_input": "2025-10-02T22:09:57.170569Z",
     "iopub.status.busy": "2025-10-02T22:09:57.170228Z",
     "iopub.status.idle": "2025-10-02T22:09:57.206387Z",
     "shell.execute_reply": "2025-10-02T22:09:57.204699Z",
     "shell.execute_reply.started": "2025-10-02T22:09:57.170541Z"
    }
   },
   "outputs": [
    {
     "data": {
      "text/html": [
       "<div>\n",
       "<style scoped>\n",
       "    .dataframe tbody tr th:only-of-type {\n",
       "        vertical-align: middle;\n",
       "    }\n",
       "\n",
       "    .dataframe tbody tr th {\n",
       "        vertical-align: top;\n",
       "    }\n",
       "\n",
       "    .dataframe thead th {\n",
       "        text-align: right;\n",
       "    }\n",
       "</style>\n",
       "<table border=\"1\" class=\"dataframe\">\n",
       "  <thead>\n",
       "    <tr style=\"text-align: right;\">\n",
       "      <th></th>\n",
       "      <th>patient_id</th>\n",
       "      <th>ndc_code</th>\n",
       "      <th>drug_name</th>\n",
       "      <th>start_date</th>\n",
       "      <th>end_date</th>\n",
       "      <th>days_supply</th>\n",
       "      <th>provider_id</th>\n",
       "      <th>specialty</th>\n",
       "      <th>diagnosis_code</th>\n",
       "      <th>region</th>\n",
       "      <th>previous_end</th>\n",
       "      <th>gap_days</th>\n",
       "      <th>new_start</th>\n",
       "      <th>last_med_date</th>\n",
       "      <th>todays_date</th>\n",
       "      <th>last_med_days_count</th>\n",
       "      <th>discontinued</th>\n",
       "    </tr>\n",
       "  </thead>\n",
       "  <tbody>\n",
       "    <tr>\n",
       "      <th>1193</th>\n",
       "      <td>P10074</td>\n",
       "      <td>20561-3267</td>\n",
       "      <td>Drug_C</td>\n",
       "      <td>2022-04-06</td>\n",
       "      <td>2022-07-05</td>\n",
       "      <td>90</td>\n",
       "      <td>HCP8043</td>\n",
       "      <td>General</td>\n",
       "      <td>D654</td>\n",
       "      <td>South</td>\n",
       "      <td>NaN</td>\n",
       "      <td>-1.0</td>\n",
       "      <td>0</td>\n",
       "      <td>2024-10-12</td>\n",
       "      <td>2025-10-02</td>\n",
       "      <td>355</td>\n",
       "      <td>0</td>\n",
       "    </tr>\n",
       "    <tr>\n",
       "      <th>1937</th>\n",
       "      <td>P10074</td>\n",
       "      <td>29769-4788</td>\n",
       "      <td>Drug_D</td>\n",
       "      <td>2022-06-26</td>\n",
       "      <td>2022-09-24</td>\n",
       "      <td>90</td>\n",
       "      <td>HCP7790</td>\n",
       "      <td>General</td>\n",
       "      <td>D123</td>\n",
       "      <td>North</td>\n",
       "      <td>2022-07-05</td>\n",
       "      <td>-9.0</td>\n",
       "      <td>0</td>\n",
       "      <td>2024-10-12</td>\n",
       "      <td>2025-10-02</td>\n",
       "      <td>355</td>\n",
       "      <td>0</td>\n",
       "    </tr>\n",
       "    <tr>\n",
       "      <th>1038</th>\n",
       "      <td>P10074</td>\n",
       "      <td>51904-9849</td>\n",
       "      <td>Drug_B</td>\n",
       "      <td>2022-07-29</td>\n",
       "      <td>2022-08-28</td>\n",
       "      <td>30</td>\n",
       "      <td>HCP6344</td>\n",
       "      <td>General</td>\n",
       "      <td>D456</td>\n",
       "      <td>South</td>\n",
       "      <td>2022-09-24</td>\n",
       "      <td>-57.0</td>\n",
       "      <td>0</td>\n",
       "      <td>2024-10-12</td>\n",
       "      <td>2025-10-02</td>\n",
       "      <td>355</td>\n",
       "      <td>0</td>\n",
       "    </tr>\n",
       "  </tbody>\n",
       "</table>\n",
       "</div>"
      ],
      "text/plain": [
       "     patient_id    ndc_code drug_name  start_date    end_date  days_supply  \\\n",
       "1193     P10074  20561-3267    Drug_C  2022-04-06  2022-07-05           90   \n",
       "1937     P10074  29769-4788    Drug_D  2022-06-26  2022-09-24           90   \n",
       "1038     P10074  51904-9849    Drug_B  2022-07-29  2022-08-28           30   \n",
       "\n",
       "     provider_id specialty diagnosis_code region previous_end  gap_days  \\\n",
       "1193     HCP8043   General           D654  South          NaN      -1.0   \n",
       "1937     HCP7790   General           D123  North   2022-07-05      -9.0   \n",
       "1038     HCP6344   General           D456  South   2022-09-24     -57.0   \n",
       "\n",
       "      new_start last_med_date todays_date  last_med_days_count  discontinued  \n",
       "1193          0    2024-10-12  2025-10-02                  355             0  \n",
       "1937          0    2024-10-12  2025-10-02                  355             0  \n",
       "1038          0    2024-10-12  2025-10-02                  355             0  "
      ]
     },
     "execution_count": 109,
     "metadata": {},
     "output_type": "execute_result"
    }
   ],
   "source": [
    "row_count = len(claims_sorted)\n",
    "row_count\n",
    "row_count = claims_sorted.shape[0]\n",
    "row_count\n",
    "claims_sorted.head(3)"
   ]
  },
  {
   "cell_type": "code",
   "execution_count": 110,
   "id": "ef50e90e",
   "metadata": {
    "execution": {
     "iopub.execute_input": "2025-10-02T22:09:57.208639Z",
     "iopub.status.busy": "2025-10-02T22:09:57.208300Z",
     "iopub.status.idle": "2025-10-02T22:09:57.235670Z",
     "shell.execute_reply": "2025-10-02T22:09:57.234830Z",
     "shell.execute_reply.started": "2025-10-02T22:09:57.208603Z"
    }
   },
   "outputs": [
    {
     "name": "stdout",
     "output_type": "stream",
     "text": [
      "Market rows: 5\n",
      "Market distinct rows: 5\n"
     ]
    },
    {
     "data": {
      "text/html": [
       "<div>\n",
       "<style scoped>\n",
       "    .dataframe tbody tr th:only-of-type {\n",
       "        vertical-align: middle;\n",
       "    }\n",
       "\n",
       "    .dataframe tbody tr th {\n",
       "        vertical-align: top;\n",
       "    }\n",
       "\n",
       "    .dataframe thead th {\n",
       "        text-align: right;\n",
       "    }\n",
       "</style>\n",
       "<table border=\"1\" class=\"dataframe\">\n",
       "  <thead>\n",
       "    <tr style=\"text-align: right;\">\n",
       "      <th></th>\n",
       "      <th>brand_name</th>\n",
       "      <th>molecule</th>\n",
       "      <th>therapeutic_class</th>\n",
       "    </tr>\n",
       "  </thead>\n",
       "  <tbody>\n",
       "    <tr>\n",
       "      <th>0</th>\n",
       "      <td>Drug_A</td>\n",
       "      <td>Molecule_0</td>\n",
       "      <td>Class_A</td>\n",
       "    </tr>\n",
       "    <tr>\n",
       "      <th>1</th>\n",
       "      <td>Drug_B</td>\n",
       "      <td>Molecule_1</td>\n",
       "      <td>Class_B</td>\n",
       "    </tr>\n",
       "  </tbody>\n",
       "</table>\n",
       "</div>"
      ],
      "text/plain": [
       "  brand_name    molecule therapeutic_class\n",
       "0     Drug_A  Molecule_0           Class_A\n",
       "1     Drug_B  Molecule_1           Class_B"
      ]
     },
     "execution_count": 110,
     "metadata": {},
     "output_type": "execute_result"
    }
   ],
   "source": [
    "market_distinct = market.drop_duplicates()\n",
    "print(\"Market rows:\",len(market))\n",
    "print(\"Market distinct rows:\",len(market_distinct))\n",
    "market_distinct.head(2)"
   ]
  },
  {
   "cell_type": "code",
   "execution_count": 111,
   "id": "516b21d8",
   "metadata": {
    "execution": {
     "iopub.execute_input": "2025-10-02T22:09:57.237271Z",
     "iopub.status.busy": "2025-10-02T22:09:57.236893Z",
     "iopub.status.idle": "2025-10-02T22:09:57.272585Z",
     "shell.execute_reply": "2025-10-02T22:09:57.271183Z",
     "shell.execute_reply.started": "2025-10-02T22:09:57.237239Z"
    }
   },
   "outputs": [
    {
     "data": {
      "text/html": [
       "<div>\n",
       "<style scoped>\n",
       "    .dataframe tbody tr th:only-of-type {\n",
       "        vertical-align: middle;\n",
       "    }\n",
       "\n",
       "    .dataframe tbody tr th {\n",
       "        vertical-align: top;\n",
       "    }\n",
       "\n",
       "    .dataframe thead th {\n",
       "        text-align: right;\n",
       "    }\n",
       "</style>\n",
       "<table border=\"1\" class=\"dataframe\">\n",
       "  <thead>\n",
       "    <tr style=\"text-align: right;\">\n",
       "      <th></th>\n",
       "      <th>patient_id</th>\n",
       "      <th>ndc_code</th>\n",
       "      <th>drug_name</th>\n",
       "      <th>start_date</th>\n",
       "      <th>end_date</th>\n",
       "      <th>days_supply</th>\n",
       "      <th>provider_id</th>\n",
       "      <th>specialty</th>\n",
       "      <th>diagnosis_code</th>\n",
       "      <th>region</th>\n",
       "      <th>previous_end</th>\n",
       "      <th>gap_days</th>\n",
       "      <th>new_start</th>\n",
       "      <th>last_med_date</th>\n",
       "      <th>todays_date</th>\n",
       "      <th>last_med_days_count</th>\n",
       "      <th>discontinued</th>\n",
       "    </tr>\n",
       "  </thead>\n",
       "  <tbody>\n",
       "    <tr>\n",
       "      <th>1193</th>\n",
       "      <td>P10074</td>\n",
       "      <td>20561-3267</td>\n",
       "      <td>Drug_C</td>\n",
       "      <td>2022-04-06</td>\n",
       "      <td>2022-07-05</td>\n",
       "      <td>90</td>\n",
       "      <td>HCP8043</td>\n",
       "      <td>General</td>\n",
       "      <td>D654</td>\n",
       "      <td>South</td>\n",
       "      <td>NaN</td>\n",
       "      <td>-1.0</td>\n",
       "      <td>0</td>\n",
       "      <td>2024-10-12</td>\n",
       "      <td>2025-10-02</td>\n",
       "      <td>355</td>\n",
       "      <td>0</td>\n",
       "    </tr>\n",
       "    <tr>\n",
       "      <th>1937</th>\n",
       "      <td>P10074</td>\n",
       "      <td>29769-4788</td>\n",
       "      <td>Drug_D</td>\n",
       "      <td>2022-06-26</td>\n",
       "      <td>2022-09-24</td>\n",
       "      <td>90</td>\n",
       "      <td>HCP7790</td>\n",
       "      <td>General</td>\n",
       "      <td>D123</td>\n",
       "      <td>North</td>\n",
       "      <td>2022-07-05</td>\n",
       "      <td>-9.0</td>\n",
       "      <td>0</td>\n",
       "      <td>2024-10-12</td>\n",
       "      <td>2025-10-02</td>\n",
       "      <td>355</td>\n",
       "      <td>0</td>\n",
       "    </tr>\n",
       "  </tbody>\n",
       "</table>\n",
       "</div>"
      ],
      "text/plain": [
       "     patient_id    ndc_code drug_name  start_date    end_date  days_supply  \\\n",
       "1193     P10074  20561-3267    Drug_C  2022-04-06  2022-07-05           90   \n",
       "1937     P10074  29769-4788    Drug_D  2022-06-26  2022-09-24           90   \n",
       "\n",
       "     provider_id specialty diagnosis_code region previous_end  gap_days  \\\n",
       "1193     HCP8043   General           D654  South          NaN      -1.0   \n",
       "1937     HCP7790   General           D123  North   2022-07-05      -9.0   \n",
       "\n",
       "      new_start last_med_date todays_date  last_med_days_count  discontinued  \n",
       "1193          0    2024-10-12  2025-10-02                  355             0  \n",
       "1937          0    2024-10-12  2025-10-02                  355             0  "
      ]
     },
     "execution_count": 111,
     "metadata": {},
     "output_type": "execute_result"
    }
   ],
   "source": [
    "claims_sorted.head(2)"
   ]
  },
  {
   "cell_type": "code",
   "execution_count": 112,
   "id": "280ca7ab",
   "metadata": {
    "execution": {
     "iopub.execute_input": "2025-10-02T22:09:57.274846Z",
     "iopub.status.busy": "2025-10-02T22:09:57.274458Z",
     "iopub.status.idle": "2025-10-02T22:09:57.307414Z",
     "shell.execute_reply": "2025-10-02T22:09:57.305900Z",
     "shell.execute_reply.started": "2025-10-02T22:09:57.274815Z"
    }
   },
   "outputs": [],
   "source": [
    "claims_merged = claims_sorted.merge(\n",
    "    market_distinct,\n",
    "    how='left',\n",
    "    left_on='drug_name',\n",
    "    right_on='brand_name'\n",
    ")"
   ]
  },
  {
   "cell_type": "code",
   "execution_count": 113,
   "id": "75d6eea8",
   "metadata": {
    "execution": {
     "iopub.execute_input": "2025-10-02T22:09:57.309160Z",
     "iopub.status.busy": "2025-10-02T22:09:57.308397Z",
     "iopub.status.idle": "2025-10-02T22:09:57.334423Z",
     "shell.execute_reply": "2025-10-02T22:09:57.332986Z",
     "shell.execute_reply.started": "2025-10-02T22:09:57.309135Z"
    }
   },
   "outputs": [
    {
     "data": {
      "text/html": [
       "<div>\n",
       "<style scoped>\n",
       "    .dataframe tbody tr th:only-of-type {\n",
       "        vertical-align: middle;\n",
       "    }\n",
       "\n",
       "    .dataframe tbody tr th {\n",
       "        vertical-align: top;\n",
       "    }\n",
       "\n",
       "    .dataframe thead th {\n",
       "        text-align: right;\n",
       "    }\n",
       "</style>\n",
       "<table border=\"1\" class=\"dataframe\">\n",
       "  <thead>\n",
       "    <tr style=\"text-align: right;\">\n",
       "      <th></th>\n",
       "      <th>patient_id</th>\n",
       "      <th>ndc_code</th>\n",
       "      <th>drug_name</th>\n",
       "      <th>start_date</th>\n",
       "      <th>end_date</th>\n",
       "      <th>days_supply</th>\n",
       "      <th>provider_id</th>\n",
       "      <th>specialty</th>\n",
       "      <th>diagnosis_code</th>\n",
       "      <th>region</th>\n",
       "      <th>previous_end</th>\n",
       "      <th>gap_days</th>\n",
       "      <th>new_start</th>\n",
       "      <th>last_med_date</th>\n",
       "      <th>todays_date</th>\n",
       "      <th>last_med_days_count</th>\n",
       "      <th>discontinued</th>\n",
       "      <th>brand_name</th>\n",
       "      <th>molecule</th>\n",
       "      <th>therapeutic_class</th>\n",
       "    </tr>\n",
       "  </thead>\n",
       "  <tbody>\n",
       "    <tr>\n",
       "      <th>0</th>\n",
       "      <td>P10074</td>\n",
       "      <td>20561-3267</td>\n",
       "      <td>Drug_C</td>\n",
       "      <td>2022-04-06</td>\n",
       "      <td>2022-07-05</td>\n",
       "      <td>90</td>\n",
       "      <td>HCP8043</td>\n",
       "      <td>General</td>\n",
       "      <td>D654</td>\n",
       "      <td>South</td>\n",
       "      <td>NaN</td>\n",
       "      <td>-1.0</td>\n",
       "      <td>0</td>\n",
       "      <td>2024-10-12</td>\n",
       "      <td>2025-10-02</td>\n",
       "      <td>355</td>\n",
       "      <td>0</td>\n",
       "      <td>Drug_C</td>\n",
       "      <td>Molecule_2</td>\n",
       "      <td>Class_C</td>\n",
       "    </tr>\n",
       "    <tr>\n",
       "      <th>1</th>\n",
       "      <td>P10074</td>\n",
       "      <td>29769-4788</td>\n",
       "      <td>Drug_D</td>\n",
       "      <td>2022-06-26</td>\n",
       "      <td>2022-09-24</td>\n",
       "      <td>90</td>\n",
       "      <td>HCP7790</td>\n",
       "      <td>General</td>\n",
       "      <td>D123</td>\n",
       "      <td>North</td>\n",
       "      <td>2022-07-05</td>\n",
       "      <td>-9.0</td>\n",
       "      <td>0</td>\n",
       "      <td>2024-10-12</td>\n",
       "      <td>2025-10-02</td>\n",
       "      <td>355</td>\n",
       "      <td>0</td>\n",
       "      <td>Drug_D</td>\n",
       "      <td>Molecule_3</td>\n",
       "      <td>Class_A</td>\n",
       "    </tr>\n",
       "  </tbody>\n",
       "</table>\n",
       "</div>"
      ],
      "text/plain": [
       "  patient_id    ndc_code drug_name  start_date    end_date  days_supply  \\\n",
       "0     P10074  20561-3267    Drug_C  2022-04-06  2022-07-05           90   \n",
       "1     P10074  29769-4788    Drug_D  2022-06-26  2022-09-24           90   \n",
       "\n",
       "  provider_id specialty diagnosis_code region previous_end  gap_days  \\\n",
       "0     HCP8043   General           D654  South          NaN      -1.0   \n",
       "1     HCP7790   General           D123  North   2022-07-05      -9.0   \n",
       "\n",
       "   new_start last_med_date todays_date  last_med_days_count  discontinued  \\\n",
       "0          0    2024-10-12  2025-10-02                  355             0   \n",
       "1          0    2024-10-12  2025-10-02                  355             0   \n",
       "\n",
       "  brand_name    molecule therapeutic_class  \n",
       "0     Drug_C  Molecule_2           Class_C  \n",
       "1     Drug_D  Molecule_3           Class_A  "
      ]
     },
     "execution_count": 113,
     "metadata": {},
     "output_type": "execute_result"
    }
   ],
   "source": [
    "claims_merged.head(2)"
   ]
  },
  {
   "cell_type": "code",
   "execution_count": 114,
   "id": "66160410",
   "metadata": {
    "execution": {
     "iopub.execute_input": "2025-10-02T22:09:57.335950Z",
     "iopub.status.busy": "2025-10-02T22:09:57.335587Z",
     "iopub.status.idle": "2025-10-02T22:09:57.360856Z",
     "shell.execute_reply": "2025-10-02T22:09:57.359120Z",
     "shell.execute_reply.started": "2025-10-02T22:09:57.335926Z"
    }
   },
   "outputs": [],
   "source": [
    "claims_switch_base=claims_merged[['patient_id','drug_name','molecule','start_date','end_date','previous_end','gap_days','new_start','last_med_date','discontinued']]"
   ]
  },
  {
   "cell_type": "code",
   "execution_count": 115,
   "id": "6b37b0ce",
   "metadata": {
    "execution": {
     "iopub.execute_input": "2025-10-02T22:09:57.368680Z",
     "iopub.status.busy": "2025-10-02T22:09:57.367164Z",
     "iopub.status.idle": "2025-10-02T22:09:57.390127Z",
     "shell.execute_reply": "2025-10-02T22:09:57.388825Z",
     "shell.execute_reply.started": "2025-10-02T22:09:57.368638Z"
    }
   },
   "outputs": [
    {
     "data": {
      "text/plain": [
       "3000"
      ]
     },
     "execution_count": 115,
     "metadata": {},
     "output_type": "execute_result"
    }
   ],
   "source": [
    "len(claims_switch_base)"
   ]
  },
  {
   "cell_type": "code",
   "execution_count": 116,
   "id": "b20aebdc",
   "metadata": {
    "execution": {
     "iopub.execute_input": "2025-10-02T22:09:57.392154Z",
     "iopub.status.busy": "2025-10-02T22:09:57.391798Z",
     "iopub.status.idle": "2025-10-02T22:09:57.415759Z",
     "shell.execute_reply": "2025-10-02T22:09:57.414585Z",
     "shell.execute_reply.started": "2025-10-02T22:09:57.392121Z"
    }
   },
   "outputs": [
    {
     "data": {
      "text/plain": [
       "3000"
      ]
     },
     "execution_count": 116,
     "metadata": {},
     "output_type": "execute_result"
    }
   ],
   "source": [
    "len(claims_sorted)"
   ]
  },
  {
   "cell_type": "code",
   "execution_count": 117,
   "id": "c998f585",
   "metadata": {
    "execution": {
     "iopub.execute_input": "2025-10-02T22:09:57.417140Z",
     "iopub.status.busy": "2025-10-02T22:09:57.416844Z",
     "iopub.status.idle": "2025-10-02T22:09:57.446387Z",
     "shell.execute_reply": "2025-10-02T22:09:57.445049Z",
     "shell.execute_reply.started": "2025-10-02T22:09:57.417110Z"
    }
   },
   "outputs": [
    {
     "data": {
      "text/html": [
       "<div>\n",
       "<style scoped>\n",
       "    .dataframe tbody tr th:only-of-type {\n",
       "        vertical-align: middle;\n",
       "    }\n",
       "\n",
       "    .dataframe tbody tr th {\n",
       "        vertical-align: top;\n",
       "    }\n",
       "\n",
       "    .dataframe thead th {\n",
       "        text-align: right;\n",
       "    }\n",
       "</style>\n",
       "<table border=\"1\" class=\"dataframe\">\n",
       "  <thead>\n",
       "    <tr style=\"text-align: right;\">\n",
       "      <th></th>\n",
       "      <th>patient_id</th>\n",
       "      <th>drug_name</th>\n",
       "      <th>molecule</th>\n",
       "      <th>start_date</th>\n",
       "      <th>end_date</th>\n",
       "      <th>previous_end</th>\n",
       "      <th>gap_days</th>\n",
       "      <th>new_start</th>\n",
       "      <th>last_med_date</th>\n",
       "      <th>discontinued</th>\n",
       "    </tr>\n",
       "  </thead>\n",
       "  <tbody>\n",
       "    <tr>\n",
       "      <th>0</th>\n",
       "      <td>P10074</td>\n",
       "      <td>Drug_C</td>\n",
       "      <td>Molecule_2</td>\n",
       "      <td>2022-04-06</td>\n",
       "      <td>2022-07-05</td>\n",
       "      <td>NaN</td>\n",
       "      <td>-1.0</td>\n",
       "      <td>0</td>\n",
       "      <td>2024-10-12</td>\n",
       "      <td>0</td>\n",
       "    </tr>\n",
       "    <tr>\n",
       "      <th>1</th>\n",
       "      <td>P10074</td>\n",
       "      <td>Drug_D</td>\n",
       "      <td>Molecule_3</td>\n",
       "      <td>2022-06-26</td>\n",
       "      <td>2022-09-24</td>\n",
       "      <td>2022-07-05</td>\n",
       "      <td>-9.0</td>\n",
       "      <td>0</td>\n",
       "      <td>2024-10-12</td>\n",
       "      <td>0</td>\n",
       "    </tr>\n",
       "    <tr>\n",
       "      <th>2</th>\n",
       "      <td>P10074</td>\n",
       "      <td>Drug_B</td>\n",
       "      <td>Molecule_1</td>\n",
       "      <td>2022-07-29</td>\n",
       "      <td>2022-08-28</td>\n",
       "      <td>2022-09-24</td>\n",
       "      <td>-57.0</td>\n",
       "      <td>0</td>\n",
       "      <td>2024-10-12</td>\n",
       "      <td>0</td>\n",
       "    </tr>\n",
       "    <tr>\n",
       "      <th>3</th>\n",
       "      <td>P10074</td>\n",
       "      <td>Drug_E</td>\n",
       "      <td>Molecule_4</td>\n",
       "      <td>2022-11-23</td>\n",
       "      <td>2023-02-21</td>\n",
       "      <td>2022-08-28</td>\n",
       "      <td>87.0</td>\n",
       "      <td>0</td>\n",
       "      <td>2024-10-12</td>\n",
       "      <td>0</td>\n",
       "    </tr>\n",
       "    <tr>\n",
       "      <th>4</th>\n",
       "      <td>P10074</td>\n",
       "      <td>Drug_C</td>\n",
       "      <td>Molecule_2</td>\n",
       "      <td>2023-08-21</td>\n",
       "      <td>2023-11-19</td>\n",
       "      <td>2023-02-21</td>\n",
       "      <td>181.0</td>\n",
       "      <td>1</td>\n",
       "      <td>2024-10-12</td>\n",
       "      <td>0</td>\n",
       "    </tr>\n",
       "  </tbody>\n",
       "</table>\n",
       "</div>"
      ],
      "text/plain": [
       "  patient_id drug_name    molecule  start_date    end_date previous_end  \\\n",
       "0     P10074    Drug_C  Molecule_2  2022-04-06  2022-07-05          NaN   \n",
       "1     P10074    Drug_D  Molecule_3  2022-06-26  2022-09-24   2022-07-05   \n",
       "2     P10074    Drug_B  Molecule_1  2022-07-29  2022-08-28   2022-09-24   \n",
       "3     P10074    Drug_E  Molecule_4  2022-11-23  2023-02-21   2022-08-28   \n",
       "4     P10074    Drug_C  Molecule_2  2023-08-21  2023-11-19   2023-02-21   \n",
       "\n",
       "   gap_days  new_start last_med_date  discontinued  \n",
       "0      -1.0          0    2024-10-12             0  \n",
       "1      -9.0          0    2024-10-12             0  \n",
       "2     -57.0          0    2024-10-12             0  \n",
       "3      87.0          0    2024-10-12             0  \n",
       "4     181.0          1    2024-10-12             0  "
      ]
     },
     "execution_count": 117,
     "metadata": {},
     "output_type": "execute_result"
    }
   ],
   "source": [
    "claims_switch_base.head(5)"
   ]
  },
  {
   "cell_type": "code",
   "execution_count": 118,
   "id": "b700fe91",
   "metadata": {
    "execution": {
     "iopub.execute_input": "2025-10-02T22:09:57.447602Z",
     "iopub.status.busy": "2025-10-02T22:09:57.447369Z",
     "iopub.status.idle": "2025-10-02T22:09:57.470850Z",
     "shell.execute_reply": "2025-10-02T22:09:57.469761Z",
     "shell.execute_reply.started": "2025-10-02T22:09:57.447584Z"
    }
   },
   "outputs": [
    {
     "name": "stderr",
     "output_type": "stream",
     "text": [
      "/tmp/ipykernel_149/2728594592.py:2: SettingWithCopyWarning: \n",
      "A value is trying to be set on a copy of a slice from a DataFrame.\n",
      "Try using .loc[row_indexer,col_indexer] = value instead\n",
      "\n",
      "See the caveats in the documentation: https://pandas.pydata.org/pandas-docs/stable/user_guide/indexing.html#returning-a-view-versus-a-copy\n",
      "  claim_sb_2['previous_molecule'] = (\n"
     ]
    }
   ],
   "source": [
    "claim_sb_2=claims_switch_base\n",
    "claim_sb_2['previous_molecule'] = (\n",
    "    claims_switch_base\n",
    "    .groupby('patient_id')['molecule']\n",
    "    .shift(1)\n",
    ")"
   ]
  },
  {
   "cell_type": "code",
   "execution_count": 119,
   "id": "5aa77f55",
   "metadata": {
    "execution": {
     "iopub.execute_input": "2025-10-02T22:09:57.472056Z",
     "iopub.status.busy": "2025-10-02T22:09:57.471821Z",
     "iopub.status.idle": "2025-10-02T22:09:57.506914Z",
     "shell.execute_reply": "2025-10-02T22:09:57.505466Z",
     "shell.execute_reply.started": "2025-10-02T22:09:57.472038Z"
    }
   },
   "outputs": [
    {
     "data": {
      "text/html": [
       "<div>\n",
       "<style scoped>\n",
       "    .dataframe tbody tr th:only-of-type {\n",
       "        vertical-align: middle;\n",
       "    }\n",
       "\n",
       "    .dataframe tbody tr th {\n",
       "        vertical-align: top;\n",
       "    }\n",
       "\n",
       "    .dataframe thead th {\n",
       "        text-align: right;\n",
       "    }\n",
       "</style>\n",
       "<table border=\"1\" class=\"dataframe\">\n",
       "  <thead>\n",
       "    <tr style=\"text-align: right;\">\n",
       "      <th></th>\n",
       "      <th>patient_id</th>\n",
       "      <th>drug_name</th>\n",
       "      <th>molecule</th>\n",
       "      <th>start_date</th>\n",
       "      <th>end_date</th>\n",
       "      <th>previous_end</th>\n",
       "      <th>gap_days</th>\n",
       "      <th>new_start</th>\n",
       "      <th>last_med_date</th>\n",
       "      <th>discontinued</th>\n",
       "      <th>previous_molecule</th>\n",
       "    </tr>\n",
       "  </thead>\n",
       "  <tbody>\n",
       "    <tr>\n",
       "      <th>0</th>\n",
       "      <td>P10074</td>\n",
       "      <td>Drug_C</td>\n",
       "      <td>Molecule_2</td>\n",
       "      <td>2022-04-06</td>\n",
       "      <td>2022-07-05</td>\n",
       "      <td>NaN</td>\n",
       "      <td>-1.0</td>\n",
       "      <td>0</td>\n",
       "      <td>2024-10-12</td>\n",
       "      <td>0</td>\n",
       "      <td>NaN</td>\n",
       "    </tr>\n",
       "    <tr>\n",
       "      <th>1</th>\n",
       "      <td>P10074</td>\n",
       "      <td>Drug_D</td>\n",
       "      <td>Molecule_3</td>\n",
       "      <td>2022-06-26</td>\n",
       "      <td>2022-09-24</td>\n",
       "      <td>2022-07-05</td>\n",
       "      <td>-9.0</td>\n",
       "      <td>0</td>\n",
       "      <td>2024-10-12</td>\n",
       "      <td>0</td>\n",
       "      <td>Molecule_2</td>\n",
       "    </tr>\n",
       "    <tr>\n",
       "      <th>2</th>\n",
       "      <td>P10074</td>\n",
       "      <td>Drug_B</td>\n",
       "      <td>Molecule_1</td>\n",
       "      <td>2022-07-29</td>\n",
       "      <td>2022-08-28</td>\n",
       "      <td>2022-09-24</td>\n",
       "      <td>-57.0</td>\n",
       "      <td>0</td>\n",
       "      <td>2024-10-12</td>\n",
       "      <td>0</td>\n",
       "      <td>Molecule_3</td>\n",
       "    </tr>\n",
       "    <tr>\n",
       "      <th>3</th>\n",
       "      <td>P10074</td>\n",
       "      <td>Drug_E</td>\n",
       "      <td>Molecule_4</td>\n",
       "      <td>2022-11-23</td>\n",
       "      <td>2023-02-21</td>\n",
       "      <td>2022-08-28</td>\n",
       "      <td>87.0</td>\n",
       "      <td>0</td>\n",
       "      <td>2024-10-12</td>\n",
       "      <td>0</td>\n",
       "      <td>Molecule_1</td>\n",
       "    </tr>\n",
       "    <tr>\n",
       "      <th>4</th>\n",
       "      <td>P10074</td>\n",
       "      <td>Drug_C</td>\n",
       "      <td>Molecule_2</td>\n",
       "      <td>2023-08-21</td>\n",
       "      <td>2023-11-19</td>\n",
       "      <td>2023-02-21</td>\n",
       "      <td>181.0</td>\n",
       "      <td>1</td>\n",
       "      <td>2024-10-12</td>\n",
       "      <td>0</td>\n",
       "      <td>Molecule_4</td>\n",
       "    </tr>\n",
       "    <tr>\n",
       "      <th>5</th>\n",
       "      <td>P10074</td>\n",
       "      <td>Drug_A</td>\n",
       "      <td>Molecule_0</td>\n",
       "      <td>2023-10-04</td>\n",
       "      <td>2023-11-03</td>\n",
       "      <td>2023-11-19</td>\n",
       "      <td>-46.0</td>\n",
       "      <td>0</td>\n",
       "      <td>2024-10-12</td>\n",
       "      <td>0</td>\n",
       "      <td>Molecule_2</td>\n",
       "    </tr>\n",
       "    <tr>\n",
       "      <th>6</th>\n",
       "      <td>P10074</td>\n",
       "      <td>Drug_D</td>\n",
       "      <td>Molecule_3</td>\n",
       "      <td>2024-06-04</td>\n",
       "      <td>2024-07-04</td>\n",
       "      <td>2023-11-03</td>\n",
       "      <td>214.0</td>\n",
       "      <td>1</td>\n",
       "      <td>2024-10-12</td>\n",
       "      <td>0</td>\n",
       "      <td>Molecule_0</td>\n",
       "    </tr>\n",
       "    <tr>\n",
       "      <th>7</th>\n",
       "      <td>P10074</td>\n",
       "      <td>Drug_E</td>\n",
       "      <td>Molecule_4</td>\n",
       "      <td>2024-06-07</td>\n",
       "      <td>2024-08-06</td>\n",
       "      <td>2024-07-04</td>\n",
       "      <td>-27.0</td>\n",
       "      <td>0</td>\n",
       "      <td>2024-10-12</td>\n",
       "      <td>0</td>\n",
       "      <td>Molecule_3</td>\n",
       "    </tr>\n",
       "    <tr>\n",
       "      <th>8</th>\n",
       "      <td>P10074</td>\n",
       "      <td>Drug_B</td>\n",
       "      <td>Molecule_1</td>\n",
       "      <td>2024-07-04</td>\n",
       "      <td>2024-08-03</td>\n",
       "      <td>2024-08-06</td>\n",
       "      <td>-33.0</td>\n",
       "      <td>0</td>\n",
       "      <td>2024-10-12</td>\n",
       "      <td>0</td>\n",
       "      <td>Molecule_4</td>\n",
       "    </tr>\n",
       "    <tr>\n",
       "      <th>9</th>\n",
       "      <td>P10074</td>\n",
       "      <td>Drug_A</td>\n",
       "      <td>Molecule_0</td>\n",
       "      <td>2024-09-12</td>\n",
       "      <td>2024-10-12</td>\n",
       "      <td>2024-08-03</td>\n",
       "      <td>40.0</td>\n",
       "      <td>0</td>\n",
       "      <td>2024-10-12</td>\n",
       "      <td>0</td>\n",
       "      <td>Molecule_1</td>\n",
       "    </tr>\n",
       "  </tbody>\n",
       "</table>\n",
       "</div>"
      ],
      "text/plain": [
       "  patient_id drug_name    molecule  start_date    end_date previous_end  \\\n",
       "0     P10074    Drug_C  Molecule_2  2022-04-06  2022-07-05          NaN   \n",
       "1     P10074    Drug_D  Molecule_3  2022-06-26  2022-09-24   2022-07-05   \n",
       "2     P10074    Drug_B  Molecule_1  2022-07-29  2022-08-28   2022-09-24   \n",
       "3     P10074    Drug_E  Molecule_4  2022-11-23  2023-02-21   2022-08-28   \n",
       "4     P10074    Drug_C  Molecule_2  2023-08-21  2023-11-19   2023-02-21   \n",
       "5     P10074    Drug_A  Molecule_0  2023-10-04  2023-11-03   2023-11-19   \n",
       "6     P10074    Drug_D  Molecule_3  2024-06-04  2024-07-04   2023-11-03   \n",
       "7     P10074    Drug_E  Molecule_4  2024-06-07  2024-08-06   2024-07-04   \n",
       "8     P10074    Drug_B  Molecule_1  2024-07-04  2024-08-03   2024-08-06   \n",
       "9     P10074    Drug_A  Molecule_0  2024-09-12  2024-10-12   2024-08-03   \n",
       "\n",
       "   gap_days  new_start last_med_date  discontinued previous_molecule  \n",
       "0      -1.0          0    2024-10-12             0               NaN  \n",
       "1      -9.0          0    2024-10-12             0        Molecule_2  \n",
       "2     -57.0          0    2024-10-12             0        Molecule_3  \n",
       "3      87.0          0    2024-10-12             0        Molecule_1  \n",
       "4     181.0          1    2024-10-12             0        Molecule_4  \n",
       "5     -46.0          0    2024-10-12             0        Molecule_2  \n",
       "6     214.0          1    2024-10-12             0        Molecule_0  \n",
       "7     -27.0          0    2024-10-12             0        Molecule_3  \n",
       "8     -33.0          0    2024-10-12             0        Molecule_4  \n",
       "9      40.0          0    2024-10-12             0        Molecule_1  "
      ]
     },
     "execution_count": 119,
     "metadata": {},
     "output_type": "execute_result"
    }
   ],
   "source": [
    "claim_sb_2.head(10)"
   ]
  },
  {
   "cell_type": "code",
   "execution_count": 120,
   "id": "4c21fe4e",
   "metadata": {
    "execution": {
     "iopub.execute_input": "2025-10-02T22:09:57.508597Z",
     "iopub.status.busy": "2025-10-02T22:09:57.508241Z",
     "iopub.status.idle": "2025-10-02T22:09:57.542598Z",
     "shell.execute_reply": "2025-10-02T22:09:57.541502Z",
     "shell.execute_reply.started": "2025-10-02T22:09:57.508556Z"
    }
   },
   "outputs": [
    {
     "name": "stderr",
     "output_type": "stream",
     "text": [
      "/tmp/ipykernel_149/687086356.py:2: SettingWithCopyWarning: \n",
      "A value is trying to be set on a copy of a slice from a DataFrame.\n",
      "Try using .loc[row_indexer,col_indexer] = value instead\n",
      "\n",
      "See the caveats in the documentation: https://pandas.pydata.org/pandas-docs/stable/user_guide/indexing.html#returning-a-view-versus-a-copy\n",
      "  claim_sb_2['switch_flag'] = np.where(claim_sb_2['molecule']==claim_sb_2['previous_molecule'], 0, 1)\n"
     ]
    },
    {
     "data": {
      "text/html": [
       "<div>\n",
       "<style scoped>\n",
       "    .dataframe tbody tr th:only-of-type {\n",
       "        vertical-align: middle;\n",
       "    }\n",
       "\n",
       "    .dataframe tbody tr th {\n",
       "        vertical-align: top;\n",
       "    }\n",
       "\n",
       "    .dataframe thead th {\n",
       "        text-align: right;\n",
       "    }\n",
       "</style>\n",
       "<table border=\"1\" class=\"dataframe\">\n",
       "  <thead>\n",
       "    <tr style=\"text-align: right;\">\n",
       "      <th></th>\n",
       "      <th>patient_id</th>\n",
       "      <th>drug_name</th>\n",
       "      <th>molecule</th>\n",
       "      <th>start_date</th>\n",
       "      <th>end_date</th>\n",
       "      <th>previous_end</th>\n",
       "      <th>gap_days</th>\n",
       "      <th>new_start</th>\n",
       "      <th>last_med_date</th>\n",
       "      <th>discontinued</th>\n",
       "      <th>previous_molecule</th>\n",
       "      <th>switch_flag</th>\n",
       "    </tr>\n",
       "  </thead>\n",
       "  <tbody>\n",
       "    <tr>\n",
       "      <th>0</th>\n",
       "      <td>P10074</td>\n",
       "      <td>Drug_C</td>\n",
       "      <td>Molecule_2</td>\n",
       "      <td>2022-04-06</td>\n",
       "      <td>2022-07-05</td>\n",
       "      <td>NaN</td>\n",
       "      <td>-1.0</td>\n",
       "      <td>0</td>\n",
       "      <td>2024-10-12</td>\n",
       "      <td>0</td>\n",
       "      <td>NaN</td>\n",
       "      <td>1</td>\n",
       "    </tr>\n",
       "    <tr>\n",
       "      <th>1</th>\n",
       "      <td>P10074</td>\n",
       "      <td>Drug_D</td>\n",
       "      <td>Molecule_3</td>\n",
       "      <td>2022-06-26</td>\n",
       "      <td>2022-09-24</td>\n",
       "      <td>2022-07-05</td>\n",
       "      <td>-9.0</td>\n",
       "      <td>0</td>\n",
       "      <td>2024-10-12</td>\n",
       "      <td>0</td>\n",
       "      <td>Molecule_2</td>\n",
       "      <td>1</td>\n",
       "    </tr>\n",
       "    <tr>\n",
       "      <th>2</th>\n",
       "      <td>P10074</td>\n",
       "      <td>Drug_B</td>\n",
       "      <td>Molecule_1</td>\n",
       "      <td>2022-07-29</td>\n",
       "      <td>2022-08-28</td>\n",
       "      <td>2022-09-24</td>\n",
       "      <td>-57.0</td>\n",
       "      <td>0</td>\n",
       "      <td>2024-10-12</td>\n",
       "      <td>0</td>\n",
       "      <td>Molecule_3</td>\n",
       "      <td>1</td>\n",
       "    </tr>\n",
       "    <tr>\n",
       "      <th>3</th>\n",
       "      <td>P10074</td>\n",
       "      <td>Drug_E</td>\n",
       "      <td>Molecule_4</td>\n",
       "      <td>2022-11-23</td>\n",
       "      <td>2023-02-21</td>\n",
       "      <td>2022-08-28</td>\n",
       "      <td>87.0</td>\n",
       "      <td>0</td>\n",
       "      <td>2024-10-12</td>\n",
       "      <td>0</td>\n",
       "      <td>Molecule_1</td>\n",
       "      <td>1</td>\n",
       "    </tr>\n",
       "    <tr>\n",
       "      <th>4</th>\n",
       "      <td>P10074</td>\n",
       "      <td>Drug_C</td>\n",
       "      <td>Molecule_2</td>\n",
       "      <td>2023-08-21</td>\n",
       "      <td>2023-11-19</td>\n",
       "      <td>2023-02-21</td>\n",
       "      <td>181.0</td>\n",
       "      <td>1</td>\n",
       "      <td>2024-10-12</td>\n",
       "      <td>0</td>\n",
       "      <td>Molecule_4</td>\n",
       "      <td>1</td>\n",
       "    </tr>\n",
       "    <tr>\n",
       "      <th>...</th>\n",
       "      <td>...</td>\n",
       "      <td>...</td>\n",
       "      <td>...</td>\n",
       "      <td>...</td>\n",
       "      <td>...</td>\n",
       "      <td>...</td>\n",
       "      <td>...</td>\n",
       "      <td>...</td>\n",
       "      <td>...</td>\n",
       "      <td>...</td>\n",
       "      <td>...</td>\n",
       "      <td>...</td>\n",
       "    </tr>\n",
       "    <tr>\n",
       "      <th>2995</th>\n",
       "      <td>P99593</td>\n",
       "      <td>Drug_D</td>\n",
       "      <td>Molecule_3</td>\n",
       "      <td>2024-08-27</td>\n",
       "      <td>2024-09-26</td>\n",
       "      <td>2024-02-03</td>\n",
       "      <td>206.0</td>\n",
       "      <td>1</td>\n",
       "      <td>2024-12-01</td>\n",
       "      <td>0</td>\n",
       "      <td>Molecule_3</td>\n",
       "      <td>0</td>\n",
       "    </tr>\n",
       "    <tr>\n",
       "      <th>2996</th>\n",
       "      <td>P99593</td>\n",
       "      <td>Drug_C</td>\n",
       "      <td>Molecule_2</td>\n",
       "      <td>2024-11-01</td>\n",
       "      <td>2024-12-01</td>\n",
       "      <td>2024-09-26</td>\n",
       "      <td>36.0</td>\n",
       "      <td>0</td>\n",
       "      <td>2024-12-01</td>\n",
       "      <td>0</td>\n",
       "      <td>Molecule_3</td>\n",
       "      <td>1</td>\n",
       "    </tr>\n",
       "    <tr>\n",
       "      <th>2997</th>\n",
       "      <td>P99733</td>\n",
       "      <td>Drug_E</td>\n",
       "      <td>Molecule_4</td>\n",
       "      <td>2023-07-28</td>\n",
       "      <td>2023-09-26</td>\n",
       "      <td>NaN</td>\n",
       "      <td>-1.0</td>\n",
       "      <td>0</td>\n",
       "      <td>2024-07-13</td>\n",
       "      <td>1</td>\n",
       "      <td>NaN</td>\n",
       "      <td>1</td>\n",
       "    </tr>\n",
       "    <tr>\n",
       "      <th>2998</th>\n",
       "      <td>P99733</td>\n",
       "      <td>Drug_D</td>\n",
       "      <td>Molecule_3</td>\n",
       "      <td>2023-12-24</td>\n",
       "      <td>2024-02-22</td>\n",
       "      <td>2023-09-26</td>\n",
       "      <td>89.0</td>\n",
       "      <td>0</td>\n",
       "      <td>2024-07-13</td>\n",
       "      <td>1</td>\n",
       "      <td>Molecule_4</td>\n",
       "      <td>1</td>\n",
       "    </tr>\n",
       "    <tr>\n",
       "      <th>2999</th>\n",
       "      <td>P99733</td>\n",
       "      <td>Drug_D</td>\n",
       "      <td>Molecule_3</td>\n",
       "      <td>2024-06-13</td>\n",
       "      <td>2024-07-13</td>\n",
       "      <td>2024-02-22</td>\n",
       "      <td>112.0</td>\n",
       "      <td>0</td>\n",
       "      <td>2024-07-13</td>\n",
       "      <td>1</td>\n",
       "      <td>Molecule_3</td>\n",
       "      <td>0</td>\n",
       "    </tr>\n",
       "  </tbody>\n",
       "</table>\n",
       "<p>3000 rows × 12 columns</p>\n",
       "</div>"
      ],
      "text/plain": [
       "     patient_id drug_name    molecule  start_date    end_date previous_end  \\\n",
       "0        P10074    Drug_C  Molecule_2  2022-04-06  2022-07-05          NaN   \n",
       "1        P10074    Drug_D  Molecule_3  2022-06-26  2022-09-24   2022-07-05   \n",
       "2        P10074    Drug_B  Molecule_1  2022-07-29  2022-08-28   2022-09-24   \n",
       "3        P10074    Drug_E  Molecule_4  2022-11-23  2023-02-21   2022-08-28   \n",
       "4        P10074    Drug_C  Molecule_2  2023-08-21  2023-11-19   2023-02-21   \n",
       "...         ...       ...         ...         ...         ...          ...   \n",
       "2995     P99593    Drug_D  Molecule_3  2024-08-27  2024-09-26   2024-02-03   \n",
       "2996     P99593    Drug_C  Molecule_2  2024-11-01  2024-12-01   2024-09-26   \n",
       "2997     P99733    Drug_E  Molecule_4  2023-07-28  2023-09-26          NaN   \n",
       "2998     P99733    Drug_D  Molecule_3  2023-12-24  2024-02-22   2023-09-26   \n",
       "2999     P99733    Drug_D  Molecule_3  2024-06-13  2024-07-13   2024-02-22   \n",
       "\n",
       "      gap_days  new_start last_med_date  discontinued previous_molecule  \\\n",
       "0         -1.0          0    2024-10-12             0               NaN   \n",
       "1         -9.0          0    2024-10-12             0        Molecule_2   \n",
       "2        -57.0          0    2024-10-12             0        Molecule_3   \n",
       "3         87.0          0    2024-10-12             0        Molecule_1   \n",
       "4        181.0          1    2024-10-12             0        Molecule_4   \n",
       "...        ...        ...           ...           ...               ...   \n",
       "2995     206.0          1    2024-12-01             0        Molecule_3   \n",
       "2996      36.0          0    2024-12-01             0        Molecule_3   \n",
       "2997      -1.0          0    2024-07-13             1               NaN   \n",
       "2998      89.0          0    2024-07-13             1        Molecule_4   \n",
       "2999     112.0          0    2024-07-13             1        Molecule_3   \n",
       "\n",
       "      switch_flag  \n",
       "0               1  \n",
       "1               1  \n",
       "2               1  \n",
       "3               1  \n",
       "4               1  \n",
       "...           ...  \n",
       "2995            0  \n",
       "2996            1  \n",
       "2997            1  \n",
       "2998            1  \n",
       "2999            0  \n",
       "\n",
       "[3000 rows x 12 columns]"
      ]
     },
     "execution_count": 120,
     "metadata": {},
     "output_type": "execute_result"
    }
   ],
   "source": [
    "import numpy as np\n",
    "claim_sb_2['switch_flag'] = np.where(claim_sb_2['molecule']==claim_sb_2['previous_molecule'], 0, 1)\n",
    "claim_sb_2"
   ]
  },
  {
   "cell_type": "code",
   "execution_count": 121,
   "id": "005531ed",
   "metadata": {
    "execution": {
     "iopub.execute_input": "2025-10-02T22:09:57.543832Z",
     "iopub.status.busy": "2025-10-02T22:09:57.543478Z",
     "iopub.status.idle": "2025-10-02T22:09:57.569053Z",
     "shell.execute_reply": "2025-10-02T22:09:57.567538Z",
     "shell.execute_reply.started": "2025-10-02T22:09:57.543811Z"
    }
   },
   "outputs": [
    {
     "name": "stderr",
     "output_type": "stream",
     "text": [
      "/tmp/ipykernel_149/3058965538.py:1: SettingWithCopyWarning: \n",
      "A value is trying to be set on a copy of a slice from a DataFrame.\n",
      "Try using .loc[row_indexer,col_indexer] = value instead\n",
      "\n",
      "See the caveats in the documentation: https://pandas.pydata.org/pandas-docs/stable/user_guide/indexing.html#returning-a-view-versus-a-copy\n",
      "  claim_sb_2['switch_flag'] = np.where(\n"
     ]
    }
   ],
   "source": [
    "claim_sb_2['switch_flag'] = np.where(\n",
    "    claim_sb_2['previous_molecule'].isna(), 0,\n",
    "    np.where(claim_sb_2['molecule'] == claim_sb_2['previous_molecule'], 0, 1)\n",
    ")"
   ]
  },
  {
   "cell_type": "code",
   "execution_count": 122,
   "id": "68457bf7",
   "metadata": {
    "execution": {
     "iopub.execute_input": "2025-10-02T22:09:57.570639Z",
     "iopub.status.busy": "2025-10-02T22:09:57.570344Z",
     "iopub.status.idle": "2025-10-02T22:09:57.608469Z",
     "shell.execute_reply": "2025-10-02T22:09:57.607157Z",
     "shell.execute_reply.started": "2025-10-02T22:09:57.570618Z"
    }
   },
   "outputs": [
    {
     "data": {
      "text/html": [
       "<div>\n",
       "<style scoped>\n",
       "    .dataframe tbody tr th:only-of-type {\n",
       "        vertical-align: middle;\n",
       "    }\n",
       "\n",
       "    .dataframe tbody tr th {\n",
       "        vertical-align: top;\n",
       "    }\n",
       "\n",
       "    .dataframe thead th {\n",
       "        text-align: right;\n",
       "    }\n",
       "</style>\n",
       "<table border=\"1\" class=\"dataframe\">\n",
       "  <thead>\n",
       "    <tr style=\"text-align: right;\">\n",
       "      <th></th>\n",
       "      <th>patient_id</th>\n",
       "      <th>drug_name</th>\n",
       "      <th>molecule</th>\n",
       "      <th>start_date</th>\n",
       "      <th>end_date</th>\n",
       "      <th>previous_end</th>\n",
       "      <th>gap_days</th>\n",
       "      <th>new_start</th>\n",
       "      <th>last_med_date</th>\n",
       "      <th>discontinued</th>\n",
       "      <th>previous_molecule</th>\n",
       "      <th>switch_flag</th>\n",
       "    </tr>\n",
       "  </thead>\n",
       "  <tbody>\n",
       "    <tr>\n",
       "      <th>0</th>\n",
       "      <td>P10074</td>\n",
       "      <td>Drug_C</td>\n",
       "      <td>Molecule_2</td>\n",
       "      <td>2022-04-06</td>\n",
       "      <td>2022-07-05</td>\n",
       "      <td>NaN</td>\n",
       "      <td>-1.0</td>\n",
       "      <td>0</td>\n",
       "      <td>2024-10-12</td>\n",
       "      <td>0</td>\n",
       "      <td>NaN</td>\n",
       "      <td>0</td>\n",
       "    </tr>\n",
       "    <tr>\n",
       "      <th>1</th>\n",
       "      <td>P10074</td>\n",
       "      <td>Drug_D</td>\n",
       "      <td>Molecule_3</td>\n",
       "      <td>2022-06-26</td>\n",
       "      <td>2022-09-24</td>\n",
       "      <td>2022-07-05</td>\n",
       "      <td>-9.0</td>\n",
       "      <td>0</td>\n",
       "      <td>2024-10-12</td>\n",
       "      <td>0</td>\n",
       "      <td>Molecule_2</td>\n",
       "      <td>1</td>\n",
       "    </tr>\n",
       "  </tbody>\n",
       "</table>\n",
       "</div>"
      ],
      "text/plain": [
       "  patient_id drug_name    molecule  start_date    end_date previous_end  \\\n",
       "0     P10074    Drug_C  Molecule_2  2022-04-06  2022-07-05          NaN   \n",
       "1     P10074    Drug_D  Molecule_3  2022-06-26  2022-09-24   2022-07-05   \n",
       "\n",
       "   gap_days  new_start last_med_date  discontinued previous_molecule  \\\n",
       "0      -1.0          0    2024-10-12             0               NaN   \n",
       "1      -9.0          0    2024-10-12             0        Molecule_2   \n",
       "\n",
       "   switch_flag  \n",
       "0            0  \n",
       "1            1  "
      ]
     },
     "execution_count": 122,
     "metadata": {},
     "output_type": "execute_result"
    }
   ],
   "source": [
    "claim_sb_2.head(2)"
   ]
  },
  {
   "cell_type": "code",
   "execution_count": 123,
   "id": "b7447da6",
   "metadata": {
    "execution": {
     "iopub.execute_input": "2025-10-02T22:09:57.609842Z",
     "iopub.status.busy": "2025-10-02T22:09:57.609500Z",
     "iopub.status.idle": "2025-10-02T22:09:57.643174Z",
     "shell.execute_reply": "2025-10-02T22:09:57.641806Z",
     "shell.execute_reply.started": "2025-10-02T22:09:57.609814Z"
    }
   },
   "outputs": [
    {
     "name": "stdout",
     "output_type": "stream",
     "text": [
      "    patient_id  switch_count  distinct_molecules\n",
      "0       P10074             9                   5\n",
      "1       P10282             6                   4\n",
      "2       P10425             6                   3\n",
      "3       P10464             1                   2\n",
      "4       P10851             8                   4\n",
      "..         ...           ...                 ...\n",
      "492     P99192             2                   2\n",
      "493     P99353             3                   3\n",
      "494     P99399             3                   3\n",
      "495     P99593             4                   4\n",
      "496     P99733             1                   2\n",
      "\n",
      "[497 rows x 3 columns]\n"
     ]
    }
   ],
   "source": [
    "switch_summary = (\n",
    "    claim_sb_2.groupby('patient_id')\n",
    "    .agg(\n",
    "        switch_count=('switch_flag', 'sum'),\n",
    "        distinct_molecules=('molecule', 'nunique')\n",
    "    )\n",
    "    .reset_index()\n",
    ")\n",
    "print(switch_summary)"
   ]
  },
  {
   "cell_type": "code",
   "execution_count": 124,
   "id": "801e5202",
   "metadata": {
    "execution": {
     "iopub.execute_input": "2025-10-02T22:09:57.644618Z",
     "iopub.status.busy": "2025-10-02T22:09:57.644266Z",
     "iopub.status.idle": "2025-10-02T22:09:57.671673Z",
     "shell.execute_reply": "2025-10-02T22:09:57.670497Z",
     "shell.execute_reply.started": "2025-10-02T22:09:57.644591Z"
    }
   },
   "outputs": [
    {
     "data": {
      "text/html": [
       "<div>\n",
       "<style scoped>\n",
       "    .dataframe tbody tr th:only-of-type {\n",
       "        vertical-align: middle;\n",
       "    }\n",
       "\n",
       "    .dataframe tbody tr th {\n",
       "        vertical-align: top;\n",
       "    }\n",
       "\n",
       "    .dataframe thead th {\n",
       "        text-align: right;\n",
       "    }\n",
       "</style>\n",
       "<table border=\"1\" class=\"dataframe\">\n",
       "  <thead>\n",
       "    <tr style=\"text-align: right;\">\n",
       "      <th></th>\n",
       "      <th>patient_id</th>\n",
       "      <th>ndc_code</th>\n",
       "      <th>drug_name</th>\n",
       "      <th>start_date</th>\n",
       "      <th>end_date</th>\n",
       "      <th>days_supply</th>\n",
       "      <th>provider_id</th>\n",
       "      <th>specialty</th>\n",
       "      <th>diagnosis_code</th>\n",
       "      <th>region</th>\n",
       "      <th>previous_end</th>\n",
       "      <th>gap_days</th>\n",
       "      <th>new_start</th>\n",
       "      <th>last_med_date</th>\n",
       "      <th>todays_date</th>\n",
       "      <th>last_med_days_count</th>\n",
       "      <th>discontinued</th>\n",
       "    </tr>\n",
       "  </thead>\n",
       "  <tbody>\n",
       "    <tr>\n",
       "      <th>1193</th>\n",
       "      <td>P10074</td>\n",
       "      <td>20561-3267</td>\n",
       "      <td>Drug_C</td>\n",
       "      <td>2022-04-06</td>\n",
       "      <td>2022-07-05</td>\n",
       "      <td>90</td>\n",
       "      <td>HCP8043</td>\n",
       "      <td>General</td>\n",
       "      <td>D654</td>\n",
       "      <td>South</td>\n",
       "      <td>NaN</td>\n",
       "      <td>-1.0</td>\n",
       "      <td>0</td>\n",
       "      <td>2024-10-12</td>\n",
       "      <td>2025-10-02</td>\n",
       "      <td>355</td>\n",
       "      <td>0</td>\n",
       "    </tr>\n",
       "    <tr>\n",
       "      <th>1937</th>\n",
       "      <td>P10074</td>\n",
       "      <td>29769-4788</td>\n",
       "      <td>Drug_D</td>\n",
       "      <td>2022-06-26</td>\n",
       "      <td>2022-09-24</td>\n",
       "      <td>90</td>\n",
       "      <td>HCP7790</td>\n",
       "      <td>General</td>\n",
       "      <td>D123</td>\n",
       "      <td>North</td>\n",
       "      <td>2022-07-05</td>\n",
       "      <td>-9.0</td>\n",
       "      <td>0</td>\n",
       "      <td>2024-10-12</td>\n",
       "      <td>2025-10-02</td>\n",
       "      <td>355</td>\n",
       "      <td>0</td>\n",
       "    </tr>\n",
       "  </tbody>\n",
       "</table>\n",
       "</div>"
      ],
      "text/plain": [
       "     patient_id    ndc_code drug_name  start_date    end_date  days_supply  \\\n",
       "1193     P10074  20561-3267    Drug_C  2022-04-06  2022-07-05           90   \n",
       "1937     P10074  29769-4788    Drug_D  2022-06-26  2022-09-24           90   \n",
       "\n",
       "     provider_id specialty diagnosis_code region previous_end  gap_days  \\\n",
       "1193     HCP8043   General           D654  South          NaN      -1.0   \n",
       "1937     HCP7790   General           D123  North   2022-07-05      -9.0   \n",
       "\n",
       "      new_start last_med_date todays_date  last_med_days_count  discontinued  \n",
       "1193          0    2024-10-12  2025-10-02                  355             0  \n",
       "1937          0    2024-10-12  2025-10-02                  355             0  "
      ]
     },
     "execution_count": 124,
     "metadata": {},
     "output_type": "execute_result"
    }
   ],
   "source": [
    "claims_sorted.head(2)"
   ]
  },
  {
   "cell_type": "code",
   "execution_count": 125,
   "id": "5dfb9c8e",
   "metadata": {
    "execution": {
     "iopub.execute_input": "2025-10-02T22:09:57.673498Z",
     "iopub.status.busy": "2025-10-02T22:09:57.673184Z",
     "iopub.status.idle": "2025-10-02T22:09:57.766321Z",
     "shell.execute_reply": "2025-10-02T22:09:57.764918Z",
     "shell.execute_reply.started": "2025-10-02T22:09:57.673475Z"
    }
   },
   "outputs": [
    {
     "data": {
      "text/html": [
       "<div>\n",
       "<style scoped>\n",
       "    .dataframe tbody tr th:only-of-type {\n",
       "        vertical-align: middle;\n",
       "    }\n",
       "\n",
       "    .dataframe tbody tr th {\n",
       "        vertical-align: top;\n",
       "    }\n",
       "\n",
       "    .dataframe thead th {\n",
       "        text-align: right;\n",
       "    }\n",
       "</style>\n",
       "<table border=\"1\" class=\"dataframe\">\n",
       "  <thead>\n",
       "    <tr style=\"text-align: right;\">\n",
       "      <th></th>\n",
       "      <th>patient_id</th>\n",
       "      <th>initiation_date</th>\n",
       "      <th>last_fill_date</th>\n",
       "      <th>unique_drugs</th>\n",
       "      <th>number_of_fills</th>\n",
       "    </tr>\n",
       "  </thead>\n",
       "  <tbody>\n",
       "    <tr>\n",
       "      <th>0</th>\n",
       "      <td>P10074</td>\n",
       "      <td>2022-04-06</td>\n",
       "      <td>2024-10-12</td>\n",
       "      <td>5</td>\n",
       "      <td>10</td>\n",
       "    </tr>\n",
       "    <tr>\n",
       "      <th>1</th>\n",
       "      <td>P10282</td>\n",
       "      <td>2022-08-15</td>\n",
       "      <td>2025-02-19</td>\n",
       "      <td>4</td>\n",
       "      <td>8</td>\n",
       "    </tr>\n",
       "    <tr>\n",
       "      <th>2</th>\n",
       "      <td>P10425</td>\n",
       "      <td>2022-05-26</td>\n",
       "      <td>2024-11-22</td>\n",
       "      <td>3</td>\n",
       "      <td>8</td>\n",
       "    </tr>\n",
       "    <tr>\n",
       "      <th>3</th>\n",
       "      <td>P10464</td>\n",
       "      <td>2023-03-01</td>\n",
       "      <td>2024-06-28</td>\n",
       "      <td>2</td>\n",
       "      <td>2</td>\n",
       "    </tr>\n",
       "    <tr>\n",
       "      <th>4</th>\n",
       "      <td>P10851</td>\n",
       "      <td>2022-01-27</td>\n",
       "      <td>2024-12-15</td>\n",
       "      <td>4</td>\n",
       "      <td>10</td>\n",
       "    </tr>\n",
       "    <tr>\n",
       "      <th>...</th>\n",
       "      <td>...</td>\n",
       "      <td>...</td>\n",
       "      <td>...</td>\n",
       "      <td>...</td>\n",
       "      <td>...</td>\n",
       "    </tr>\n",
       "    <tr>\n",
       "      <th>492</th>\n",
       "      <td>P99192</td>\n",
       "      <td>2022-01-16</td>\n",
       "      <td>2024-10-20</td>\n",
       "      <td>2</td>\n",
       "      <td>5</td>\n",
       "    </tr>\n",
       "    <tr>\n",
       "      <th>493</th>\n",
       "      <td>P99353</td>\n",
       "      <td>2022-05-23</td>\n",
       "      <td>2024-10-18</td>\n",
       "      <td>3</td>\n",
       "      <td>5</td>\n",
       "    </tr>\n",
       "    <tr>\n",
       "      <th>494</th>\n",
       "      <td>P99399</td>\n",
       "      <td>2023-07-27</td>\n",
       "      <td>2025-01-12</td>\n",
       "      <td>3</td>\n",
       "      <td>4</td>\n",
       "    </tr>\n",
       "    <tr>\n",
       "      <th>495</th>\n",
       "      <td>P99593</td>\n",
       "      <td>2022-04-15</td>\n",
       "      <td>2024-12-01</td>\n",
       "      <td>4</td>\n",
       "      <td>6</td>\n",
       "    </tr>\n",
       "    <tr>\n",
       "      <th>496</th>\n",
       "      <td>P99733</td>\n",
       "      <td>2023-07-28</td>\n",
       "      <td>2024-07-13</td>\n",
       "      <td>2</td>\n",
       "      <td>3</td>\n",
       "    </tr>\n",
       "  </tbody>\n",
       "</table>\n",
       "<p>497 rows × 5 columns</p>\n",
       "</div>"
      ],
      "text/plain": [
       "    patient_id initiation_date last_fill_date  unique_drugs  number_of_fills\n",
       "0       P10074      2022-04-06     2024-10-12             5               10\n",
       "1       P10282      2022-08-15     2025-02-19             4                8\n",
       "2       P10425      2022-05-26     2024-11-22             3                8\n",
       "3       P10464      2023-03-01     2024-06-28             2                2\n",
       "4       P10851      2022-01-27     2024-12-15             4               10\n",
       "..         ...             ...            ...           ...              ...\n",
       "492     P99192      2022-01-16     2024-10-20             2                5\n",
       "493     P99353      2022-05-23     2024-10-18             3                5\n",
       "494     P99399      2023-07-27     2025-01-12             3                4\n",
       "495     P99593      2022-04-15     2024-12-01             4                6\n",
       "496     P99733      2023-07-28     2024-07-13             2                3\n",
       "\n",
       "[497 rows x 5 columns]"
      ]
     },
     "execution_count": 125,
     "metadata": {},
     "output_type": "execute_result"
    }
   ],
   "source": [
    "patient_funnel_1=claims_sorted.groupby('patient_id').agg(initiation_date=('start_date','min'),last_fill_date=('end_date','max'),unique_drugs=('drug_name','nunique'),number_of_fills=('start_date','count')).reset_index()\n",
    "patient_funnel_1"
   ]
  },
  {
   "cell_type": "code",
   "execution_count": 126,
   "id": "ae924fe1",
   "metadata": {
    "execution": {
     "iopub.execute_input": "2025-10-02T22:09:57.768013Z",
     "iopub.status.busy": "2025-10-02T22:09:57.767712Z",
     "iopub.status.idle": "2025-10-02T22:09:57.784664Z",
     "shell.execute_reply": "2025-10-02T22:09:57.783640Z",
     "shell.execute_reply.started": "2025-10-02T22:09:57.767990Z"
    }
   },
   "outputs": [
    {
     "data": {
      "text/html": [
       "<div>\n",
       "<style scoped>\n",
       "    .dataframe tbody tr th:only-of-type {\n",
       "        vertical-align: middle;\n",
       "    }\n",
       "\n",
       "    .dataframe tbody tr th {\n",
       "        vertical-align: top;\n",
       "    }\n",
       "\n",
       "    .dataframe thead th {\n",
       "        text-align: right;\n",
       "    }\n",
       "</style>\n",
       "<table border=\"1\" class=\"dataframe\">\n",
       "  <thead>\n",
       "    <tr style=\"text-align: right;\">\n",
       "      <th></th>\n",
       "      <th>patient_id</th>\n",
       "      <th>initiation_date</th>\n",
       "      <th>last_fill_date</th>\n",
       "      <th>unique_drugs</th>\n",
       "      <th>number_of_fills</th>\n",
       "      <th>days_of_therapy</th>\n",
       "    </tr>\n",
       "  </thead>\n",
       "  <tbody>\n",
       "    <tr>\n",
       "      <th>0</th>\n",
       "      <td>P10074</td>\n",
       "      <td>2022-04-06</td>\n",
       "      <td>2024-10-12</td>\n",
       "      <td>5</td>\n",
       "      <td>10</td>\n",
       "      <td>920</td>\n",
       "    </tr>\n",
       "    <tr>\n",
       "      <th>1</th>\n",
       "      <td>P10282</td>\n",
       "      <td>2022-08-15</td>\n",
       "      <td>2025-02-19</td>\n",
       "      <td>4</td>\n",
       "      <td>8</td>\n",
       "      <td>919</td>\n",
       "    </tr>\n",
       "    <tr>\n",
       "      <th>2</th>\n",
       "      <td>P10425</td>\n",
       "      <td>2022-05-26</td>\n",
       "      <td>2024-11-22</td>\n",
       "      <td>3</td>\n",
       "      <td>8</td>\n",
       "      <td>911</td>\n",
       "    </tr>\n",
       "    <tr>\n",
       "      <th>3</th>\n",
       "      <td>P10464</td>\n",
       "      <td>2023-03-01</td>\n",
       "      <td>2024-06-28</td>\n",
       "      <td>2</td>\n",
       "      <td>2</td>\n",
       "      <td>485</td>\n",
       "    </tr>\n",
       "    <tr>\n",
       "      <th>4</th>\n",
       "      <td>P10851</td>\n",
       "      <td>2022-01-27</td>\n",
       "      <td>2024-12-15</td>\n",
       "      <td>4</td>\n",
       "      <td>10</td>\n",
       "      <td>1053</td>\n",
       "    </tr>\n",
       "    <tr>\n",
       "      <th>...</th>\n",
       "      <td>...</td>\n",
       "      <td>...</td>\n",
       "      <td>...</td>\n",
       "      <td>...</td>\n",
       "      <td>...</td>\n",
       "      <td>...</td>\n",
       "    </tr>\n",
       "    <tr>\n",
       "      <th>492</th>\n",
       "      <td>P99192</td>\n",
       "      <td>2022-01-16</td>\n",
       "      <td>2024-10-20</td>\n",
       "      <td>2</td>\n",
       "      <td>5</td>\n",
       "      <td>1008</td>\n",
       "    </tr>\n",
       "    <tr>\n",
       "      <th>493</th>\n",
       "      <td>P99353</td>\n",
       "      <td>2022-05-23</td>\n",
       "      <td>2024-10-18</td>\n",
       "      <td>3</td>\n",
       "      <td>5</td>\n",
       "      <td>879</td>\n",
       "    </tr>\n",
       "    <tr>\n",
       "      <th>494</th>\n",
       "      <td>P99399</td>\n",
       "      <td>2023-07-27</td>\n",
       "      <td>2025-01-12</td>\n",
       "      <td>3</td>\n",
       "      <td>4</td>\n",
       "      <td>535</td>\n",
       "    </tr>\n",
       "    <tr>\n",
       "      <th>495</th>\n",
       "      <td>P99593</td>\n",
       "      <td>2022-04-15</td>\n",
       "      <td>2024-12-01</td>\n",
       "      <td>4</td>\n",
       "      <td>6</td>\n",
       "      <td>961</td>\n",
       "    </tr>\n",
       "    <tr>\n",
       "      <th>496</th>\n",
       "      <td>P99733</td>\n",
       "      <td>2023-07-28</td>\n",
       "      <td>2024-07-13</td>\n",
       "      <td>2</td>\n",
       "      <td>3</td>\n",
       "      <td>351</td>\n",
       "    </tr>\n",
       "  </tbody>\n",
       "</table>\n",
       "<p>497 rows × 6 columns</p>\n",
       "</div>"
      ],
      "text/plain": [
       "    patient_id initiation_date last_fill_date  unique_drugs  number_of_fills  \\\n",
       "0       P10074      2022-04-06     2024-10-12             5               10   \n",
       "1       P10282      2022-08-15     2025-02-19             4                8   \n",
       "2       P10425      2022-05-26     2024-11-22             3                8   \n",
       "3       P10464      2023-03-01     2024-06-28             2                2   \n",
       "4       P10851      2022-01-27     2024-12-15             4               10   \n",
       "..         ...             ...            ...           ...              ...   \n",
       "492     P99192      2022-01-16     2024-10-20             2                5   \n",
       "493     P99353      2022-05-23     2024-10-18             3                5   \n",
       "494     P99399      2023-07-27     2025-01-12             3                4   \n",
       "495     P99593      2022-04-15     2024-12-01             4                6   \n",
       "496     P99733      2023-07-28     2024-07-13             2                3   \n",
       "\n",
       "     days_of_therapy  \n",
       "0                920  \n",
       "1                919  \n",
       "2                911  \n",
       "3                485  \n",
       "4               1053  \n",
       "..               ...  \n",
       "492             1008  \n",
       "493              879  \n",
       "494              535  \n",
       "495              961  \n",
       "496              351  \n",
       "\n",
       "[497 rows x 6 columns]"
      ]
     },
     "execution_count": 126,
     "metadata": {},
     "output_type": "execute_result"
    }
   ],
   "source": [
    "patient_funnel_1['days_of_therapy']=pd.to_datetime(patient_funnel_1['last_fill_date'])-pd.to_datetime(patient_funnel_1['initiation_date'])\n",
    "patient_funnel_1['days_of_therapy'] = patient_funnel_1['days_of_therapy'].dt.days\n",
    "patient_funnel_1['days_of_therapy'] = patient_funnel_1['days_of_therapy'].fillna(-1)\n",
    "patient_funnel_1"
   ]
  },
  {
   "cell_type": "code",
   "execution_count": 127,
   "id": "0042d2e3",
   "metadata": {
    "execution": {
     "iopub.execute_input": "2025-10-02T22:09:57.785984Z",
     "iopub.status.busy": "2025-10-02T22:09:57.785721Z",
     "iopub.status.idle": "2025-10-02T22:09:57.815378Z",
     "shell.execute_reply": "2025-10-02T22:09:57.814369Z",
     "shell.execute_reply.started": "2025-10-02T22:09:57.785963Z"
    }
   },
   "outputs": [
    {
     "data": {
      "text/html": [
       "<div>\n",
       "<style scoped>\n",
       "    .dataframe tbody tr th:only-of-type {\n",
       "        vertical-align: middle;\n",
       "    }\n",
       "\n",
       "    .dataframe tbody tr th {\n",
       "        vertical-align: top;\n",
       "    }\n",
       "\n",
       "    .dataframe thead th {\n",
       "        text-align: right;\n",
       "    }\n",
       "</style>\n",
       "<table border=\"1\" class=\"dataframe\">\n",
       "  <thead>\n",
       "    <tr style=\"text-align: right;\">\n",
       "      <th></th>\n",
       "      <th>patient_id</th>\n",
       "      <th>initiation_date</th>\n",
       "      <th>last_fill_date</th>\n",
       "      <th>unique_drugs</th>\n",
       "      <th>number_of_fills</th>\n",
       "      <th>days_of_therapy</th>\n",
       "    </tr>\n",
       "  </thead>\n",
       "  <tbody>\n",
       "    <tr>\n",
       "      <th>0</th>\n",
       "      <td>P10074</td>\n",
       "      <td>2022-04-06</td>\n",
       "      <td>2024-10-12</td>\n",
       "      <td>5</td>\n",
       "      <td>10</td>\n",
       "      <td>920</td>\n",
       "    </tr>\n",
       "    <tr>\n",
       "      <th>1</th>\n",
       "      <td>P10282</td>\n",
       "      <td>2022-08-15</td>\n",
       "      <td>2025-02-19</td>\n",
       "      <td>4</td>\n",
       "      <td>8</td>\n",
       "      <td>919</td>\n",
       "    </tr>\n",
       "    <tr>\n",
       "      <th>2</th>\n",
       "      <td>P10425</td>\n",
       "      <td>2022-05-26</td>\n",
       "      <td>2024-11-22</td>\n",
       "      <td>3</td>\n",
       "      <td>8</td>\n",
       "      <td>911</td>\n",
       "    </tr>\n",
       "    <tr>\n",
       "      <th>3</th>\n",
       "      <td>P10464</td>\n",
       "      <td>2023-03-01</td>\n",
       "      <td>2024-06-28</td>\n",
       "      <td>2</td>\n",
       "      <td>2</td>\n",
       "      <td>485</td>\n",
       "    </tr>\n",
       "    <tr>\n",
       "      <th>4</th>\n",
       "      <td>P10851</td>\n",
       "      <td>2022-01-27</td>\n",
       "      <td>2024-12-15</td>\n",
       "      <td>4</td>\n",
       "      <td>10</td>\n",
       "      <td>1053</td>\n",
       "    </tr>\n",
       "    <tr>\n",
       "      <th>...</th>\n",
       "      <td>...</td>\n",
       "      <td>...</td>\n",
       "      <td>...</td>\n",
       "      <td>...</td>\n",
       "      <td>...</td>\n",
       "      <td>...</td>\n",
       "    </tr>\n",
       "    <tr>\n",
       "      <th>492</th>\n",
       "      <td>P99192</td>\n",
       "      <td>2022-01-16</td>\n",
       "      <td>2024-10-20</td>\n",
       "      <td>2</td>\n",
       "      <td>5</td>\n",
       "      <td>1008</td>\n",
       "    </tr>\n",
       "    <tr>\n",
       "      <th>493</th>\n",
       "      <td>P99353</td>\n",
       "      <td>2022-05-23</td>\n",
       "      <td>2024-10-18</td>\n",
       "      <td>3</td>\n",
       "      <td>5</td>\n",
       "      <td>879</td>\n",
       "    </tr>\n",
       "    <tr>\n",
       "      <th>494</th>\n",
       "      <td>P99399</td>\n",
       "      <td>2023-07-27</td>\n",
       "      <td>2025-01-12</td>\n",
       "      <td>3</td>\n",
       "      <td>4</td>\n",
       "      <td>535</td>\n",
       "    </tr>\n",
       "    <tr>\n",
       "      <th>495</th>\n",
       "      <td>P99593</td>\n",
       "      <td>2022-04-15</td>\n",
       "      <td>2024-12-01</td>\n",
       "      <td>4</td>\n",
       "      <td>6</td>\n",
       "      <td>961</td>\n",
       "    </tr>\n",
       "    <tr>\n",
       "      <th>496</th>\n",
       "      <td>P99733</td>\n",
       "      <td>2023-07-28</td>\n",
       "      <td>2024-07-13</td>\n",
       "      <td>2</td>\n",
       "      <td>3</td>\n",
       "      <td>351</td>\n",
       "    </tr>\n",
       "  </tbody>\n",
       "</table>\n",
       "<p>497 rows × 6 columns</p>\n",
       "</div>"
      ],
      "text/plain": [
       "    patient_id initiation_date last_fill_date  unique_drugs  number_of_fills  \\\n",
       "0       P10074      2022-04-06     2024-10-12             5               10   \n",
       "1       P10282      2022-08-15     2025-02-19             4                8   \n",
       "2       P10425      2022-05-26     2024-11-22             3                8   \n",
       "3       P10464      2023-03-01     2024-06-28             2                2   \n",
       "4       P10851      2022-01-27     2024-12-15             4               10   \n",
       "..         ...             ...            ...           ...              ...   \n",
       "492     P99192      2022-01-16     2024-10-20             2                5   \n",
       "493     P99353      2022-05-23     2024-10-18             3                5   \n",
       "494     P99399      2023-07-27     2025-01-12             3                4   \n",
       "495     P99593      2022-04-15     2024-12-01             4                6   \n",
       "496     P99733      2023-07-28     2024-07-13             2                3   \n",
       "\n",
       "     days_of_therapy  \n",
       "0                920  \n",
       "1                919  \n",
       "2                911  \n",
       "3                485  \n",
       "4               1053  \n",
       "..               ...  \n",
       "492             1008  \n",
       "493              879  \n",
       "494              535  \n",
       "495              961  \n",
       "496              351  \n",
       "\n",
       "[497 rows x 6 columns]"
      ]
     },
     "execution_count": 127,
     "metadata": {},
     "output_type": "execute_result"
    }
   ],
   "source": [
    "import seaborn as sls\n",
    "import matplotlib.pyplot as plt\n",
    "patient_funnel_1"
   ]
  },
  {
   "cell_type": "code",
   "execution_count": 128,
   "id": "f7c60626",
   "metadata": {
    "execution": {
     "iopub.execute_input": "2025-10-02T22:09:57.816599Z",
     "iopub.status.busy": "2025-10-02T22:09:57.816284Z",
     "iopub.status.idle": "2025-10-02T22:09:58.019661Z",
     "shell.execute_reply": "2025-10-02T22:09:58.018643Z",
     "shell.execute_reply.started": "2025-10-02T22:09:57.816572Z"
    }
   },
   "outputs": [
    {
     "data": {
      "image/png": "[encoded data removed]",
      "text/plain": [
       "<Figure size 640x480 with 1 Axes>"
      ]
     },
     "metadata": {},
     "output_type": "display_data"
    }
   ],
   "source": [
    "plt.hist(patient_funnel_1['days_of_therapy'], bins=10, edgecolor='black',color='#F8B195')\n",
    "plt.title('Patient count for DOT buckets')\n",
    "plt.xlabel('DOT')\n",
    "plt.ylabel('Patient Count')\n",
    "plt.grid(True)\n",
    "plt.show()"
   ]
  },
  {
   "cell_type": "code",
   "execution_count": 129,
   "id": "51f490ee",
   "metadata": {
    "execution": {
     "iopub.execute_input": "2025-10-02T22:09:58.020836Z",
     "iopub.status.busy": "2025-10-02T22:09:58.020584Z",
     "iopub.status.idle": "2025-10-02T22:09:58.239347Z",
     "shell.execute_reply": "2025-10-02T22:09:58.238393Z",
     "shell.execute_reply.started": "2025-10-02T22:09:58.020817Z"
    }
   },
   "outputs": [
    {
     "data": {
      "image/png": "[encoded data removed]",
      "text/plain": [
       "<Figure size 800x500 with 1 Axes>"
      ]
     },
     "metadata": {},
     "output_type": "display_data"
    }
   ],
   "source": [
    "import matplotlib.pyplot as plt\n",
    "pat_count_df = patient_funnel_1.groupby('unique_drugs').agg(pat_count=('patient_id', 'nunique')).reset_index()\n",
    "plt.figure(figsize=(8, 5))\n",
    "plt.bar(pat_count_df['unique_drugs'], pat_count_df['pat_count'], color='#C3DCD8', edgecolor='black')\n",
    "plt.title('Number of Patients by Unique Drug Count')\n",
    "plt.xlabel('Unique Drug Count per Patient')\n",
    "plt.ylabel('Number of Patients')\n",
    "plt.xticks(pat_count_df['unique_drugs'])\n",
    "plt.grid(axis='y')\n",
    "plt.tight_layout()\n",
    "plt.show()"
   ]
  },
  {
   "cell_type": "code",
   "execution_count": 130,
   "id": "fe77c201",
   "metadata": {
    "execution": {
     "iopub.execute_input": "2025-10-02T22:09:58.240365Z",
     "iopub.status.busy": "2025-10-02T22:09:58.240126Z",
     "iopub.status.idle": "2025-10-02T22:09:58.253691Z",
     "shell.execute_reply": "2025-10-02T22:09:58.252520Z",
     "shell.execute_reply.started": "2025-10-02T22:09:58.240349Z"
    }
   },
   "outputs": [],
   "source": [
    "patient_funnel_2=patient_funnel_1[['unique_drugs','patient_id']]\n",
    "patient_funnel_2=patient_funnel_2.groupby('unique_drugs').agg(pat_count=('patient_id','nunique')).reset_index()"
   ]
  },
  {
   "cell_type": "code",
   "execution_count": 131,
   "id": "e871a170",
   "metadata": {
    "execution": {
     "iopub.execute_input": "2025-10-02T22:09:58.255142Z",
     "iopub.status.busy": "2025-10-02T22:09:58.254812Z",
     "iopub.status.idle": "2025-10-02T22:09:58.495463Z",
     "shell.execute_reply": "2025-10-02T22:09:58.494417Z",
     "shell.execute_reply.started": "2025-10-02T22:09:58.255113Z"
    }
   },
   "outputs": [
    {
     "data": {
      "text/plain": [
       "<function matplotlib.pyplot.tight_layout(*, pad=1.08, h_pad=None, w_pad=None, rect=None)>"
      ]
     },
     "execution_count": 131,
     "metadata": {},
     "output_type": "execute_result"
    },
    {
     "data": {
      "image/png": "[encoded data removed]",
      "text/plain": [
       "<Figure size 800x500 with 1 Axes>"
      ]
     },
     "metadata": {},
     "output_type": "display_data"
    }
   ],
   "source": [
    "plt.figure(figsize=(8, 5))\n",
    "plt.bar(patient_funnel_2['unique_drugs'], patient_funnel_2['pat_count'], color='#F8B195', edgecolor='black')\n",
    "plt.title('Number of Patients by Unique Drug Count')\n",
    "plt.xlabel('Unique Drug Count per Patient')\n",
    "plt.ylabel('Number of Patients')\n",
    "plt.grid(axis='y')\n",
    "plt.tight_layout"
   ]
  },
  {
   "cell_type": "code",
   "execution_count": 132,
   "id": "412ce16e",
   "metadata": {
    "execution": {
     "iopub.execute_input": "2025-10-02T22:09:58.496715Z",
     "iopub.status.busy": "2025-10-02T22:09:58.496461Z",
     "iopub.status.idle": "2025-10-02T22:09:58.503692Z",
     "shell.execute_reply": "2025-10-02T22:09:58.502163Z",
     "shell.execute_reply.started": "2025-10-02T22:09:58.496695Z"
    }
   },
   "outputs": [
    {
     "data": {
      "text/plain": [
       "pandas.core.frame.DataFrame"
      ]
     },
     "execution_count": 132,
     "metadata": {},
     "output_type": "execute_result"
    }
   ],
   "source": [
    "type(claims_sorted)"
   ]
  },
  {
   "cell_type": "code",
   "execution_count": 133,
   "id": "5a06d66a",
   "metadata": {
    "execution": {
     "iopub.execute_input": "2025-10-02T22:09:58.504972Z",
     "iopub.status.busy": "2025-10-02T22:09:58.504718Z",
     "iopub.status.idle": "2025-10-02T22:09:58.536597Z",
     "shell.execute_reply": "2025-10-02T22:09:58.534957Z",
     "shell.execute_reply.started": "2025-10-02T22:09:58.504954Z"
    }
   },
   "outputs": [
    {
     "data": {
      "text/html": [
       "<div>\n",
       "<style scoped>\n",
       "    .dataframe tbody tr th:only-of-type {\n",
       "        vertical-align: middle;\n",
       "    }\n",
       "\n",
       "    .dataframe tbody tr th {\n",
       "        vertical-align: top;\n",
       "    }\n",
       "\n",
       "    .dataframe thead th {\n",
       "        text-align: right;\n",
       "    }\n",
       "</style>\n",
       "<table border=\"1\" class=\"dataframe\">\n",
       "  <thead>\n",
       "    <tr style=\"text-align: right;\">\n",
       "      <th></th>\n",
       "      <th>patient_id</th>\n",
       "      <th>fill_count</th>\n",
       "    </tr>\n",
       "  </thead>\n",
       "  <tbody>\n",
       "    <tr>\n",
       "      <th>0</th>\n",
       "      <td>P10074</td>\n",
       "      <td>10</td>\n",
       "    </tr>\n",
       "    <tr>\n",
       "      <th>1</th>\n",
       "      <td>P10282</td>\n",
       "      <td>8</td>\n",
       "    </tr>\n",
       "    <tr>\n",
       "      <th>2</th>\n",
       "      <td>P10425</td>\n",
       "      <td>8</td>\n",
       "    </tr>\n",
       "    <tr>\n",
       "      <th>3</th>\n",
       "      <td>P10464</td>\n",
       "      <td>2</td>\n",
       "    </tr>\n",
       "    <tr>\n",
       "      <th>4</th>\n",
       "      <td>P10851</td>\n",
       "      <td>10</td>\n",
       "    </tr>\n",
       "    <tr>\n",
       "      <th>...</th>\n",
       "      <td>...</td>\n",
       "      <td>...</td>\n",
       "    </tr>\n",
       "    <tr>\n",
       "      <th>492</th>\n",
       "      <td>P99192</td>\n",
       "      <td>5</td>\n",
       "    </tr>\n",
       "    <tr>\n",
       "      <th>493</th>\n",
       "      <td>P99353</td>\n",
       "      <td>5</td>\n",
       "    </tr>\n",
       "    <tr>\n",
       "      <th>494</th>\n",
       "      <td>P99399</td>\n",
       "      <td>4</td>\n",
       "    </tr>\n",
       "    <tr>\n",
       "      <th>495</th>\n",
       "      <td>P99593</td>\n",
       "      <td>6</td>\n",
       "    </tr>\n",
       "    <tr>\n",
       "      <th>496</th>\n",
       "      <td>P99733</td>\n",
       "      <td>3</td>\n",
       "    </tr>\n",
       "  </tbody>\n",
       "</table>\n",
       "<p>497 rows × 2 columns</p>\n",
       "</div>"
      ],
      "text/plain": [
       "    patient_id  fill_count\n",
       "0       P10074          10\n",
       "1       P10282           8\n",
       "2       P10425           8\n",
       "3       P10464           2\n",
       "4       P10851          10\n",
       "..         ...         ...\n",
       "492     P99192           5\n",
       "493     P99353           5\n",
       "494     P99399           4\n",
       "495     P99593           6\n",
       "496     P99733           3\n",
       "\n",
       "[497 rows x 2 columns]"
      ]
     },
     "execution_count": 133,
     "metadata": {},
     "output_type": "execute_result"
    }
   ],
   "source": [
    "claim_fill_date = claims_sorted.groupby('patient_id').agg(fill_count=('start_date', 'count')).reset_index()\n",
    "type(claim_fill_date)\n",
    "claim_fill_date"
   ]
  },
  {
   "cell_type": "code",
   "execution_count": 134,
   "id": "c242675d",
   "metadata": {
    "execution": {
     "iopub.execute_input": "2025-10-02T22:09:58.538401Z",
     "iopub.status.busy": "2025-10-02T22:09:58.538023Z",
     "iopub.status.idle": "2025-10-02T22:09:58.557504Z",
     "shell.execute_reply": "2025-10-02T22:09:58.556151Z",
     "shell.execute_reply.started": "2025-10-02T22:09:58.538370Z"
    }
   },
   "outputs": [
    {
     "data": {
      "text/html": [
       "<div>\n",
       "<style scoped>\n",
       "    .dataframe tbody tr th:only-of-type {\n",
       "        vertical-align: middle;\n",
       "    }\n",
       "\n",
       "    .dataframe tbody tr th {\n",
       "        vertical-align: top;\n",
       "    }\n",
       "\n",
       "    .dataframe thead th {\n",
       "        text-align: right;\n",
       "    }\n",
       "</style>\n",
       "<table border=\"1\" class=\"dataframe\">\n",
       "  <thead>\n",
       "    <tr style=\"text-align: right;\">\n",
       "      <th></th>\n",
       "      <th>patient_id</th>\n",
       "      <th>start_date</th>\n",
       "      <th>end_date</th>\n",
       "      <th>fill_count</th>\n",
       "    </tr>\n",
       "  </thead>\n",
       "  <tbody>\n",
       "    <tr>\n",
       "      <th>0</th>\n",
       "      <td>P10074</td>\n",
       "      <td>2022-04-06</td>\n",
       "      <td>2022-07-05</td>\n",
       "      <td>1</td>\n",
       "    </tr>\n",
       "    <tr>\n",
       "      <th>1</th>\n",
       "      <td>P10074</td>\n",
       "      <td>2022-06-26</td>\n",
       "      <td>2022-09-24</td>\n",
       "      <td>1</td>\n",
       "    </tr>\n",
       "    <tr>\n",
       "      <th>2</th>\n",
       "      <td>P10074</td>\n",
       "      <td>2022-07-29</td>\n",
       "      <td>2022-08-28</td>\n",
       "      <td>1</td>\n",
       "    </tr>\n",
       "    <tr>\n",
       "      <th>3</th>\n",
       "      <td>P10074</td>\n",
       "      <td>2022-11-23</td>\n",
       "      <td>2023-02-21</td>\n",
       "      <td>1</td>\n",
       "    </tr>\n",
       "    <tr>\n",
       "      <th>4</th>\n",
       "      <td>P10074</td>\n",
       "      <td>2023-08-21</td>\n",
       "      <td>2023-11-19</td>\n",
       "      <td>1</td>\n",
       "    </tr>\n",
       "    <tr>\n",
       "      <th>...</th>\n",
       "      <td>...</td>\n",
       "      <td>...</td>\n",
       "      <td>...</td>\n",
       "      <td>...</td>\n",
       "    </tr>\n",
       "    <tr>\n",
       "      <th>2992</th>\n",
       "      <td>P99593</td>\n",
       "      <td>2024-08-27</td>\n",
       "      <td>2024-09-26</td>\n",
       "      <td>1</td>\n",
       "    </tr>\n",
       "    <tr>\n",
       "      <th>2993</th>\n",
       "      <td>P99593</td>\n",
       "      <td>2024-11-01</td>\n",
       "      <td>2024-12-01</td>\n",
       "      <td>1</td>\n",
       "    </tr>\n",
       "    <tr>\n",
       "      <th>2994</th>\n",
       "      <td>P99733</td>\n",
       "      <td>2023-07-28</td>\n",
       "      <td>2023-09-26</td>\n",
       "      <td>1</td>\n",
       "    </tr>\n",
       "    <tr>\n",
       "      <th>2995</th>\n",
       "      <td>P99733</td>\n",
       "      <td>2023-12-24</td>\n",
       "      <td>2024-02-22</td>\n",
       "      <td>1</td>\n",
       "    </tr>\n",
       "    <tr>\n",
       "      <th>2996</th>\n",
       "      <td>P99733</td>\n",
       "      <td>2024-06-13</td>\n",
       "      <td>2024-07-13</td>\n",
       "      <td>1</td>\n",
       "    </tr>\n",
       "  </tbody>\n",
       "</table>\n",
       "<p>2997 rows × 4 columns</p>\n",
       "</div>"
      ],
      "text/plain": [
       "     patient_id  start_date    end_date  fill_count\n",
       "0        P10074  2022-04-06  2022-07-05           1\n",
       "1        P10074  2022-06-26  2022-09-24           1\n",
       "2        P10074  2022-07-29  2022-08-28           1\n",
       "3        P10074  2022-11-23  2023-02-21           1\n",
       "4        P10074  2023-08-21  2023-11-19           1\n",
       "...         ...         ...         ...         ...\n",
       "2992     P99593  2024-08-27  2024-09-26           1\n",
       "2993     P99593  2024-11-01  2024-12-01           1\n",
       "2994     P99733  2023-07-28  2023-09-26           1\n",
       "2995     P99733  2023-12-24  2024-02-22           1\n",
       "2996     P99733  2024-06-13  2024-07-13           1\n",
       "\n",
       "[2997 rows x 4 columns]"
      ]
     },
     "execution_count": 134,
     "metadata": {},
     "output_type": "execute_result"
    }
   ],
   "source": [
    "claim_fill_date = claims_sorted.groupby(['patient_id', 'start_date', 'end_date']).size().reset_index(name='fill_count')\n",
    "claim_fill_date"
   ]
  },
  {
   "cell_type": "code",
   "execution_count": 135,
   "id": "4d224df6",
   "metadata": {
    "execution": {
     "iopub.execute_input": "2025-10-02T22:09:58.559157Z",
     "iopub.status.busy": "2025-10-02T22:09:58.558787Z",
     "iopub.status.idle": "2025-10-02T22:09:58.580253Z",
     "shell.execute_reply": "2025-10-02T22:09:58.579056Z",
     "shell.execute_reply.started": "2025-10-02T22:09:58.559130Z"
    }
   },
   "outputs": [
    {
     "name": "stdout",
     "output_type": "stream",
     "text": [
      "Index(['patient_id', 'start_date', 'end_date', 'fill_count'], dtype='object')\n",
      "patient_id    object\n",
      "start_date    object\n",
      "end_date      object\n",
      "fill_count     int64\n",
      "dtype: object\n",
      "Index(['date', 'month', 'year', 'fiscal_quarter', 'fiscal_year'], dtype='object')\n",
      "date              object\n",
      "month              int64\n",
      "year               int64\n",
      "fiscal_quarter     int64\n",
      "fiscal_year        int64\n",
      "dtype: object\n"
     ]
    }
   ],
   "source": [
    "print(claim_fill_date.columns)\n",
    "print(claim_fill_date.dtypes)\n",
    "print(calendar.columns)\n",
    "print(calendar.dtypes)"
   ]
  },
  {
   "cell_type": "code",
   "execution_count": 136,
   "id": "09423d55",
   "metadata": {
    "execution": {
     "iopub.execute_input": "2025-10-02T22:09:58.581882Z",
     "iopub.status.busy": "2025-10-02T22:09:58.581510Z",
     "iopub.status.idle": "2025-10-02T22:09:58.604954Z",
     "shell.execute_reply": "2025-10-02T22:09:58.604048Z",
     "shell.execute_reply.started": "2025-10-02T22:09:58.581827Z"
    }
   },
   "outputs": [],
   "source": [
    "claim_fill_date['start_date'] = pd.to_datetime(claim_fill_date['start_date'])\n",
    "calendar['date'] = pd.to_datetime(calendar['date'])"
   ]
  },
  {
   "cell_type": "code",
   "execution_count": 137,
   "id": "6a82bfc0",
   "metadata": {
    "execution": {
     "iopub.execute_input": "2025-10-02T22:09:58.606525Z",
     "iopub.status.busy": "2025-10-02T22:09:58.606238Z",
     "iopub.status.idle": "2025-10-02T22:09:58.639486Z",
     "shell.execute_reply": "2025-10-02T22:09:58.638407Z",
     "shell.execute_reply.started": "2025-10-02T22:09:58.606503Z"
    }
   },
   "outputs": [
    {
     "data": {
      "text/html": [
       "<div>\n",
       "<style scoped>\n",
       "    .dataframe tbody tr th:only-of-type {\n",
       "        vertical-align: middle;\n",
       "    }\n",
       "\n",
       "    .dataframe tbody tr th {\n",
       "        vertical-align: top;\n",
       "    }\n",
       "\n",
       "    .dataframe thead th {\n",
       "        text-align: right;\n",
       "    }\n",
       "</style>\n",
       "<table border=\"1\" class=\"dataframe\">\n",
       "  <thead>\n",
       "    <tr style=\"text-align: right;\">\n",
       "      <th></th>\n",
       "      <th>patient_id</th>\n",
       "      <th>start_date</th>\n",
       "      <th>end_date</th>\n",
       "      <th>fill_count</th>\n",
       "      <th>date</th>\n",
       "      <th>month</th>\n",
       "      <th>year</th>\n",
       "      <th>fiscal_quarter</th>\n",
       "      <th>fiscal_year</th>\n",
       "    </tr>\n",
       "  </thead>\n",
       "  <tbody>\n",
       "    <tr>\n",
       "      <th>0</th>\n",
       "      <td>P10074</td>\n",
       "      <td>2022-04-06</td>\n",
       "      <td>2022-07-05</td>\n",
       "      <td>1</td>\n",
       "      <td>2022-04-06</td>\n",
       "      <td>4</td>\n",
       "      <td>2022</td>\n",
       "      <td>2</td>\n",
       "      <td>2022</td>\n",
       "    </tr>\n",
       "    <tr>\n",
       "      <th>1</th>\n",
       "      <td>P10074</td>\n",
       "      <td>2022-06-26</td>\n",
       "      <td>2022-09-24</td>\n",
       "      <td>1</td>\n",
       "      <td>2022-06-26</td>\n",
       "      <td>6</td>\n",
       "      <td>2022</td>\n",
       "      <td>2</td>\n",
       "      <td>2022</td>\n",
       "    </tr>\n",
       "    <tr>\n",
       "      <th>2</th>\n",
       "      <td>P10074</td>\n",
       "      <td>2022-07-29</td>\n",
       "      <td>2022-08-28</td>\n",
       "      <td>1</td>\n",
       "      <td>2022-07-29</td>\n",
       "      <td>7</td>\n",
       "      <td>2022</td>\n",
       "      <td>3</td>\n",
       "      <td>2022</td>\n",
       "    </tr>\n",
       "    <tr>\n",
       "      <th>3</th>\n",
       "      <td>P10074</td>\n",
       "      <td>2022-11-23</td>\n",
       "      <td>2023-02-21</td>\n",
       "      <td>1</td>\n",
       "      <td>2022-11-23</td>\n",
       "      <td>11</td>\n",
       "      <td>2022</td>\n",
       "      <td>4</td>\n",
       "      <td>2022</td>\n",
       "    </tr>\n",
       "    <tr>\n",
       "      <th>4</th>\n",
       "      <td>P10074</td>\n",
       "      <td>2023-08-21</td>\n",
       "      <td>2023-11-19</td>\n",
       "      <td>1</td>\n",
       "      <td>2023-08-21</td>\n",
       "      <td>8</td>\n",
       "      <td>2023</td>\n",
       "      <td>3</td>\n",
       "      <td>2023</td>\n",
       "    </tr>\n",
       "  </tbody>\n",
       "</table>\n",
       "</div>"
      ],
      "text/plain": [
       "  patient_id start_date    end_date  fill_count       date  month  year  \\\n",
       "0     P10074 2022-04-06  2022-07-05           1 2022-04-06      4  2022   \n",
       "1     P10074 2022-06-26  2022-09-24           1 2022-06-26      6  2022   \n",
       "2     P10074 2022-07-29  2022-08-28           1 2022-07-29      7  2022   \n",
       "3     P10074 2022-11-23  2023-02-21           1 2022-11-23     11  2022   \n",
       "4     P10074 2023-08-21  2023-11-19           1 2023-08-21      8  2023   \n",
       "\n",
       "   fiscal_quarter  fiscal_year  \n",
       "0               2         2022  \n",
       "1               2         2022  \n",
       "2               3         2022  \n",
       "3               4         2022  \n",
       "4               3         2023  "
      ]
     },
     "execution_count": 137,
     "metadata": {},
     "output_type": "execute_result"
    }
   ],
   "source": [
    "claim_fill_month = claim_fill_date.merge(calendar, how='inner', left_on='start_date', right_on='date')\n",
    "claim_fill_month.head(5)"
   ]
  },
  {
   "cell_type": "code",
   "execution_count": 138,
   "id": "9f326d06",
   "metadata": {
    "execution": {
     "iopub.execute_input": "2025-10-02T22:09:58.641574Z",
     "iopub.status.busy": "2025-10-02T22:09:58.641262Z",
     "iopub.status.idle": "2025-10-02T22:09:58.654458Z",
     "shell.execute_reply": "2025-10-02T22:09:58.653312Z",
     "shell.execute_reply.started": "2025-10-02T22:09:58.641543Z"
    }
   },
   "outputs": [],
   "source": [
    "claim_mm_yy=claim_fill_month.groupby(['month','year']).agg(fill_count=('start_date','count')).reset_index()"
   ]
  },
  {
   "cell_type": "code",
   "execution_count": 139,
   "id": "57e9a630",
   "metadata": {
    "execution": {
     "iopub.execute_input": "2025-10-02T22:09:58.655753Z",
     "iopub.status.busy": "2025-10-02T22:09:58.655473Z",
     "iopub.status.idle": "2025-10-02T22:09:58.679321Z",
     "shell.execute_reply": "2025-10-02T22:09:58.678377Z",
     "shell.execute_reply.started": "2025-10-02T22:09:58.655731Z"
    }
   },
   "outputs": [
    {
     "data": {
      "text/html": [
       "<div>\n",
       "<style scoped>\n",
       "    .dataframe tbody tr th:only-of-type {\n",
       "        vertical-align: middle;\n",
       "    }\n",
       "\n",
       "    .dataframe tbody tr th {\n",
       "        vertical-align: top;\n",
       "    }\n",
       "\n",
       "    .dataframe thead th {\n",
       "        text-align: right;\n",
       "    }\n",
       "</style>\n",
       "<table border=\"1\" class=\"dataframe\">\n",
       "  <thead>\n",
       "    <tr style=\"text-align: right;\">\n",
       "      <th></th>\n",
       "      <th>month</th>\n",
       "      <th>year</th>\n",
       "      <th>fill_count</th>\n",
       "    </tr>\n",
       "  </thead>\n",
       "  <tbody>\n",
       "    <tr>\n",
       "      <th>0</th>\n",
       "      <td>1</td>\n",
       "      <td>2022</td>\n",
       "      <td>92</td>\n",
       "    </tr>\n",
       "    <tr>\n",
       "      <th>1</th>\n",
       "      <td>1</td>\n",
       "      <td>2023</td>\n",
       "      <td>84</td>\n",
       "    </tr>\n",
       "  </tbody>\n",
       "</table>\n",
       "</div>"
      ],
      "text/plain": [
       "   month  year  fill_count\n",
       "0      1  2022          92\n",
       "1      1  2023          84"
      ]
     },
     "execution_count": 139,
     "metadata": {},
     "output_type": "execute_result"
    }
   ],
   "source": [
    "claim_mm_yy.head(2)"
   ]
  },
  {
   "cell_type": "code",
   "execution_count": 140,
   "id": "4af80f85",
   "metadata": {
    "execution": {
     "iopub.execute_input": "2025-10-02T22:09:58.680789Z",
     "iopub.status.busy": "2025-10-02T22:09:58.680394Z",
     "iopub.status.idle": "2025-10-02T22:09:58.705954Z",
     "shell.execute_reply": "2025-10-02T22:09:58.704507Z",
     "shell.execute_reply.started": "2025-10-02T22:09:58.680765Z"
    }
   },
   "outputs": [],
   "source": [
    "import pandas as pd\n",
    "from prophet import Prophet\n",
    "import matplotlib.pyplot as plt"
   ]
  },
  {
   "cell_type": "code",
   "execution_count": 141,
   "id": "63645733",
   "metadata": {
    "execution": {
     "iopub.execute_input": "2025-10-02T22:09:58.708774Z",
     "iopub.status.busy": "2025-10-02T22:09:58.707526Z",
     "iopub.status.idle": "2025-10-02T22:09:58.740305Z",
     "shell.execute_reply": "2025-10-02T22:09:58.739078Z",
     "shell.execute_reply.started": "2025-10-02T22:09:58.708733Z"
    }
   },
   "outputs": [
    {
     "data": {
      "text/html": [
       "<div>\n",
       "<style scoped>\n",
       "    .dataframe tbody tr th:only-of-type {\n",
       "        vertical-align: middle;\n",
       "    }\n",
       "\n",
       "    .dataframe tbody tr th {\n",
       "        vertical-align: top;\n",
       "    }\n",
       "\n",
       "    .dataframe thead th {\n",
       "        text-align: right;\n",
       "    }\n",
       "</style>\n",
       "<table border=\"1\" class=\"dataframe\">\n",
       "  <thead>\n",
       "    <tr style=\"text-align: right;\">\n",
       "      <th></th>\n",
       "      <th>month</th>\n",
       "      <th>year</th>\n",
       "      <th>fill_count</th>\n",
       "      <th>month_start</th>\n",
       "    </tr>\n",
       "  </thead>\n",
       "  <tbody>\n",
       "    <tr>\n",
       "      <th>0</th>\n",
       "      <td>1</td>\n",
       "      <td>2022</td>\n",
       "      <td>92</td>\n",
       "      <td>2022-01-01</td>\n",
       "    </tr>\n",
       "    <tr>\n",
       "      <th>1</th>\n",
       "      <td>1</td>\n",
       "      <td>2023</td>\n",
       "      <td>84</td>\n",
       "      <td>2023-01-01</td>\n",
       "    </tr>\n",
       "  </tbody>\n",
       "</table>\n",
       "</div>"
      ],
      "text/plain": [
       "   month  year  fill_count month_start\n",
       "0      1  2022          92  2022-01-01\n",
       "1      1  2023          84  2023-01-01"
      ]
     },
     "execution_count": 141,
     "metadata": {},
     "output_type": "execute_result"
    }
   ],
   "source": [
    "claim_mm_yy['month_start'] = pd.to_datetime(dict(year=claim_mm_yy.year, month=claim_mm_yy.month, day=1))\n",
    "claim_mm_yy['fill_count'] = claim_mm_yy['fill_count'].interpolate(method='linear')\n",
    "claim_mm_yy.head(2)"
   ]
  },
  {
   "cell_type": "code",
   "execution_count": 142,
   "id": "14f22460",
   "metadata": {
    "execution": {
     "iopub.execute_input": "2025-10-02T22:09:58.741452Z",
     "iopub.status.busy": "2025-10-02T22:09:58.741096Z",
     "iopub.status.idle": "2025-10-02T22:09:58.771935Z",
     "shell.execute_reply": "2025-10-02T22:09:58.770965Z",
     "shell.execute_reply.started": "2025-10-02T22:09:58.741423Z"
    }
   },
   "outputs": [
    {
     "data": {
      "text/html": [
       "<div>\n",
       "<style scoped>\n",
       "    .dataframe tbody tr th:only-of-type {\n",
       "        vertical-align: middle;\n",
       "    }\n",
       "\n",
       "    .dataframe tbody tr th {\n",
       "        vertical-align: top;\n",
       "    }\n",
       "\n",
       "    .dataframe thead th {\n",
       "        text-align: right;\n",
       "    }\n",
       "</style>\n",
       "<table border=\"1\" class=\"dataframe\">\n",
       "  <thead>\n",
       "    <tr style=\"text-align: right;\">\n",
       "      <th></th>\n",
       "      <th>month_start</th>\n",
       "      <th>year</th>\n",
       "      <th>month</th>\n",
       "      <th>fill_count</th>\n",
       "    </tr>\n",
       "  </thead>\n",
       "  <tbody>\n",
       "    <tr>\n",
       "      <th>0</th>\n",
       "      <td>2022-01-01</td>\n",
       "      <td>2022</td>\n",
       "      <td>1</td>\n",
       "      <td>92</td>\n",
       "    </tr>\n",
       "    <tr>\n",
       "      <th>1</th>\n",
       "      <td>2022-02-01</td>\n",
       "      <td>2022</td>\n",
       "      <td>2</td>\n",
       "      <td>79</td>\n",
       "    </tr>\n",
       "  </tbody>\n",
       "</table>\n",
       "</div>"
      ],
      "text/plain": [
       "  month_start  year  month  fill_count\n",
       "0  2022-01-01  2022      1          92\n",
       "1  2022-02-01  2022      2          79"
      ]
     },
     "execution_count": 142,
     "metadata": {},
     "output_type": "execute_result"
    }
   ],
   "source": [
    "claim_mm_yy = claim_mm_yy.sort_values(by=['year', 'month'])\n",
    "claims_ms=claim_mm_yy[['month_start','year','month','fill_count']].reset_index(drop=True)\n",
    "claims_ms.head(2)"
   ]
  },
  {
   "cell_type": "code",
   "execution_count": 143,
   "id": "12ac426e",
   "metadata": {
    "execution": {
     "iopub.execute_input": "2025-10-02T22:09:58.773009Z",
     "iopub.status.busy": "2025-10-02T22:09:58.772781Z",
     "iopub.status.idle": "2025-10-02T22:09:58.797162Z",
     "shell.execute_reply": "2025-10-02T22:09:58.796102Z",
     "shell.execute_reply.started": "2025-10-02T22:09:58.772990Z"
    }
   },
   "outputs": [
    {
     "data": {
      "text/html": [
       "<div>\n",
       "<style scoped>\n",
       "    .dataframe tbody tr th:only-of-type {\n",
       "        vertical-align: middle;\n",
       "    }\n",
       "\n",
       "    .dataframe tbody tr th {\n",
       "        vertical-align: top;\n",
       "    }\n",
       "\n",
       "    .dataframe thead th {\n",
       "        text-align: right;\n",
       "    }\n",
       "</style>\n",
       "<table border=\"1\" class=\"dataframe\">\n",
       "  <thead>\n",
       "    <tr style=\"text-align: right;\">\n",
       "      <th></th>\n",
       "      <th>ds</th>\n",
       "      <th>year</th>\n",
       "      <th>month</th>\n",
       "      <th>y</th>\n",
       "    </tr>\n",
       "  </thead>\n",
       "  <tbody>\n",
       "    <tr>\n",
       "      <th>0</th>\n",
       "      <td>2022-01-01</td>\n",
       "      <td>2022</td>\n",
       "      <td>1</td>\n",
       "      <td>92</td>\n",
       "    </tr>\n",
       "    <tr>\n",
       "      <th>1</th>\n",
       "      <td>2022-02-01</td>\n",
       "      <td>2022</td>\n",
       "      <td>2</td>\n",
       "      <td>79</td>\n",
       "    </tr>\n",
       "  </tbody>\n",
       "</table>\n",
       "</div>"
      ],
      "text/plain": [
       "          ds  year  month   y\n",
       "0 2022-01-01  2022      1  92\n",
       "1 2022-02-01  2022      2  79"
      ]
     },
     "execution_count": 143,
     "metadata": {},
     "output_type": "execute_result"
    }
   ],
   "source": [
    "import pandas as pd\n",
    "from prophet import Prophet\n",
    "import matplotlib.pyplot as plt\n",
    "df = claims_ms.copy()\n",
    "df = df.rename(columns={'month_start': 'ds', 'fill_count': 'y'})\n",
    "df['ds'] = pd.to_datetime(df['ds'])\n",
    "df.head(2)"
   ]
  },
  {
   "cell_type": "code",
   "execution_count": 144,
   "id": "d0e66ca5",
   "metadata": {
    "execution": {
     "iopub.execute_input": "2025-10-02T22:09:58.798630Z",
     "iopub.status.busy": "2025-10-02T22:09:58.798308Z",
     "iopub.status.idle": "2025-10-02T22:09:58.810675Z",
     "shell.execute_reply": "2025-10-02T22:09:58.809781Z",
     "shell.execute_reply.started": "2025-10-02T22:09:58.798604Z"
    }
   },
   "outputs": [
    {
     "data": {
      "text/html": [
       "<div>\n",
       "<style scoped>\n",
       "    .dataframe tbody tr th:only-of-type {\n",
       "        vertical-align: middle;\n",
       "    }\n",
       "\n",
       "    .dataframe tbody tr th {\n",
       "        vertical-align: top;\n",
       "    }\n",
       "\n",
       "    .dataframe thead th {\n",
       "        text-align: right;\n",
       "    }\n",
       "</style>\n",
       "<table border=\"1\" class=\"dataframe\">\n",
       "  <thead>\n",
       "    <tr style=\"text-align: right;\">\n",
       "      <th></th>\n",
       "      <th>ds</th>\n",
       "      <th>year</th>\n",
       "      <th>month</th>\n",
       "      <th>y</th>\n",
       "    </tr>\n",
       "  </thead>\n",
       "  <tbody>\n",
       "    <tr>\n",
       "      <th>0</th>\n",
       "      <td>2022-01-01</td>\n",
       "      <td>2022</td>\n",
       "      <td>1</td>\n",
       "      <td>92</td>\n",
       "    </tr>\n",
       "    <tr>\n",
       "      <th>1</th>\n",
       "      <td>2022-02-01</td>\n",
       "      <td>2022</td>\n",
       "      <td>2</td>\n",
       "      <td>79</td>\n",
       "    </tr>\n",
       "  </tbody>\n",
       "</table>\n",
       "</div>"
      ],
      "text/plain": [
       "          ds  year  month   y\n",
       "0 2022-01-01  2022      1  92\n",
       "1 2022-02-01  2022      2  79"
      ]
     },
     "execution_count": 144,
     "metadata": {},
     "output_type": "execute_result"
    }
   ],
   "source": [
    "df['y'] = df['y'].interpolate(method='linear')\n",
    "df.head(2)"
   ]
  },
  {
   "cell_type": "code",
   "execution_count": 145,
   "id": "c14cb3f3",
   "metadata": {
    "execution": {
     "iopub.execute_input": "2025-10-02T22:09:58.812122Z",
     "iopub.status.busy": "2025-10-02T22:09:58.811752Z",
     "iopub.status.idle": "2025-10-02T22:09:59.010784Z",
     "shell.execute_reply": "2025-10-02T22:09:59.009793Z",
     "shell.execute_reply.started": "2025-10-02T22:09:58.812093Z"
    }
   },
   "outputs": [
    {
     "name": "stderr",
     "output_type": "stream",
     "text": [
      "22:09:58 - cmdstanpy - INFO - Chain [1] start processing\n",
      "22:09:59 - cmdstanpy - INFO - Chain [1] done processing\n"
     ]
    },
    {
     "data": {
      "text/plain": [
       "<prophet.forecaster.Prophet at 0x7bbd51527f50>"
      ]
     },
     "execution_count": 145,
     "metadata": {},
     "output_type": "execute_result"
    }
   ],
   "source": [
    "model = Prophet(seasonality_mode='multiplicative')\n",
    "model.fit(df[['ds', 'y']])"
   ]
  },
  {
   "cell_type": "code",
   "execution_count": 146,
   "id": "f16e86a3",
   "metadata": {
    "execution": {
     "iopub.execute_input": "2025-10-02T22:09:59.012046Z",
     "iopub.status.busy": "2025-10-02T22:09:59.011782Z",
     "iopub.status.idle": "2025-10-02T22:09:59.081196Z",
     "shell.execute_reply": "2025-10-02T22:09:59.080164Z",
     "shell.execute_reply.started": "2025-10-02T22:09:59.012026Z"
    }
   },
   "outputs": [
    {
     "data": {
      "text/html": [
       "<div>\n",
       "<style scoped>\n",
       "    .dataframe tbody tr th:only-of-type {\n",
       "        vertical-align: middle;\n",
       "    }\n",
       "\n",
       "    .dataframe tbody tr th {\n",
       "        vertical-align: top;\n",
       "    }\n",
       "\n",
       "    .dataframe thead th {\n",
       "        text-align: right;\n",
       "    }\n",
       "</style>\n",
       "<table border=\"1\" class=\"dataframe\">\n",
       "  <thead>\n",
       "    <tr style=\"text-align: right;\">\n",
       "      <th></th>\n",
       "      <th>ds</th>\n",
       "      <th>trend</th>\n",
       "      <th>yhat_lower</th>\n",
       "      <th>yhat_upper</th>\n",
       "      <th>trend_lower</th>\n",
       "      <th>trend_upper</th>\n",
       "      <th>multiplicative_terms</th>\n",
       "      <th>multiplicative_terms_lower</th>\n",
       "      <th>multiplicative_terms_upper</th>\n",
       "      <th>yearly</th>\n",
       "      <th>yearly_lower</th>\n",
       "      <th>yearly_upper</th>\n",
       "      <th>additive_terms</th>\n",
       "      <th>additive_terms_lower</th>\n",
       "      <th>additive_terms_upper</th>\n",
       "      <th>yhat</th>\n",
       "    </tr>\n",
       "  </thead>\n",
       "  <tbody>\n",
       "    <tr>\n",
       "      <th>0</th>\n",
       "      <td>2022-01-01</td>\n",
       "      <td>85.533732</td>\n",
       "      <td>82.553351</td>\n",
       "      <td>100.978908</td>\n",
       "      <td>85.533732</td>\n",
       "      <td>85.533732</td>\n",
       "      <td>0.06772</td>\n",
       "      <td>0.06772</td>\n",
       "      <td>0.06772</td>\n",
       "      <td>0.06772</td>\n",
       "      <td>0.06772</td>\n",
       "      <td>0.06772</td>\n",
       "      <td>0.0</td>\n",
       "      <td>0.0</td>\n",
       "      <td>0.0</td>\n",
       "      <td>91.326051</td>\n",
       "    </tr>\n",
       "    <tr>\n",
       "      <th>1</th>\n",
       "      <td>2022-02-01</td>\n",
       "      <td>85.487288</td>\n",
       "      <td>67.375056</td>\n",
       "      <td>84.997945</td>\n",
       "      <td>85.487288</td>\n",
       "      <td>85.487288</td>\n",
       "      <td>-0.11208</td>\n",
       "      <td>-0.11208</td>\n",
       "      <td>-0.11208</td>\n",
       "      <td>-0.11208</td>\n",
       "      <td>-0.11208</td>\n",
       "      <td>-0.11208</td>\n",
       "      <td>0.0</td>\n",
       "      <td>0.0</td>\n",
       "      <td>0.0</td>\n",
       "      <td>75.905914</td>\n",
       "    </tr>\n",
       "  </tbody>\n",
       "</table>\n",
       "</div>"
      ],
      "text/plain": [
       "          ds      trend  yhat_lower  yhat_upper  trend_lower  trend_upper  \\\n",
       "0 2022-01-01  85.533732   82.553351  100.978908    85.533732    85.533732   \n",
       "1 2022-02-01  85.487288   67.375056   84.997945    85.487288    85.487288   \n",
       "\n",
       "   multiplicative_terms  multiplicative_terms_lower  \\\n",
       "0               0.06772                     0.06772   \n",
       "1              -0.11208                    -0.11208   \n",
       "\n",
       "   multiplicative_terms_upper   yearly  yearly_lower  yearly_upper  \\\n",
       "0                     0.06772  0.06772       0.06772       0.06772   \n",
       "1                    -0.11208 -0.11208      -0.11208      -0.11208   \n",
       "\n",
       "   additive_terms  additive_terms_lower  additive_terms_upper       yhat  \n",
       "0             0.0                   0.0                   0.0  91.326051  \n",
       "1             0.0                   0.0                   0.0  75.905914  "
      ]
     },
     "execution_count": 146,
     "metadata": {},
     "output_type": "execute_result"
    }
   ],
   "source": [
    "future = model.make_future_dataframe(periods=12, freq='MS')\n",
    "forecast = model.predict(future)\n",
    "forecast.head(2)"
   ]
  },
  {
   "cell_type": "code",
   "execution_count": 147,
   "id": "f1d009ec",
   "metadata": {
    "execution": {
     "iopub.execute_input": "2025-10-02T22:09:59.082870Z",
     "iopub.status.busy": "2025-10-02T22:09:59.082516Z",
     "iopub.status.idle": "2025-10-02T22:09:59.100379Z",
     "shell.execute_reply": "2025-10-02T22:09:59.099293Z",
     "shell.execute_reply.started": "2025-10-02T22:09:59.082841Z"
    }
   },
   "outputs": [
    {
     "data": {
      "text/html": [
       "<div>\n",
       "<style scoped>\n",
       "    .dataframe tbody tr th:only-of-type {\n",
       "        vertical-align: middle;\n",
       "    }\n",
       "\n",
       "    .dataframe tbody tr th {\n",
       "        vertical-align: top;\n",
       "    }\n",
       "\n",
       "    .dataframe thead th {\n",
       "        text-align: right;\n",
       "    }\n",
       "</style>\n",
       "<table border=\"1\" class=\"dataframe\">\n",
       "  <thead>\n",
       "    <tr style=\"text-align: right;\">\n",
       "      <th></th>\n",
       "      <th>ds</th>\n",
       "      <th>trend</th>\n",
       "      <th>yhat_lower</th>\n",
       "      <th>yhat_upper</th>\n",
       "      <th>trend_lower</th>\n",
       "      <th>trend_upper</th>\n",
       "      <th>multiplicative_terms</th>\n",
       "      <th>multiplicative_terms_lower</th>\n",
       "      <th>multiplicative_terms_upper</th>\n",
       "      <th>yearly</th>\n",
       "      <th>yearly_lower</th>\n",
       "      <th>yearly_upper</th>\n",
       "      <th>additive_terms</th>\n",
       "      <th>additive_terms_lower</th>\n",
       "      <th>additive_terms_upper</th>\n",
       "      <th>yhat</th>\n",
       "    </tr>\n",
       "  </thead>\n",
       "  <tbody>\n",
       "    <tr>\n",
       "      <th>0</th>\n",
       "      <td>2022-01-01</td>\n",
       "      <td>85.533732</td>\n",
       "      <td>82.553351</td>\n",
       "      <td>100.978908</td>\n",
       "      <td>85.533732</td>\n",
       "      <td>85.533732</td>\n",
       "      <td>0.06772</td>\n",
       "      <td>0.06772</td>\n",
       "      <td>0.06772</td>\n",
       "      <td>0.06772</td>\n",
       "      <td>0.06772</td>\n",
       "      <td>0.06772</td>\n",
       "      <td>0.0</td>\n",
       "      <td>0.0</td>\n",
       "      <td>0.0</td>\n",
       "      <td>91.326051</td>\n",
       "    </tr>\n",
       "    <tr>\n",
       "      <th>1</th>\n",
       "      <td>2022-02-01</td>\n",
       "      <td>85.487288</td>\n",
       "      <td>67.375056</td>\n",
       "      <td>84.997945</td>\n",
       "      <td>85.487288</td>\n",
       "      <td>85.487288</td>\n",
       "      <td>-0.11208</td>\n",
       "      <td>-0.11208</td>\n",
       "      <td>-0.11208</td>\n",
       "      <td>-0.11208</td>\n",
       "      <td>-0.11208</td>\n",
       "      <td>-0.11208</td>\n",
       "      <td>0.0</td>\n",
       "      <td>0.0</td>\n",
       "      <td>0.0</td>\n",
       "      <td>75.905914</td>\n",
       "    </tr>\n",
       "  </tbody>\n",
       "</table>\n",
       "</div>"
      ],
      "text/plain": [
       "          ds      trend  yhat_lower  yhat_upper  trend_lower  trend_upper  \\\n",
       "0 2022-01-01  85.533732   82.553351  100.978908    85.533732    85.533732   \n",
       "1 2022-02-01  85.487288   67.375056   84.997945    85.487288    85.487288   \n",
       "\n",
       "   multiplicative_terms  multiplicative_terms_lower  \\\n",
       "0               0.06772                     0.06772   \n",
       "1              -0.11208                    -0.11208   \n",
       "\n",
       "   multiplicative_terms_upper   yearly  yearly_lower  yearly_upper  \\\n",
       "0                     0.06772  0.06772       0.06772       0.06772   \n",
       "1                    -0.11208 -0.11208      -0.11208      -0.11208   \n",
       "\n",
       "   additive_terms  additive_terms_lower  additive_terms_upper       yhat  \n",
       "0             0.0                   0.0                   0.0  91.326051  \n",
       "1             0.0                   0.0                   0.0  75.905914  "
      ]
     },
     "execution_count": 147,
     "metadata": {},
     "output_type": "execute_result"
    }
   ],
   "source": [
    "forecast.shape\n",
    "forecast.head(2)"
   ]
  },
  {
   "cell_type": "code",
   "execution_count": 148,
   "id": "5431da7d",
   "metadata": {
    "execution": {
     "iopub.execute_input": "2025-10-02T22:09:59.101655Z",
     "iopub.status.busy": "2025-10-02T22:09:59.101411Z",
     "iopub.status.idle": "2025-10-02T22:09:59.122241Z",
     "shell.execute_reply": "2025-10-02T22:09:59.121199Z",
     "shell.execute_reply.started": "2025-10-02T22:09:59.101636Z"
    }
   },
   "outputs": [
    {
     "data": {
      "text/plain": [
       "(36, 4)"
      ]
     },
     "execution_count": 148,
     "metadata": {},
     "output_type": "execute_result"
    }
   ],
   "source": [
    "claims_ms.shape"
   ]
  },
  {
   "cell_type": "code",
   "execution_count": 149,
   "id": "184ae7c9",
   "metadata": {
    "execution": {
     "iopub.execute_input": "2025-10-02T22:09:59.123676Z",
     "iopub.status.busy": "2025-10-02T22:09:59.123342Z",
     "iopub.status.idle": "2025-10-02T22:09:59.155050Z",
     "shell.execute_reply": "2025-10-02T22:09:59.154123Z",
     "shell.execute_reply.started": "2025-10-02T22:09:59.123646Z"
    }
   },
   "outputs": [
    {
     "data": {
      "text/html": [
       "<div>\n",
       "<style scoped>\n",
       "    .dataframe tbody tr th:only-of-type {\n",
       "        vertical-align: middle;\n",
       "    }\n",
       "\n",
       "    .dataframe tbody tr th {\n",
       "        vertical-align: top;\n",
       "    }\n",
       "\n",
       "    .dataframe thead th {\n",
       "        text-align: right;\n",
       "    }\n",
       "</style>\n",
       "<table border=\"1\" class=\"dataframe\">\n",
       "  <thead>\n",
       "    <tr style=\"text-align: right;\">\n",
       "      <th></th>\n",
       "      <th>ds</th>\n",
       "      <th>yhat</th>\n",
       "      <th>y</th>\n",
       "    </tr>\n",
       "  </thead>\n",
       "  <tbody>\n",
       "    <tr>\n",
       "      <th>0</th>\n",
       "      <td>2022-01-01</td>\n",
       "      <td>91.326051</td>\n",
       "      <td>92.0</td>\n",
       "    </tr>\n",
       "    <tr>\n",
       "      <th>1</th>\n",
       "      <td>2022-02-01</td>\n",
       "      <td>75.905914</td>\n",
       "      <td>79.0</td>\n",
       "    </tr>\n",
       "  </tbody>\n",
       "</table>\n",
       "</div>"
      ],
      "text/plain": [
       "          ds       yhat     y\n",
       "0 2022-01-01  91.326051  92.0\n",
       "1 2022-02-01  75.905914  79.0"
      ]
     },
     "execution_count": 149,
     "metadata": {},
     "output_type": "execute_result"
    }
   ],
   "source": [
    "merged_df = forecast[['ds', 'yhat']].merge(df[['ds', 'y']], on='ds', how='left')\n",
    "merged_df.head(2)"
   ]
  },
  {
   "cell_type": "code",
   "execution_count": 150,
   "id": "ac4f3cfb",
   "metadata": {
    "execution": {
     "iopub.execute_input": "2025-10-02T22:09:59.156456Z",
     "iopub.status.busy": "2025-10-02T22:09:59.156164Z",
     "iopub.status.idle": "2025-10-02T22:09:59.187982Z",
     "shell.execute_reply": "2025-10-02T22:09:59.185080Z",
     "shell.execute_reply.started": "2025-10-02T22:09:59.156430Z"
    }
   },
   "outputs": [
    {
     "name": "stdout",
     "output_type": "stream",
     "text": [
      "           ds     y       yhat\n",
      "33 2024-10-01  85.0  82.629033\n",
      "34 2024-11-01  84.0  78.364770\n",
      "35 2024-12-01  75.0  82.675628\n",
      "36 2025-01-01   NaN  95.026997\n",
      "37 2025-02-01   NaN  70.015632\n",
      "38 2025-03-01   NaN  77.900485\n",
      "39 2025-04-01   NaN  71.078164\n",
      "40 2025-05-01   NaN  84.779551\n",
      "41 2025-06-01   NaN  81.488639\n",
      "42 2025-07-01   NaN  93.097859\n",
      "43 2025-08-01   NaN  87.726552\n",
      "44 2025-09-01   NaN  81.069170\n",
      "45 2025-10-01   NaN  85.906701\n",
      "46 2025-11-01   NaN  78.355648\n",
      "47 2025-12-01   NaN  81.324851\n"
     ]
    },
    {
     "name": "stderr",
     "output_type": "stream",
     "text": [
      "/usr/local/lib/python3.11/dist-packages/pandas/io/formats/format.py:1458: RuntimeWarning: invalid value encountered in greater\n",
      "  has_large_values = (abs_vals > 1e6).any()\n",
      "/usr/local/lib/python3.11/dist-packages/pandas/io/formats/format.py:1459: RuntimeWarning: invalid value encountered in less\n",
      "  has_small_values = ((abs_vals < 10 ** (-self.digits)) & (abs_vals > 0)).any()\n",
      "/usr/local/lib/python3.11/dist-packages/pandas/io/formats/format.py:1459: RuntimeWarning: invalid value encountered in greater\n",
      "  has_small_values = ((abs_vals < 10 ** (-self.digits)) & (abs_vals > 0)).any()\n"
     ]
    }
   ],
   "source": [
    "merged_df = merged_df[['ds', 'y', 'yhat']]\n",
    "print(merged_df.tail(15))"
   ]
  },
  {
   "cell_type": "code",
   "execution_count": 151,
   "id": "03ffc105",
   "metadata": {
    "execution": {
     "iopub.execute_input": "2025-10-02T22:09:59.190596Z",
     "iopub.status.busy": "2025-10-02T22:09:59.190271Z",
     "iopub.status.idle": "2025-10-02T22:09:59.230586Z",
     "shell.execute_reply": "2025-10-02T22:09:59.228178Z",
     "shell.execute_reply.started": "2025-10-02T22:09:59.190572Z"
    }
   },
   "outputs": [
    {
     "name": "stderr",
     "output_type": "stream",
     "text": [
      "/usr/local/lib/python3.11/dist-packages/pandas/io/formats/format.py:1458: RuntimeWarning: invalid value encountered in greater\n",
      "  has_large_values = (abs_vals > 1e6).any()\n",
      "/usr/local/lib/python3.11/dist-packages/pandas/io/formats/format.py:1459: RuntimeWarning: invalid value encountered in less\n",
      "  has_small_values = ((abs_vals < 10 ** (-self.digits)) & (abs_vals > 0)).any()\n",
      "/usr/local/lib/python3.11/dist-packages/pandas/io/formats/format.py:1459: RuntimeWarning: invalid value encountered in greater\n",
      "  has_small_values = ((abs_vals < 10 ** (-self.digits)) & (abs_vals > 0)).any()\n"
     ]
    },
    {
     "data": {
      "text/html": [
       "<div>\n",
       "<style scoped>\n",
       "    .dataframe tbody tr th:only-of-type {\n",
       "        vertical-align: middle;\n",
       "    }\n",
       "\n",
       "    .dataframe tbody tr th {\n",
       "        vertical-align: top;\n",
       "    }\n",
       "\n",
       "    .dataframe thead th {\n",
       "        text-align: right;\n",
       "    }\n",
       "</style>\n",
       "<table border=\"1\" class=\"dataframe\">\n",
       "  <thead>\n",
       "    <tr style=\"text-align: right;\">\n",
       "      <th></th>\n",
       "      <th>ds</th>\n",
       "      <th>y</th>\n",
       "      <th>yhat</th>\n",
       "    </tr>\n",
       "  </thead>\n",
       "  <tbody>\n",
       "    <tr>\n",
       "      <th>0</th>\n",
       "      <td>2022-01-01</td>\n",
       "      <td>92.0</td>\n",
       "      <td>NaN</td>\n",
       "    </tr>\n",
       "    <tr>\n",
       "      <th>1</th>\n",
       "      <td>2022-02-01</td>\n",
       "      <td>79.0</td>\n",
       "      <td>NaN</td>\n",
       "    </tr>\n",
       "  </tbody>\n",
       "</table>\n",
       "</div>"
      ],
      "text/plain": [
       "          ds     y  yhat\n",
       "0 2022-01-01  92.0   NaN\n",
       "1 2022-02-01  79.0   NaN"
      ]
     },
     "execution_count": 151,
     "metadata": {},
     "output_type": "execute_result"
    }
   ],
   "source": [
    "masked_df = merged_df.copy()\n",
    "masked_df.loc[masked_df['y'].notna(), 'yhat'] = None\n",
    "masked_df.head(2)"
   ]
  },
  {
   "cell_type": "code",
   "execution_count": 152,
   "id": "1d987a0b",
   "metadata": {
    "execution": {
     "iopub.execute_input": "2025-10-02T22:09:59.232530Z",
     "iopub.status.busy": "2025-10-02T22:09:59.232019Z",
     "iopub.status.idle": "2025-10-02T22:09:59.491972Z",
     "shell.execute_reply": "2025-10-02T22:09:59.491063Z",
     "shell.execute_reply.started": "2025-10-02T22:09:59.232491Z"
    }
   },
   "outputs": [
    {
     "data": {
      "image/png": "[encoded data removed]",
      "text/plain": [
       "<Figure size 640x480 with 1 Axes>"
      ]
     },
     "metadata": {},
     "output_type": "display_data"
    }
   ],
   "source": [
    "plt.plot(masked_df['ds'], masked_df['y'], label='Actual')\n",
    "plt.plot(masked_df['ds'], masked_df['yhat'], label='Forecast', linestyle='--', color='green')\n",
    "plt.legend()\n",
    "plt.show()"
   ]
  },
  {
   "cell_type": "code",
   "execution_count": 153,
   "id": "c21ad3f1",
   "metadata": {
    "execution": {
     "iopub.execute_input": "2025-10-02T22:09:59.493287Z",
     "iopub.status.busy": "2025-10-02T22:09:59.492994Z",
     "iopub.status.idle": "2025-10-02T22:09:59.503804Z",
     "shell.execute_reply": "2025-10-02T22:09:59.502824Z",
     "shell.execute_reply.started": "2025-10-02T22:09:59.493261Z"
    }
   },
   "outputs": [
    {
     "name": "stdout",
     "output_type": "stream",
     "text": [
      "MAE: 5.04\n",
      "Average actual monthly fill: 83.25\n",
      "MAPE: 6.17%\n"
     ]
    }
   ],
   "source": [
    "actual_data = merged_df[masked_df['y'].notna()]\n",
    "from sklearn.metrics import mean_absolute_error\n",
    "mae = mean_absolute_error(actual_data['y'], actual_data['yhat'])\n",
    "print(f\"MAE: {mae:.2f}\")\n",
    "avg_actual = actual_data['y'].mean()\n",
    "print(f\"Average actual monthly fill: {avg_actual:.2f}\")\n",
    "mape = (abs(actual_data['y'] - actual_data['yhat']) / actual_data['y']).mean() * 100\n",
    "print(f\"MAPE: {mape:.2f}%\")"
   ]
  },
  {
   "cell_type": "code",
   "execution_count": 154,
   "id": "55e8a733",
   "metadata": {
    "execution": {
     "iopub.execute_input": "2025-10-02T22:09:59.505623Z",
     "iopub.status.busy": "2025-10-02T22:09:59.505241Z",
     "iopub.status.idle": "2025-10-02T22:09:59.537066Z",
     "shell.execute_reply": "2025-10-02T22:09:59.536122Z",
     "shell.execute_reply.started": "2025-10-02T22:09:59.505505Z"
    }
   },
   "outputs": [
    {
     "data": {
      "text/html": [
       "<div>\n",
       "<style scoped>\n",
       "    .dataframe tbody tr th:only-of-type {\n",
       "        vertical-align: middle;\n",
       "    }\n",
       "\n",
       "    .dataframe tbody tr th {\n",
       "        vertical-align: top;\n",
       "    }\n",
       "\n",
       "    .dataframe thead th {\n",
       "        text-align: right;\n",
       "    }\n",
       "</style>\n",
       "<table border=\"1\" class=\"dataframe\">\n",
       "  <thead>\n",
       "    <tr style=\"text-align: right;\">\n",
       "      <th></th>\n",
       "      <th>patient_id</th>\n",
       "      <th>ndc_code</th>\n",
       "      <th>drug_name</th>\n",
       "      <th>start_date</th>\n",
       "      <th>end_date</th>\n",
       "      <th>days_supply</th>\n",
       "      <th>provider_id</th>\n",
       "      <th>specialty</th>\n",
       "      <th>diagnosis_code</th>\n",
       "      <th>region</th>\n",
       "      <th>previous_end</th>\n",
       "      <th>gap_days</th>\n",
       "      <th>new_start</th>\n",
       "      <th>last_med_date</th>\n",
       "      <th>todays_date</th>\n",
       "      <th>last_med_days_count</th>\n",
       "      <th>discontinued</th>\n",
       "    </tr>\n",
       "  </thead>\n",
       "  <tbody>\n",
       "    <tr>\n",
       "      <th>1193</th>\n",
       "      <td>P10074</td>\n",
       "      <td>20561-3267</td>\n",
       "      <td>Drug_C</td>\n",
       "      <td>2022-04-06</td>\n",
       "      <td>2022-07-05</td>\n",
       "      <td>90</td>\n",
       "      <td>HCP8043</td>\n",
       "      <td>General</td>\n",
       "      <td>D654</td>\n",
       "      <td>South</td>\n",
       "      <td>NaN</td>\n",
       "      <td>-1.0</td>\n",
       "      <td>0</td>\n",
       "      <td>2024-10-12</td>\n",
       "      <td>2025-10-02</td>\n",
       "      <td>355</td>\n",
       "      <td>0</td>\n",
       "    </tr>\n",
       "  </tbody>\n",
       "</table>\n",
       "</div>"
      ],
      "text/plain": [
       "     patient_id    ndc_code drug_name  start_date    end_date  days_supply  \\\n",
       "1193     P10074  20561-3267    Drug_C  2022-04-06  2022-07-05           90   \n",
       "\n",
       "     provider_id specialty diagnosis_code region previous_end  gap_days  \\\n",
       "1193     HCP8043   General           D654  South          NaN      -1.0   \n",
       "\n",
       "      new_start last_med_date todays_date  last_med_days_count  discontinued  \n",
       "1193          0    2024-10-12  2025-10-02                  355             0  "
      ]
     },
     "execution_count": 154,
     "metadata": {},
     "output_type": "execute_result"
    }
   ],
   "source": [
    "claims_sorted.head(1)"
   ]
  },
  {
   "cell_type": "code",
   "execution_count": 155,
   "id": "cfb5ea39",
   "metadata": {
    "execution": {
     "iopub.execute_input": "2025-10-02T22:09:59.538298Z",
     "iopub.status.busy": "2025-10-02T22:09:59.537983Z",
     "iopub.status.idle": "2025-10-02T22:09:59.564042Z",
     "shell.execute_reply": "2025-10-02T22:09:59.562641Z",
     "shell.execute_reply.started": "2025-10-02T22:09:59.538277Z"
    }
   },
   "outputs": [
    {
     "data": {
      "text/html": [
       "<div>\n",
       "<style scoped>\n",
       "    .dataframe tbody tr th:only-of-type {\n",
       "        vertical-align: middle;\n",
       "    }\n",
       "\n",
       "    .dataframe tbody tr th {\n",
       "        vertical-align: top;\n",
       "    }\n",
       "\n",
       "    .dataframe thead th {\n",
       "        text-align: right;\n",
       "    }\n",
       "</style>\n",
       "<table border=\"1\" class=\"dataframe\">\n",
       "  <thead>\n",
       "    <tr style=\"text-align: right;\">\n",
       "      <th></th>\n",
       "      <th>hcp_id</th>\n",
       "      <th>specialty</th>\n",
       "      <th>brand_written</th>\n",
       "      <th>region</th>\n",
       "    </tr>\n",
       "  </thead>\n",
       "  <tbody>\n",
       "    <tr>\n",
       "      <th>0</th>\n",
       "      <td>HCP7311</td>\n",
       "      <td>Endocrinology</td>\n",
       "      <td>Drug_E</td>\n",
       "      <td>South</td>\n",
       "    </tr>\n",
       "  </tbody>\n",
       "</table>\n",
       "</div>"
      ],
      "text/plain": [
       "    hcp_id      specialty brand_written region\n",
       "0  HCP7311  Endocrinology        Drug_E  South"
      ]
     },
     "execution_count": 155,
     "metadata": {},
     "output_type": "execute_result"
    }
   ],
   "source": [
    "prescribers.head(1)"
   ]
  },
  {
   "cell_type": "code",
   "execution_count": 156,
   "id": "57f7f7ec",
   "metadata": {
    "execution": {
     "iopub.execute_input": "2025-10-02T22:09:59.566409Z",
     "iopub.status.busy": "2025-10-02T22:09:59.565376Z",
     "iopub.status.idle": "2025-10-02T22:09:59.591448Z",
     "shell.execute_reply": "2025-10-02T22:09:59.590470Z",
     "shell.execute_reply.started": "2025-10-02T22:09:59.566378Z"
    }
   },
   "outputs": [
    {
     "data": {
      "text/html": [
       "<div>\n",
       "<style scoped>\n",
       "    .dataframe tbody tr th:only-of-type {\n",
       "        vertical-align: middle;\n",
       "    }\n",
       "\n",
       "    .dataframe tbody tr th {\n",
       "        vertical-align: top;\n",
       "    }\n",
       "\n",
       "    .dataframe thead th {\n",
       "        text-align: right;\n",
       "    }\n",
       "</style>\n",
       "<table border=\"1\" class=\"dataframe\">\n",
       "  <thead>\n",
       "    <tr style=\"text-align: right;\">\n",
       "      <th></th>\n",
       "      <th>date</th>\n",
       "      <th>month</th>\n",
       "      <th>year</th>\n",
       "      <th>fiscal_quarter</th>\n",
       "      <th>fiscal_year</th>\n",
       "    </tr>\n",
       "  </thead>\n",
       "  <tbody>\n",
       "    <tr>\n",
       "      <th>0</th>\n",
       "      <td>2022-01-01</td>\n",
       "      <td>1</td>\n",
       "      <td>2022</td>\n",
       "      <td>1</td>\n",
       "      <td>2022</td>\n",
       "    </tr>\n",
       "  </tbody>\n",
       "</table>\n",
       "</div>"
      ],
      "text/plain": [
       "        date  month  year  fiscal_quarter  fiscal_year\n",
       "0 2022-01-01      1  2022               1         2022"
      ]
     },
     "execution_count": 156,
     "metadata": {},
     "output_type": "execute_result"
    }
   ],
   "source": [
    "calendar.head(1)"
   ]
  },
  {
   "cell_type": "code",
   "execution_count": 157,
   "id": "f740cf19",
   "metadata": {
    "execution": {
     "iopub.execute_input": "2025-10-02T22:09:59.600518Z",
     "iopub.status.busy": "2025-10-02T22:09:59.600196Z",
     "iopub.status.idle": "2025-10-02T22:09:59.614949Z",
     "shell.execute_reply": "2025-10-02T22:09:59.614008Z",
     "shell.execute_reply.started": "2025-10-02T22:09:59.600497Z"
    }
   },
   "outputs": [],
   "source": [
    "claims_sorted_snip=claims_sorted[['patient_id','start_date','end_date','days_supply','provider_id','previous_end','gap_days']]\n",
    "claims_sorted_snip.head(3)\n",
    "claims_sorted_snip = claims_sorted_snip.copy()"
   ]
  },
  {
   "cell_type": "code",
   "execution_count": 158,
   "id": "56db0f64",
   "metadata": {
    "execution": {
     "iopub.execute_input": "2025-10-02T22:09:59.615978Z",
     "iopub.status.busy": "2025-10-02T22:09:59.615732Z",
     "iopub.status.idle": "2025-10-02T22:09:59.645316Z",
     "shell.execute_reply": "2025-10-02T22:09:59.644185Z",
     "shell.execute_reply.started": "2025-10-02T22:09:59.615959Z"
    }
   },
   "outputs": [
    {
     "data": {
      "text/html": [
       "<div>\n",
       "<style scoped>\n",
       "    .dataframe tbody tr th:only-of-type {\n",
       "        vertical-align: middle;\n",
       "    }\n",
       "\n",
       "    .dataframe tbody tr th {\n",
       "        vertical-align: top;\n",
       "    }\n",
       "\n",
       "    .dataframe thead th {\n",
       "        text-align: right;\n",
       "    }\n",
       "</style>\n",
       "<table border=\"1\" class=\"dataframe\">\n",
       "  <thead>\n",
       "    <tr style=\"text-align: right;\">\n",
       "      <th></th>\n",
       "      <th>patient_id</th>\n",
       "      <th>start_date</th>\n",
       "      <th>end_date</th>\n",
       "      <th>days_supply</th>\n",
       "      <th>provider_id</th>\n",
       "      <th>previous_end</th>\n",
       "      <th>gap_days</th>\n",
       "      <th>date</th>\n",
       "      <th>fiscal_quarter</th>\n",
       "      <th>year</th>\n",
       "    </tr>\n",
       "  </thead>\n",
       "  <tbody>\n",
       "    <tr>\n",
       "      <th>0</th>\n",
       "      <td>P10074</td>\n",
       "      <td>2022-04-06</td>\n",
       "      <td>2022-07-05</td>\n",
       "      <td>90</td>\n",
       "      <td>HCP8043</td>\n",
       "      <td>NaN</td>\n",
       "      <td>-1.0</td>\n",
       "      <td>2022-04-06</td>\n",
       "      <td>2</td>\n",
       "      <td>2022</td>\n",
       "    </tr>\n",
       "    <tr>\n",
       "      <th>1</th>\n",
       "      <td>P10074</td>\n",
       "      <td>2022-06-26</td>\n",
       "      <td>2022-09-24</td>\n",
       "      <td>90</td>\n",
       "      <td>HCP7790</td>\n",
       "      <td>2022-07-05</td>\n",
       "      <td>-9.0</td>\n",
       "      <td>2022-06-26</td>\n",
       "      <td>2</td>\n",
       "      <td>2022</td>\n",
       "    </tr>\n",
       "  </tbody>\n",
       "</table>\n",
       "</div>"
      ],
      "text/plain": [
       "  patient_id start_date    end_date  days_supply provider_id previous_end  \\\n",
       "0     P10074 2022-04-06  2022-07-05           90     HCP8043          NaN   \n",
       "1     P10074 2022-06-26  2022-09-24           90     HCP7790   2022-07-05   \n",
       "\n",
       "   gap_days       date  fiscal_quarter  year  \n",
       "0      -1.0 2022-04-06               2  2022  \n",
       "1      -9.0 2022-06-26               2  2022  "
      ]
     },
     "execution_count": 158,
     "metadata": {},
     "output_type": "execute_result"
    }
   ],
   "source": [
    "claims_sorted_snip['start_date'] = pd.to_datetime(claims_sorted_snip['start_date'])\n",
    "calendar['date'] = pd.to_datetime(calendar['date'])\n",
    "claims_mapped_1=claims_sorted_snip.merge(calendar[['date','fiscal_quarter','year']], how='left',left_on='start_date',right_on='date')\n",
    "claims_mapped_1.head(2)"
   ]
  },
  {
   "cell_type": "code",
   "execution_count": 159,
   "id": "f36218a6",
   "metadata": {
    "execution": {
     "iopub.execute_input": "2025-10-02T22:09:59.646892Z",
     "iopub.status.busy": "2025-10-02T22:09:59.646545Z",
     "iopub.status.idle": "2025-10-02T22:09:59.665982Z",
     "shell.execute_reply": "2025-10-02T22:09:59.664791Z",
     "shell.execute_reply.started": "2025-10-02T22:09:59.646862Z"
    }
   },
   "outputs": [],
   "source": [
    "import pandas as pd\n",
    "claims_mapped_1['start_date'] = pd.to_datetime(claims_mapped_1['start_date'])\n",
    "claims_mapped_1['end_date'] = pd.to_datetime(claims_mapped_1['end_date'])\n",
    "claims_mapped_1['total_days'] = (claims_mapped_1['end_date'] - claims_mapped_1['start_date']).dt.days + 1\n",
    "claims_mapped_1['mid_date'] = claims_mapped_1['start_date'] + pd.to_timedelta(claims_mapped_1['total_days'] // 2, unit='D')\n",
    "claims_mapped_1['fiscal_quarter'] = claims_mapped_1['mid_date'].dt.quarter\n",
    "claims_mapped_1.drop(columns=['total_days', 'mid_date'], inplace=True)"
   ]
  },
  {
   "cell_type": "code",
   "execution_count": 160,
   "id": "5c442888",
   "metadata": {
    "execution": {
     "iopub.execute_input": "2025-10-02T22:09:59.667268Z",
     "iopub.status.busy": "2025-10-02T22:09:59.666944Z",
     "iopub.status.idle": "2025-10-02T22:09:59.692807Z",
     "shell.execute_reply": "2025-10-02T22:09:59.691276Z",
     "shell.execute_reply.started": "2025-10-02T22:09:59.667234Z"
    }
   },
   "outputs": [
    {
     "data": {
      "text/html": [
       "<div>\n",
       "<style scoped>\n",
       "    .dataframe tbody tr th:only-of-type {\n",
       "        vertical-align: middle;\n",
       "    }\n",
       "\n",
       "    .dataframe tbody tr th {\n",
       "        vertical-align: top;\n",
       "    }\n",
       "\n",
       "    .dataframe thead th {\n",
       "        text-align: right;\n",
       "    }\n",
       "</style>\n",
       "<table border=\"1\" class=\"dataframe\">\n",
       "  <thead>\n",
       "    <tr style=\"text-align: right;\">\n",
       "      <th></th>\n",
       "      <th>patient_id</th>\n",
       "      <th>start_date</th>\n",
       "      <th>end_date</th>\n",
       "      <th>days_supply</th>\n",
       "      <th>provider_id</th>\n",
       "      <th>previous_end</th>\n",
       "      <th>gap_days</th>\n",
       "      <th>date</th>\n",
       "      <th>fiscal_quarter</th>\n",
       "      <th>year</th>\n",
       "    </tr>\n",
       "  </thead>\n",
       "  <tbody>\n",
       "    <tr>\n",
       "      <th>0</th>\n",
       "      <td>P10074</td>\n",
       "      <td>2022-04-06</td>\n",
       "      <td>2022-07-05</td>\n",
       "      <td>90</td>\n",
       "      <td>HCP8043</td>\n",
       "      <td>NaN</td>\n",
       "      <td>-1.0</td>\n",
       "      <td>2022-04-06</td>\n",
       "      <td>2</td>\n",
       "      <td>2022</td>\n",
       "    </tr>\n",
       "    <tr>\n",
       "      <th>1</th>\n",
       "      <td>P10074</td>\n",
       "      <td>2022-06-26</td>\n",
       "      <td>2022-09-24</td>\n",
       "      <td>90</td>\n",
       "      <td>HCP7790</td>\n",
       "      <td>2022-07-05</td>\n",
       "      <td>-9.0</td>\n",
       "      <td>2022-06-26</td>\n",
       "      <td>3</td>\n",
       "      <td>2022</td>\n",
       "    </tr>\n",
       "    <tr>\n",
       "      <th>2</th>\n",
       "      <td>P10074</td>\n",
       "      <td>2022-07-29</td>\n",
       "      <td>2022-08-28</td>\n",
       "      <td>30</td>\n",
       "      <td>HCP6344</td>\n",
       "      <td>2022-09-24</td>\n",
       "      <td>-57.0</td>\n",
       "      <td>2022-07-29</td>\n",
       "      <td>3</td>\n",
       "      <td>2022</td>\n",
       "    </tr>\n",
       "    <tr>\n",
       "      <th>3</th>\n",
       "      <td>P10074</td>\n",
       "      <td>2022-11-23</td>\n",
       "      <td>2023-02-21</td>\n",
       "      <td>90</td>\n",
       "      <td>HCP6067</td>\n",
       "      <td>2022-08-28</td>\n",
       "      <td>87.0</td>\n",
       "      <td>2022-11-23</td>\n",
       "      <td>1</td>\n",
       "      <td>2022</td>\n",
       "    </tr>\n",
       "    <tr>\n",
       "      <th>4</th>\n",
       "      <td>P10074</td>\n",
       "      <td>2023-08-21</td>\n",
       "      <td>2023-11-19</td>\n",
       "      <td>90</td>\n",
       "      <td>HCP1090</td>\n",
       "      <td>2023-02-21</td>\n",
       "      <td>181.0</td>\n",
       "      <td>2023-08-21</td>\n",
       "      <td>4</td>\n",
       "      <td>2023</td>\n",
       "    </tr>\n",
       "  </tbody>\n",
       "</table>\n",
       "</div>"
      ],
      "text/plain": [
       "  patient_id start_date   end_date  days_supply provider_id previous_end  \\\n",
       "0     P10074 2022-04-06 2022-07-05           90     HCP8043          NaN   \n",
       "1     P10074 2022-06-26 2022-09-24           90     HCP7790   2022-07-05   \n",
       "2     P10074 2022-07-29 2022-08-28           30     HCP6344   2022-09-24   \n",
       "3     P10074 2022-11-23 2023-02-21           90     HCP6067   2022-08-28   \n",
       "4     P10074 2023-08-21 2023-11-19           90     HCP1090   2023-02-21   \n",
       "\n",
       "   gap_days       date  fiscal_quarter  year  \n",
       "0      -1.0 2022-04-06               2  2022  \n",
       "1      -9.0 2022-06-26               3  2022  \n",
       "2     -57.0 2022-07-29               3  2022  \n",
       "3      87.0 2022-11-23               1  2022  \n",
       "4     181.0 2023-08-21               4  2023  "
      ]
     },
     "execution_count": 160,
     "metadata": {},
     "output_type": "execute_result"
    }
   ],
   "source": [
    "claims_mapped_1.head(5)"
   ]
  },
  {
   "cell_type": "code",
   "execution_count": 161,
   "id": "0571055a",
   "metadata": {
    "execution": {
     "iopub.execute_input": "2025-10-02T22:09:59.694501Z",
     "iopub.status.busy": "2025-10-02T22:09:59.694039Z",
     "iopub.status.idle": "2025-10-02T22:09:59.732008Z",
     "shell.execute_reply": "2025-10-02T22:09:59.730743Z",
     "shell.execute_reply.started": "2025-10-02T22:09:59.694474Z"
    }
   },
   "outputs": [
    {
     "data": {
      "text/html": [
       "<div>\n",
       "<style scoped>\n",
       "    .dataframe tbody tr th:only-of-type {\n",
       "        vertical-align: middle;\n",
       "    }\n",
       "\n",
       "    .dataframe tbody tr th {\n",
       "        vertical-align: top;\n",
       "    }\n",
       "\n",
       "    .dataframe thead th {\n",
       "        text-align: right;\n",
       "    }\n",
       "</style>\n",
       "<table border=\"1\" class=\"dataframe\">\n",
       "  <thead>\n",
       "    <tr style=\"text-align: right;\">\n",
       "      <th></th>\n",
       "      <th>patient_id</th>\n",
       "      <th>start_date</th>\n",
       "      <th>end_date</th>\n",
       "      <th>days_supply</th>\n",
       "      <th>provider_id</th>\n",
       "      <th>previous_end</th>\n",
       "      <th>gap_days</th>\n",
       "      <th>date</th>\n",
       "      <th>fiscal_quarter</th>\n",
       "      <th>year</th>\n",
       "      <th>hcp_id</th>\n",
       "      <th>specialty</th>\n",
       "      <th>brand_written</th>\n",
       "      <th>region</th>\n",
       "    </tr>\n",
       "  </thead>\n",
       "  <tbody>\n",
       "    <tr>\n",
       "      <th>0</th>\n",
       "      <td>P10074</td>\n",
       "      <td>2022-04-06</td>\n",
       "      <td>2022-07-05</td>\n",
       "      <td>90</td>\n",
       "      <td>HCP8043</td>\n",
       "      <td>NaN</td>\n",
       "      <td>-1.0</td>\n",
       "      <td>2022-04-06</td>\n",
       "      <td>2</td>\n",
       "      <td>2022</td>\n",
       "      <td>HCP8043</td>\n",
       "      <td>Endocrinology</td>\n",
       "      <td>Drug_A</td>\n",
       "      <td>North</td>\n",
       "    </tr>\n",
       "    <tr>\n",
       "      <th>1</th>\n",
       "      <td>P10074</td>\n",
       "      <td>2022-06-26</td>\n",
       "      <td>2022-09-24</td>\n",
       "      <td>90</td>\n",
       "      <td>HCP7790</td>\n",
       "      <td>2022-07-05</td>\n",
       "      <td>-9.0</td>\n",
       "      <td>2022-06-26</td>\n",
       "      <td>3</td>\n",
       "      <td>2022</td>\n",
       "      <td>HCP7790</td>\n",
       "      <td>Neurology</td>\n",
       "      <td>Drug_E</td>\n",
       "      <td>North</td>\n",
       "    </tr>\n",
       "    <tr>\n",
       "      <th>2</th>\n",
       "      <td>P10074</td>\n",
       "      <td>2022-07-29</td>\n",
       "      <td>2022-08-28</td>\n",
       "      <td>30</td>\n",
       "      <td>HCP6344</td>\n",
       "      <td>2022-09-24</td>\n",
       "      <td>-57.0</td>\n",
       "      <td>2022-07-29</td>\n",
       "      <td>3</td>\n",
       "      <td>2022</td>\n",
       "      <td>HCP6344</td>\n",
       "      <td>General</td>\n",
       "      <td>Drug_B</td>\n",
       "      <td>North</td>\n",
       "    </tr>\n",
       "  </tbody>\n",
       "</table>\n",
       "</div>"
      ],
      "text/plain": [
       "  patient_id start_date   end_date  days_supply provider_id previous_end  \\\n",
       "0     P10074 2022-04-06 2022-07-05           90     HCP8043          NaN   \n",
       "1     P10074 2022-06-26 2022-09-24           90     HCP7790   2022-07-05   \n",
       "2     P10074 2022-07-29 2022-08-28           30     HCP6344   2022-09-24   \n",
       "\n",
       "   gap_days       date  fiscal_quarter  year   hcp_id      specialty  \\\n",
       "0      -1.0 2022-04-06               2  2022  HCP8043  Endocrinology   \n",
       "1      -9.0 2022-06-26               3  2022  HCP7790      Neurology   \n",
       "2     -57.0 2022-07-29               3  2022  HCP6344        General   \n",
       "\n",
       "  brand_written region  \n",
       "0        Drug_A  North  \n",
       "1        Drug_E  North  \n",
       "2        Drug_B  North  "
      ]
     },
     "execution_count": 161,
     "metadata": {},
     "output_type": "execute_result"
    }
   ],
   "source": [
    "claims_mapped_2 = claims_mapped_1.merge(\n",
    "    prescribers,\n",
    "    how='left',\n",
    "    left_on='provider_id',\n",
    "    right_on='hcp_id'\n",
    ")\n",
    "claims_mapped_2.head(3)"
   ]
  },
  {
   "cell_type": "code",
   "execution_count": 162,
   "id": "62823a22",
   "metadata": {
    "execution": {
     "iopub.execute_input": "2025-10-02T22:09:59.733335Z",
     "iopub.status.busy": "2025-10-02T22:09:59.733028Z",
     "iopub.status.idle": "2025-10-02T22:09:59.762767Z",
     "shell.execute_reply": "2025-10-02T22:09:59.761804Z",
     "shell.execute_reply.started": "2025-10-02T22:09:59.733305Z"
    }
   },
   "outputs": [
    {
     "data": {
      "text/html": [
       "<div>\n",
       "<style scoped>\n",
       "    .dataframe tbody tr th:only-of-type {\n",
       "        vertical-align: middle;\n",
       "    }\n",
       "\n",
       "    .dataframe tbody tr th {\n",
       "        vertical-align: top;\n",
       "    }\n",
       "\n",
       "    .dataframe thead th {\n",
       "        text-align: right;\n",
       "    }\n",
       "</style>\n",
       "<table border=\"1\" class=\"dataframe\">\n",
       "  <thead>\n",
       "    <tr style=\"text-align: right;\">\n",
       "      <th></th>\n",
       "      <th>patient_id</th>\n",
       "      <th>year</th>\n",
       "      <th>fiscal_quarter</th>\n",
       "      <th>specialty</th>\n",
       "      <th>region</th>\n",
       "      <th>gap_days</th>\n",
       "      <th>fill_count</th>\n",
       "      <th>dos</th>\n",
       "    </tr>\n",
       "  </thead>\n",
       "  <tbody>\n",
       "    <tr>\n",
       "      <th>0</th>\n",
       "      <td>P10074</td>\n",
       "      <td>2022</td>\n",
       "      <td>1</td>\n",
       "      <td>General</td>\n",
       "      <td>South</td>\n",
       "      <td>87.0</td>\n",
       "      <td>1</td>\n",
       "      <td>90</td>\n",
       "    </tr>\n",
       "    <tr>\n",
       "      <th>1</th>\n",
       "      <td>P10074</td>\n",
       "      <td>2022</td>\n",
       "      <td>2</td>\n",
       "      <td>Endocrinology</td>\n",
       "      <td>North</td>\n",
       "      <td>-1.0</td>\n",
       "      <td>1</td>\n",
       "      <td>90</td>\n",
       "    </tr>\n",
       "  </tbody>\n",
       "</table>\n",
       "</div>"
      ],
      "text/plain": [
       "  patient_id  year  fiscal_quarter      specialty region  gap_days  \\\n",
       "0     P10074  2022               1        General  South      87.0   \n",
       "1     P10074  2022               2  Endocrinology  North      -1.0   \n",
       "\n",
       "   fill_count  dos  \n",
       "0           1   90  \n",
       "1           1   90  "
      ]
     },
     "execution_count": 162,
     "metadata": {},
     "output_type": "execute_result"
    }
   ],
   "source": [
    "claims_mapped_3=claims_mapped_2.groupby(['patient_id','year','fiscal_quarter','specialty','region','gap_days']).agg(fill_count=('start_date','nunique'),dos=('days_supply','sum')).reset_index()\n",
    "claims_mapped_3.head(2)"
   ]
  },
  {
   "cell_type": "code",
   "execution_count": 163,
   "id": "31ecba17",
   "metadata": {
    "execution": {
     "iopub.execute_input": "2025-10-02T22:09:59.764246Z",
     "iopub.status.busy": "2025-10-02T22:09:59.763884Z",
     "iopub.status.idle": "2025-10-02T22:09:59.785138Z",
     "shell.execute_reply": "2025-10-02T22:09:59.784013Z",
     "shell.execute_reply.started": "2025-10-02T22:09:59.764187Z"
    }
   },
   "outputs": [
    {
     "data": {
      "text/html": [
       "<div>\n",
       "<style scoped>\n",
       "    .dataframe tbody tr th:only-of-type {\n",
       "        vertical-align: middle;\n",
       "    }\n",
       "\n",
       "    .dataframe tbody tr th {\n",
       "        vertical-align: top;\n",
       "    }\n",
       "\n",
       "    .dataframe thead th {\n",
       "        text-align: right;\n",
       "    }\n",
       "</style>\n",
       "<table border=\"1\" class=\"dataframe\">\n",
       "  <thead>\n",
       "    <tr style=\"text-align: right;\">\n",
       "      <th></th>\n",
       "      <th>year</th>\n",
       "      <th>fiscal_quarter</th>\n",
       "      <th>fill_count</th>\n",
       "      <th>dos_quater</th>\n",
       "    </tr>\n",
       "  </thead>\n",
       "  <tbody>\n",
       "    <tr>\n",
       "      <th>0</th>\n",
       "      <td>2022</td>\n",
       "      <td>1</td>\n",
       "      <td>276</td>\n",
       "      <td>17280</td>\n",
       "    </tr>\n",
       "    <tr>\n",
       "      <th>1</th>\n",
       "      <td>2022</td>\n",
       "      <td>2</td>\n",
       "      <td>247</td>\n",
       "      <td>14640</td>\n",
       "    </tr>\n",
       "  </tbody>\n",
       "</table>\n",
       "</div>"
      ],
      "text/plain": [
       "   year  fiscal_quarter  fill_count  dos_quater\n",
       "0  2022               1         276       17280\n",
       "1  2022               2         247       14640"
      ]
     },
     "execution_count": 163,
     "metadata": {},
     "output_type": "execute_result"
    }
   ],
   "source": [
    "claims_mapped_4=claims_mapped_3.groupby(['year','fiscal_quarter']).agg(fill_count=('fill_count','sum'),dos_quater=('dos','sum')).reset_index()\n",
    "claims_mapped_4.head(2)"
   ]
  },
  {
   "cell_type": "code",
   "execution_count": 164,
   "id": "8ba56378",
   "metadata": {
    "execution": {
     "iopub.execute_input": "2025-10-02T22:09:59.786558Z",
     "iopub.status.busy": "2025-10-02T22:09:59.786315Z",
     "iopub.status.idle": "2025-10-02T22:09:59.798847Z",
     "shell.execute_reply": "2025-10-02T22:09:59.797659Z",
     "shell.execute_reply.started": "2025-10-02T22:09:59.786540Z"
    }
   },
   "outputs": [
    {
     "data": {
      "text/html": [
       "<div>\n",
       "<style scoped>\n",
       "    .dataframe tbody tr th:only-of-type {\n",
       "        vertical-align: middle;\n",
       "    }\n",
       "\n",
       "    .dataframe tbody tr th {\n",
       "        vertical-align: top;\n",
       "    }\n",
       "\n",
       "    .dataframe thead th {\n",
       "        text-align: right;\n",
       "    }\n",
       "</style>\n",
       "<table border=\"1\" class=\"dataframe\">\n",
       "  <thead>\n",
       "    <tr style=\"text-align: right;\">\n",
       "      <th></th>\n",
       "      <th>patient_id</th>\n",
       "      <th>year</th>\n",
       "      <th>fiscal_quarter</th>\n",
       "      <th>specialty</th>\n",
       "      <th>region</th>\n",
       "      <th>gap_days</th>\n",
       "      <th>fill_count</th>\n",
       "      <th>dos</th>\n",
       "    </tr>\n",
       "  </thead>\n",
       "  <tbody>\n",
       "    <tr>\n",
       "      <th>0</th>\n",
       "      <td>P10074</td>\n",
       "      <td>2022</td>\n",
       "      <td>1</td>\n",
       "      <td>General</td>\n",
       "      <td>South</td>\n",
       "      <td>87.0</td>\n",
       "      <td>1</td>\n",
       "      <td>90</td>\n",
       "    </tr>\n",
       "    <tr>\n",
       "      <th>1</th>\n",
       "      <td>P10074</td>\n",
       "      <td>2022</td>\n",
       "      <td>2</td>\n",
       "      <td>Endocrinology</td>\n",
       "      <td>North</td>\n",
       "      <td>-1.0</td>\n",
       "      <td>1</td>\n",
       "      <td>90</td>\n",
       "    </tr>\n",
       "  </tbody>\n",
       "</table>\n",
       "</div>"
      ],
      "text/plain": [
       "  patient_id  year  fiscal_quarter      specialty region  gap_days  \\\n",
       "0     P10074  2022               1        General  South      87.0   \n",
       "1     P10074  2022               2  Endocrinology  North      -1.0   \n",
       "\n",
       "   fill_count  dos  \n",
       "0           1   90  \n",
       "1           1   90  "
      ]
     },
     "execution_count": 164,
     "metadata": {},
     "output_type": "execute_result"
    }
   ],
   "source": [
    "claims_mapped_3.head(2)"
   ]
  },
  {
   "cell_type": "code",
   "execution_count": 165,
   "id": "6c74d2d3",
   "metadata": {
    "execution": {
     "iopub.execute_input": "2025-10-02T22:09:59.800241Z",
     "iopub.status.busy": "2025-10-02T22:09:59.799849Z",
     "iopub.status.idle": "2025-10-02T22:09:59.827491Z",
     "shell.execute_reply": "2025-10-02T22:09:59.826270Z",
     "shell.execute_reply.started": "2025-10-02T22:09:59.800189Z"
    }
   },
   "outputs": [
    {
     "data": {
      "text/html": [
       "<div>\n",
       "<style scoped>\n",
       "    .dataframe tbody tr th:only-of-type {\n",
       "        vertical-align: middle;\n",
       "    }\n",
       "\n",
       "    .dataframe tbody tr th {\n",
       "        vertical-align: top;\n",
       "    }\n",
       "\n",
       "    .dataframe thead th {\n",
       "        text-align: right;\n",
       "    }\n",
       "</style>\n",
       "<table border=\"1\" class=\"dataframe\">\n",
       "  <thead>\n",
       "    <tr style=\"text-align: right;\">\n",
       "      <th></th>\n",
       "      <th>patient_id</th>\n",
       "      <th>year</th>\n",
       "      <th>fiscal_quarter</th>\n",
       "      <th>specialty</th>\n",
       "      <th>region</th>\n",
       "      <th>gap_days</th>\n",
       "      <th>fill_count</th>\n",
       "      <th>dos</th>\n",
       "      <th>Time_frame</th>\n",
       "    </tr>\n",
       "  </thead>\n",
       "  <tbody>\n",
       "    <tr>\n",
       "      <th>0</th>\n",
       "      <td>P10074</td>\n",
       "      <td>2022</td>\n",
       "      <td>1</td>\n",
       "      <td>General</td>\n",
       "      <td>South</td>\n",
       "      <td>87.0</td>\n",
       "      <td>1</td>\n",
       "      <td>90</td>\n",
       "      <td>90</td>\n",
       "    </tr>\n",
       "    <tr>\n",
       "      <th>1</th>\n",
       "      <td>P10074</td>\n",
       "      <td>2022</td>\n",
       "      <td>2</td>\n",
       "      <td>Endocrinology</td>\n",
       "      <td>North</td>\n",
       "      <td>-1.0</td>\n",
       "      <td>1</td>\n",
       "      <td>90</td>\n",
       "      <td>90</td>\n",
       "    </tr>\n",
       "  </tbody>\n",
       "</table>\n",
       "</div>"
      ],
      "text/plain": [
       "  patient_id  year  fiscal_quarter      specialty region  gap_days  \\\n",
       "0     P10074  2022               1        General  South      87.0   \n",
       "1     P10074  2022               2  Endocrinology  North      -1.0   \n",
       "\n",
       "   fill_count  dos  Time_frame  \n",
       "0           1   90          90  \n",
       "1           1   90          90  "
      ]
     },
     "execution_count": 165,
     "metadata": {},
     "output_type": "execute_result"
    }
   ],
   "source": [
    "claims_mapped_3['Time_frame'] = 90\n",
    "claims_mapped_3.head(2)"
   ]
  },
  {
   "cell_type": "code",
   "execution_count": 166,
   "id": "2bef081f",
   "metadata": {
    "execution": {
     "iopub.execute_input": "2025-10-02T22:09:59.829025Z",
     "iopub.status.busy": "2025-10-02T22:09:59.828538Z",
     "iopub.status.idle": "2025-10-02T22:09:59.856182Z",
     "shell.execute_reply": "2025-10-02T22:09:59.855164Z",
     "shell.execute_reply.started": "2025-10-02T22:09:59.828994Z"
    }
   },
   "outputs": [
    {
     "data": {
      "text/html": [
       "<div>\n",
       "<style scoped>\n",
       "    .dataframe tbody tr th:only-of-type {\n",
       "        vertical-align: middle;\n",
       "    }\n",
       "\n",
       "    .dataframe tbody tr th {\n",
       "        vertical-align: top;\n",
       "    }\n",
       "\n",
       "    .dataframe thead th {\n",
       "        text-align: right;\n",
       "    }\n",
       "</style>\n",
       "<table border=\"1\" class=\"dataframe\">\n",
       "  <thead>\n",
       "    <tr style=\"text-align: right;\">\n",
       "      <th></th>\n",
       "      <th>patient_id</th>\n",
       "      <th>year</th>\n",
       "      <th>fiscal_quarter</th>\n",
       "      <th>specialty</th>\n",
       "      <th>region</th>\n",
       "      <th>gap_days</th>\n",
       "      <th>fill_count</th>\n",
       "      <th>dos</th>\n",
       "      <th>Time_frame</th>\n",
       "      <th>adherence</th>\n",
       "    </tr>\n",
       "  </thead>\n",
       "  <tbody>\n",
       "    <tr>\n",
       "      <th>0</th>\n",
       "      <td>P10074</td>\n",
       "      <td>2022</td>\n",
       "      <td>1</td>\n",
       "      <td>General</td>\n",
       "      <td>South</td>\n",
       "      <td>87.0</td>\n",
       "      <td>1</td>\n",
       "      <td>90</td>\n",
       "      <td>90</td>\n",
       "      <td>1.000000</td>\n",
       "    </tr>\n",
       "    <tr>\n",
       "      <th>1</th>\n",
       "      <td>P10074</td>\n",
       "      <td>2022</td>\n",
       "      <td>2</td>\n",
       "      <td>Endocrinology</td>\n",
       "      <td>North</td>\n",
       "      <td>-1.0</td>\n",
       "      <td>1</td>\n",
       "      <td>90</td>\n",
       "      <td>90</td>\n",
       "      <td>1.000000</td>\n",
       "    </tr>\n",
       "    <tr>\n",
       "      <th>2</th>\n",
       "      <td>P10074</td>\n",
       "      <td>2022</td>\n",
       "      <td>3</td>\n",
       "      <td>General</td>\n",
       "      <td>North</td>\n",
       "      <td>-57.0</td>\n",
       "      <td>1</td>\n",
       "      <td>30</td>\n",
       "      <td>90</td>\n",
       "      <td>0.333333</td>\n",
       "    </tr>\n",
       "    <tr>\n",
       "      <th>3</th>\n",
       "      <td>P10074</td>\n",
       "      <td>2022</td>\n",
       "      <td>3</td>\n",
       "      <td>Neurology</td>\n",
       "      <td>North</td>\n",
       "      <td>-9.0</td>\n",
       "      <td>1</td>\n",
       "      <td>90</td>\n",
       "      <td>90</td>\n",
       "      <td>1.000000</td>\n",
       "    </tr>\n",
       "    <tr>\n",
       "      <th>4</th>\n",
       "      <td>P10074</td>\n",
       "      <td>2023</td>\n",
       "      <td>4</td>\n",
       "      <td>Cardiology</td>\n",
       "      <td>West</td>\n",
       "      <td>-46.0</td>\n",
       "      <td>1</td>\n",
       "      <td>30</td>\n",
       "      <td>90</td>\n",
       "      <td>0.333333</td>\n",
       "    </tr>\n",
       "  </tbody>\n",
       "</table>\n",
       "</div>"
      ],
      "text/plain": [
       "  patient_id  year  fiscal_quarter      specialty region  gap_days  \\\n",
       "0     P10074  2022               1        General  South      87.0   \n",
       "1     P10074  2022               2  Endocrinology  North      -1.0   \n",
       "2     P10074  2022               3        General  North     -57.0   \n",
       "3     P10074  2022               3      Neurology  North      -9.0   \n",
       "4     P10074  2023               4     Cardiology   West     -46.0   \n",
       "\n",
       "   fill_count  dos  Time_frame  adherence  \n",
       "0           1   90          90   1.000000  \n",
       "1           1   90          90   1.000000  \n",
       "2           1   30          90   0.333333  \n",
       "3           1   90          90   1.000000  \n",
       "4           1   30          90   0.333333  "
      ]
     },
     "execution_count": 166,
     "metadata": {},
     "output_type": "execute_result"
    }
   ],
   "source": [
    "claims_mapped_3['adherence'] = claims_mapped_3['dos'] / claims_mapped_3['Time_frame']\n",
    "claims_mapped_3.head(5)"
   ]
  },
  {
   "cell_type": "code",
   "execution_count": 167,
   "id": "f7421322",
   "metadata": {
    "execution": {
     "iopub.execute_input": "2025-10-02T22:09:59.857429Z",
     "iopub.status.busy": "2025-10-02T22:09:59.857123Z",
     "iopub.status.idle": "2025-10-02T22:09:59.877675Z",
     "shell.execute_reply": "2025-10-02T22:09:59.876575Z",
     "shell.execute_reply.started": "2025-10-02T22:09:59.857408Z"
    }
   },
   "outputs": [],
   "source": [
    "claims_mapped_3['specialty'] = claims_mapped_3['specialty'].astype(str)\n",
    "claims_mapped_3['region'] = claims_mapped_3['region'].astype(str)"
   ]
  },
  {
   "cell_type": "code",
   "execution_count": 168,
   "id": "529547e1",
   "metadata": {
    "execution": {
     "iopub.execute_input": "2025-10-02T22:09:59.879030Z",
     "iopub.status.busy": "2025-10-02T22:09:59.878756Z",
     "iopub.status.idle": "2025-10-02T22:09:59.919187Z",
     "shell.execute_reply": "2025-10-02T22:09:59.918044Z",
     "shell.execute_reply.started": "2025-10-02T22:09:59.879009Z"
    }
   },
   "outputs": [
    {
     "data": {
      "text/html": [
       "<div>\n",
       "<style scoped>\n",
       "    .dataframe tbody tr th:only-of-type {\n",
       "        vertical-align: middle;\n",
       "    }\n",
       "\n",
       "    .dataframe tbody tr th {\n",
       "        vertical-align: top;\n",
       "    }\n",
       "\n",
       "    .dataframe thead th {\n",
       "        text-align: right;\n",
       "    }\n",
       "</style>\n",
       "<table border=\"1\" class=\"dataframe\">\n",
       "  <thead>\n",
       "    <tr style=\"text-align: right;\">\n",
       "      <th></th>\n",
       "      <th>patient_id</th>\n",
       "      <th>year</th>\n",
       "      <th>fiscal_quarter</th>\n",
       "      <th>gap_days</th>\n",
       "      <th>fill_count</th>\n",
       "      <th>dos</th>\n",
       "      <th>Time_frame</th>\n",
       "      <th>adherence</th>\n",
       "      <th>specialty_Cardiology</th>\n",
       "      <th>specialty_Endocrinology</th>\n",
       "      <th>specialty_General</th>\n",
       "      <th>specialty_Neurology</th>\n",
       "      <th>region_East</th>\n",
       "      <th>region_North</th>\n",
       "      <th>region_South</th>\n",
       "      <th>region_West</th>\n",
       "    </tr>\n",
       "  </thead>\n",
       "  <tbody>\n",
       "    <tr>\n",
       "      <th>0</th>\n",
       "      <td>P10074</td>\n",
       "      <td>2022</td>\n",
       "      <td>1</td>\n",
       "      <td>87.0</td>\n",
       "      <td>1</td>\n",
       "      <td>90</td>\n",
       "      <td>90</td>\n",
       "      <td>1.0</td>\n",
       "      <td>0</td>\n",
       "      <td>0</td>\n",
       "      <td>1</td>\n",
       "      <td>0</td>\n",
       "      <td>0</td>\n",
       "      <td>0</td>\n",
       "      <td>1</td>\n",
       "      <td>0</td>\n",
       "    </tr>\n",
       "    <tr>\n",
       "      <th>1</th>\n",
       "      <td>P10074</td>\n",
       "      <td>2022</td>\n",
       "      <td>2</td>\n",
       "      <td>-1.0</td>\n",
       "      <td>1</td>\n",
       "      <td>90</td>\n",
       "      <td>90</td>\n",
       "      <td>1.0</td>\n",
       "      <td>0</td>\n",
       "      <td>1</td>\n",
       "      <td>0</td>\n",
       "      <td>0</td>\n",
       "      <td>0</td>\n",
       "      <td>1</td>\n",
       "      <td>0</td>\n",
       "      <td>0</td>\n",
       "    </tr>\n",
       "  </tbody>\n",
       "</table>\n",
       "</div>"
      ],
      "text/plain": [
       "  patient_id  year  fiscal_quarter  gap_days  fill_count  dos  Time_frame  \\\n",
       "0     P10074  2022               1      87.0           1   90          90   \n",
       "1     P10074  2022               2      -1.0           1   90          90   \n",
       "\n",
       "   adherence  specialty_Cardiology  specialty_Endocrinology  \\\n",
       "0        1.0                     0                        0   \n",
       "1        1.0                     0                        1   \n",
       "\n",
       "   specialty_General  specialty_Neurology  region_East  region_North  \\\n",
       "0                  1                    0            0             0   \n",
       "1                  0                    0            0             1   \n",
       "\n",
       "   region_South  region_West  \n",
       "0             1            0  \n",
       "1             0            0  "
      ]
     },
     "execution_count": 168,
     "metadata": {},
     "output_type": "execute_result"
    }
   ],
   "source": [
    "claims_encoded = pd.get_dummies(claims_mapped_3, columns=['specialty', 'region'])\n",
    "dummy_columns = [col for col in claims_encoded.columns if col.startswith('specialty_') or col.startswith('region_')]\n",
    "claims_encoded[dummy_columns] = claims_encoded[dummy_columns].astype(int)\n",
    "claims_encoded.head(2)"
   ]
  },
  {
   "cell_type": "code",
   "execution_count": 169,
   "id": "12d3d9f7",
   "metadata": {
    "execution": {
     "iopub.execute_input": "2025-10-02T22:09:59.920573Z",
     "iopub.status.busy": "2025-10-02T22:09:59.920275Z",
     "iopub.status.idle": "2025-10-02T22:09:59.932458Z",
     "shell.execute_reply": "2025-10-02T22:09:59.931454Z",
     "shell.execute_reply.started": "2025-10-02T22:09:59.920543Z"
    }
   },
   "outputs": [],
   "source": [
    "claims_encoded = claims_encoded.sort_values(['patient_id', 'year', 'fiscal_quarter'])\n",
    "claims_encoded['target'] = claims_encoded.groupby('patient_id')['fill_count'].shift(-1)\n",
    "claims_encoded['target'] = claims_encoded['target'].fillna(0)\n",
    "claims_encoded['target'] = (claims_encoded['target'] > 0).astype(int)"
   ]
  },
  {
   "cell_type": "code",
   "execution_count": 170,
   "id": "899566ab",
   "metadata": {
    "execution": {
     "iopub.execute_input": "2025-10-02T22:09:59.933773Z",
     "iopub.status.busy": "2025-10-02T22:09:59.933438Z",
     "iopub.status.idle": "2025-10-02T22:09:59.965180Z",
     "shell.execute_reply": "2025-10-02T22:09:59.964241Z",
     "shell.execute_reply.started": "2025-10-02T22:09:59.933745Z"
    }
   },
   "outputs": [
    {
     "data": {
      "text/html": [
       "<div>\n",
       "<style scoped>\n",
       "    .dataframe tbody tr th:only-of-type {\n",
       "        vertical-align: middle;\n",
       "    }\n",
       "\n",
       "    .dataframe tbody tr th {\n",
       "        vertical-align: top;\n",
       "    }\n",
       "\n",
       "    .dataframe thead th {\n",
       "        text-align: right;\n",
       "    }\n",
       "</style>\n",
       "<table border=\"1\" class=\"dataframe\">\n",
       "  <thead>\n",
       "    <tr style=\"text-align: right;\">\n",
       "      <th></th>\n",
       "      <th>patient_id</th>\n",
       "      <th>year</th>\n",
       "      <th>fiscal_quarter</th>\n",
       "      <th>gap_days</th>\n",
       "      <th>fill_count</th>\n",
       "      <th>dos</th>\n",
       "      <th>Time_frame</th>\n",
       "      <th>adherence</th>\n",
       "      <th>specialty_Cardiology</th>\n",
       "      <th>specialty_Endocrinology</th>\n",
       "      <th>specialty_General</th>\n",
       "      <th>specialty_Neurology</th>\n",
       "      <th>region_East</th>\n",
       "      <th>region_North</th>\n",
       "      <th>region_South</th>\n",
       "      <th>region_West</th>\n",
       "      <th>target</th>\n",
       "    </tr>\n",
       "  </thead>\n",
       "  <tbody>\n",
       "    <tr>\n",
       "      <th>0</th>\n",
       "      <td>P10074</td>\n",
       "      <td>2022</td>\n",
       "      <td>1</td>\n",
       "      <td>87.0</td>\n",
       "      <td>1</td>\n",
       "      <td>90</td>\n",
       "      <td>90</td>\n",
       "      <td>1.0</td>\n",
       "      <td>0</td>\n",
       "      <td>0</td>\n",
       "      <td>1</td>\n",
       "      <td>0</td>\n",
       "      <td>0</td>\n",
       "      <td>0</td>\n",
       "      <td>1</td>\n",
       "      <td>0</td>\n",
       "      <td>1</td>\n",
       "    </tr>\n",
       "    <tr>\n",
       "      <th>1</th>\n",
       "      <td>P10074</td>\n",
       "      <td>2022</td>\n",
       "      <td>2</td>\n",
       "      <td>-1.0</td>\n",
       "      <td>1</td>\n",
       "      <td>90</td>\n",
       "      <td>90</td>\n",
       "      <td>1.0</td>\n",
       "      <td>0</td>\n",
       "      <td>1</td>\n",
       "      <td>0</td>\n",
       "      <td>0</td>\n",
       "      <td>0</td>\n",
       "      <td>1</td>\n",
       "      <td>0</td>\n",
       "      <td>0</td>\n",
       "      <td>1</td>\n",
       "    </tr>\n",
       "  </tbody>\n",
       "</table>\n",
       "</div>"
      ],
      "text/plain": [
       "  patient_id  year  fiscal_quarter  gap_days  fill_count  dos  Time_frame  \\\n",
       "0     P10074  2022               1      87.0           1   90          90   \n",
       "1     P10074  2022               2      -1.0           1   90          90   \n",
       "\n",
       "   adherence  specialty_Cardiology  specialty_Endocrinology  \\\n",
       "0        1.0                     0                        0   \n",
       "1        1.0                     0                        1   \n",
       "\n",
       "   specialty_General  specialty_Neurology  region_East  region_North  \\\n",
       "0                  1                    0            0             0   \n",
       "1                  0                    0            0             1   \n",
       "\n",
       "   region_South  region_West  target  \n",
       "0             1            0       1  \n",
       "1             0            0       1  "
      ]
     },
     "execution_count": 170,
     "metadata": {},
     "output_type": "execute_result"
    }
   ],
   "source": [
    "claims_encoded.head(2)"
   ]
  },
  {
   "cell_type": "code",
   "execution_count": 171,
   "id": "2dc38994",
   "metadata": {
    "execution": {
     "iopub.execute_input": "2025-10-02T22:09:59.966571Z",
     "iopub.status.busy": "2025-10-02T22:09:59.966278Z",
     "iopub.status.idle": "2025-10-02T22:09:59.987734Z",
     "shell.execute_reply": "2025-10-02T22:09:59.986785Z",
     "shell.execute_reply.started": "2025-10-02T22:09:59.966551Z"
    }
   },
   "outputs": [],
   "source": [
    "from sklearn.model_selection import train_test_split\n",
    "from sklearn.metrics import accuracy_score, classification_report, roc_auc_score\n",
    "import xgboost as xgb"
   ]
  },
  {
   "cell_type": "code",
   "execution_count": 172,
   "id": "255acf0c",
   "metadata": {
    "execution": {
     "iopub.execute_input": "2025-10-02T22:09:59.988956Z",
     "iopub.status.busy": "2025-10-02T22:09:59.988707Z",
     "iopub.status.idle": "2025-10-02T22:10:00.025555Z",
     "shell.execute_reply": "2025-10-02T22:10:00.023652Z",
     "shell.execute_reply.started": "2025-10-02T22:09:59.988935Z"
    }
   },
   "outputs": [
    {
     "name": "stdout",
     "output_type": "stream",
     "text": [
      "Feature matrix shape: (2999, 15)\n",
      "Target vector shape: (2999,)\n"
     ]
    }
   ],
   "source": [
    "X = claims_encoded.drop(columns=['patient_id', 'target'])\n",
    "y = claims_encoded['target']\n",
    "print(\"Feature matrix shape:\", X.shape)\n",
    "print(\"Target vector shape:\", y.shape)"
   ]
  },
  {
   "cell_type": "code",
   "execution_count": 173,
   "id": "b6d0cc82",
   "metadata": {
    "execution": {
     "iopub.execute_input": "2025-10-02T22:10:00.027602Z",
     "iopub.status.busy": "2025-10-02T22:10:00.027198Z",
     "iopub.status.idle": "2025-10-02T22:10:00.055813Z",
     "shell.execute_reply": "2025-10-02T22:10:00.054531Z",
     "shell.execute_reply.started": "2025-10-02T22:10:00.027571Z"
    }
   },
   "outputs": [
    {
     "name": "stdout",
     "output_type": "stream",
     "text": [
      "Train set size: 2699\n",
      "Test set size: 300\n"
     ]
    }
   ],
   "source": [
    "X_train, X_test, y_train, y_test = train_test_split(\n",
    "    X, y, test_size=0.1, random_state=42, stratify=y\n",
    ")\n",
    "print(\"Train set size:\", X_train.shape[0])\n",
    "print(\"Test set size:\", X_test.shape[0])"
   ]
  },
  {
   "cell_type": "code",
   "execution_count": 174,
   "id": "c44fb724",
   "metadata": {
    "execution": {
     "iopub.execute_input": "2025-10-02T22:10:00.057316Z",
     "iopub.status.busy": "2025-10-02T22:10:00.056945Z",
     "iopub.status.idle": "2025-10-02T22:10:00.246591Z",
     "shell.execute_reply": "2025-10-02T22:10:00.245757Z",
     "shell.execute_reply.started": "2025-10-02T22:10:00.057284Z"
    }
   },
   "outputs": [
    {
     "name": "stdout",
     "output_type": "stream",
     "text": [
      "XGBoost model training completed!\n"
     ]
    }
   ],
   "source": [
    "model = xgb.XGBClassifier(\n",
    "    n_estimators=200,\n",
    "    max_depth=5,\n",
    "    learning_rate=0.1,\n",
    "    subsample=0.8,\n",
    "    colsample_bytree=0.8,\n",
    "    random_state=42,\n",
    "    use_label_encoder=False,\n",
    "    eval_metric='logloss'\n",
    ")\n",
    "model.fit(X_train, y_train)\n",
    "print(\"XGBoost model training completed!\")"
   ]
  },
  {
   "cell_type": "code",
   "execution_count": 175,
   "id": "94b8af08",
   "metadata": {
    "execution": {
     "iopub.execute_input": "2025-10-02T22:10:00.248187Z",
     "iopub.status.busy": "2025-10-02T22:10:00.247505Z",
     "iopub.status.idle": "2025-10-02T22:10:00.283169Z",
     "shell.execute_reply": "2025-10-02T22:10:00.282496Z",
     "shell.execute_reply.started": "2025-10-02T22:10:00.248163Z"
    }
   },
   "outputs": [
    {
     "name": "stdout",
     "output_type": "stream",
     "text": [
      "Accuracy: 0.87\n",
      "\n",
      "Classification Report:\n",
      "               precision    recall  f1-score   support\n",
      "\n",
      "           0       0.62      0.56      0.59        50\n",
      "           1       0.91      0.93      0.92       250\n",
      "\n",
      "    accuracy                           0.87       300\n",
      "   macro avg       0.77      0.75      0.76       300\n",
      "weighted avg       0.87      0.87      0.87       300\n",
      "\n",
      "ROC-AUC Score: 0.8831\n"
     ]
    }
   ],
   "source": [
    "y_pred = model.predict(X_test)\n",
    "accuracy = accuracy_score(y_test, y_pred)\n",
    "print(\"Accuracy:\", round(accuracy, 4))\n",
    "print(\"\\nClassification Report:\\n\", classification_report(y_test, y_pred))\n",
    "y_pred_proba = model.predict_proba(X_test)[:, 1]\n",
    "roc_auc = roc_auc_score(y_test, y_pred_proba)\n",
    "print(\"ROC-AUC Score:\", round(roc_auc, 4))"
   ]
  },
  {
   "cell_type": "code",
   "execution_count": 176,
   "id": "7e1b7fda",
   "metadata": {
    "execution": {
     "iopub.execute_input": "2025-10-02T22:10:00.286181Z",
     "iopub.status.busy": "2025-10-02T22:10:00.285633Z",
     "iopub.status.idle": "2025-10-02T22:10:00.515106Z",
     "shell.execute_reply": "2025-10-02T22:10:00.513566Z",
     "shell.execute_reply.started": "2025-10-02T22:10:00.286155Z"
    }
   },
   "outputs": [
    {
     "name": "stdout",
     "output_type": "stream",
     "text": [
      "Top 10 Important Features:\n",
      " year                       0.492674\n",
      "fiscal_quarter             0.089964\n",
      "specialty_Cardiology       0.049942\n",
      "gap_days                   0.048390\n",
      "adherence                  0.043936\n",
      "specialty_Neurology        0.043011\n",
      "region_South               0.035775\n",
      "region_North               0.034603\n",
      "specialty_General          0.034391\n",
      "specialty_Endocrinology    0.033744\n",
      "dtype: float32\n"
     ]
    },
    {
     "data": {
      "image/png": "[encoded data removed]",
      "text/plain": [
       "<Figure size 800x600 with 1 Axes>"
      ]
     },
     "metadata": {},
     "output_type": "display_data"
    }
   ],
   "source": [
    "import matplotlib.pyplot as plt\n",
    "import seaborn as sns\n",
    "importances = pd.Series(model.feature_importances_, index=X_train.columns)\n",
    "importances = importances.sort_values(ascending=False)\n",
    "print(\"Top 10 Important Features:\\n\", importances.head(10))\n",
    "plt.figure(figsize=(8,6))\n",
    "sns.barplot(x=importances.head(10), y=importances.head(10).index, palette=\"viridis\")\n",
    "plt.title(\"Top 10 Feature Importances (XGBoost)\")\n",
    "plt.xlabel(\"Importance Score\")\n",
    "plt.ylabel(\"Feature\")\n",
    "plt.show()"
   ]
  },
  {
   "cell_type": "code",
   "execution_count": 177,
   "id": "7705b356",
   "metadata": {
    "execution": {
     "iopub.execute_input": "2025-10-02T22:10:00.516779Z",
     "iopub.status.busy": "2025-10-02T22:10:00.516454Z",
     "iopub.status.idle": "2025-10-02T22:10:00.531439Z",
     "shell.execute_reply": "2025-10-02T22:10:00.530100Z",
     "shell.execute_reply.started": "2025-10-02T22:10:00.516756Z"
    }
   },
   "outputs": [
    {
     "data": {
      "text/html": [
       "<div>\n",
       "<style scoped>\n",
       "    .dataframe tbody tr th:only-of-type {\n",
       "        vertical-align: middle;\n",
       "    }\n",
       "\n",
       "    .dataframe tbody tr th {\n",
       "        vertical-align: top;\n",
       "    }\n",
       "\n",
       "    .dataframe thead th {\n",
       "        text-align: right;\n",
       "    }\n",
       "</style>\n",
       "<table border=\"1\" class=\"dataframe\">\n",
       "  <thead>\n",
       "    <tr style=\"text-align: right;\">\n",
       "      <th></th>\n",
       "      <th>target_class</th>\n",
       "      <th>count</th>\n",
       "      <th>percent</th>\n",
       "    </tr>\n",
       "  </thead>\n",
       "  <tbody>\n",
       "    <tr>\n",
       "      <th>0</th>\n",
       "      <td>1</td>\n",
       "      <td>2502</td>\n",
       "      <td>83.43</td>\n",
       "    </tr>\n",
       "    <tr>\n",
       "      <th>1</th>\n",
       "      <td>0</td>\n",
       "      <td>497</td>\n",
       "      <td>16.57</td>\n",
       "    </tr>\n",
       "  </tbody>\n",
       "</table>\n",
       "</div>"
      ],
      "text/plain": [
       "   target_class  count  percent\n",
       "0             1   2502    83.43\n",
       "1             0    497    16.57"
      ]
     },
     "metadata": {},
     "output_type": "display_data"
    }
   ],
   "source": [
    "class_dist_table = y.value_counts().reset_index()\n",
    "class_dist_table.columns = ['target_class', 'count']\n",
    "class_dist_table['percent'] = round((class_dist_table['count'] / len(y)) * 100, 2)\n",
    "display(class_dist_table)"
   ]
  },
  {
   "cell_type": "code",
   "execution_count": 178,
   "id": "2c1c9859",
   "metadata": {
    "execution": {
     "iopub.execute_input": "2025-10-02T22:10:00.533265Z",
     "iopub.status.busy": "2025-10-02T22:10:00.532351Z",
     "iopub.status.idle": "2025-10-02T22:10:00.561927Z",
     "shell.execute_reply": "2025-10-02T22:10:00.560699Z",
     "shell.execute_reply.started": "2025-10-02T22:10:00.533159Z"
    }
   },
   "outputs": [
    {
     "name": "stdout",
     "output_type": "stream",
     "text": [
      "Confusion Matrix Table:\n"
     ]
    },
    {
     "data": {
      "text/html": [
       "<div>\n",
       "<style scoped>\n",
       "    .dataframe tbody tr th:only-of-type {\n",
       "        vertical-align: middle;\n",
       "    }\n",
       "\n",
       "    .dataframe tbody tr th {\n",
       "        vertical-align: top;\n",
       "    }\n",
       "\n",
       "    .dataframe thead th {\n",
       "        text-align: right;\n",
       "    }\n",
       "</style>\n",
       "<table border=\"1\" class=\"dataframe\">\n",
       "  <thead>\n",
       "    <tr style=\"text-align: right;\">\n",
       "      <th></th>\n",
       "      <th>Pred_0 (No Refill)</th>\n",
       "      <th>Pred_1 (Refill)</th>\n",
       "    </tr>\n",
       "  </thead>\n",
       "  <tbody>\n",
       "    <tr>\n",
       "      <th>Actual_0 (No Refill)</th>\n",
       "      <td>28</td>\n",
       "      <td>22</td>\n",
       "    </tr>\n",
       "    <tr>\n",
       "      <th>Actual_1 (Refill)</th>\n",
       "      <td>17</td>\n",
       "      <td>233</td>\n",
       "    </tr>\n",
       "  </tbody>\n",
       "</table>\n",
       "</div>"
      ],
      "text/plain": [
       "                      Pred_0 (No Refill)  Pred_1 (Refill)\n",
       "Actual_0 (No Refill)                  28               22\n",
       "Actual_1 (Refill)                     17              233"
      ]
     },
     "metadata": {},
     "output_type": "display_data"
    }
   ],
   "source": [
    "from sklearn.metrics import confusion_matrix\n",
    "import pandas as pd\n",
    "cm = confusion_matrix(y_test, y_pred)\n",
    "cm_table = pd.DataFrame(cm,\n",
    "                        index=['Actual_0 (No Refill)', 'Actual_1 (Refill)'],\n",
    "                        columns=['Pred_0 (No Refill)', 'Pred_1 (Refill)'])\n",
    "print(\"Confusion Matrix Table:\")\n",
    "display(cm_table)"
   ]
  },
  {
   "cell_type": "code",
   "execution_count": 179,
   "id": "d3c18d3f",
   "metadata": {
    "execution": {
     "iopub.execute_input": "2025-10-02T22:10:00.563524Z",
     "iopub.status.busy": "2025-10-02T22:10:00.563085Z",
     "iopub.status.idle": "2025-10-02T22:10:00.607437Z",
     "shell.execute_reply": "2025-10-02T22:10:00.606492Z",
     "shell.execute_reply.started": "2025-10-02T22:10:00.563496Z"
    }
   },
   "outputs": [
    {
     "name": "stdout",
     "output_type": "stream",
     "text": [
      "Confusion Matrix with threshold = 0.4:\n"
     ]
    },
    {
     "data": {
      "text/html": [
       "<div>\n",
       "<style scoped>\n",
       "    .dataframe tbody tr th:only-of-type {\n",
       "        vertical-align: middle;\n",
       "    }\n",
       "\n",
       "    .dataframe tbody tr th {\n",
       "        vertical-align: top;\n",
       "    }\n",
       "\n",
       "    .dataframe thead th {\n",
       "        text-align: right;\n",
       "    }\n",
       "</style>\n",
       "<table border=\"1\" class=\"dataframe\">\n",
       "  <thead>\n",
       "    <tr style=\"text-align: right;\">\n",
       "      <th></th>\n",
       "      <th>Pred_0 (No Refill)</th>\n",
       "      <th>Pred_1 (Refill)</th>\n",
       "    </tr>\n",
       "  </thead>\n",
       "  <tbody>\n",
       "    <tr>\n",
       "      <th>Actual_0 (No Refill)</th>\n",
       "      <td>25</td>\n",
       "      <td>25</td>\n",
       "    </tr>\n",
       "    <tr>\n",
       "      <th>Actual_1 (Refill)</th>\n",
       "      <td>13</td>\n",
       "      <td>237</td>\n",
       "    </tr>\n",
       "  </tbody>\n",
       "</table>\n",
       "</div>"
      ],
      "text/plain": [
       "                      Pred_0 (No Refill)  Pred_1 (Refill)\n",
       "Actual_0 (No Refill)                  25               25\n",
       "Actual_1 (Refill)                     13              237"
      ]
     },
     "metadata": {},
     "output_type": "display_data"
    },
    {
     "name": "stdout",
     "output_type": "stream",
     "text": [
      "\n",
      "Classification Report with tuned threshold:\n",
      "              precision    recall  f1-score   support\n",
      "\n",
      "           0       0.66      0.50      0.57        50\n",
      "           1       0.90      0.95      0.93       250\n",
      "\n",
      "    accuracy                           0.87       300\n",
      "   macro avg       0.78      0.72      0.75       300\n",
      "weighted avg       0.86      0.87      0.87       300\n",
      "\n"
     ]
    }
   ],
   "source": [
    "import numpy as np\n",
    "from sklearn.metrics import classification_report, confusion_matrix\n",
    "y_pred_proba = model.predict_proba(X_test)[:, 1]\n",
    "threshold = 0.4\n",
    "y_pred_thresh = (y_pred_proba >= threshold).astype(int)\n",
    "cm_thresh = confusion_matrix(y_test, y_pred_thresh)\n",
    "cm_thresh_table = pd.DataFrame(cm_thresh,\n",
    "                               index=['Actual_0 (No Refill)', 'Actual_1 (Refill)'],\n",
    "                               columns=['Pred_0 (No Refill)', 'Pred_1 (Refill)'])\n",
    "print(f\"Confusion Matrix with threshold = {threshold}:\")\n",
    "display(cm_thresh_table)\n",
    "print(\"\\nClassification Report with tuned threshold:\")\n",
    "print(classification_report(y_test, y_pred_thresh))"
   ]
  },
  {
   "cell_type": "code",
   "execution_count": 180,
   "id": "8b9d004b",
   "metadata": {
    "execution": {
     "iopub.execute_input": "2025-10-02T22:10:00.609098Z",
     "iopub.status.busy": "2025-10-02T22:10:00.608695Z",
     "iopub.status.idle": "2025-10-02T22:10:00.798366Z",
     "shell.execute_reply": "2025-10-02T22:10:00.797302Z",
     "shell.execute_reply.started": "2025-10-02T22:10:00.609075Z"
    }
   },
   "outputs": [
    {
     "name": "stdout",
     "output_type": "stream",
     "text": [
      "Scale_pos_weight: 0.19864108713029577\n",
      "Confusion Matrix with Class Weights:\n"
     ]
    },
    {
     "data": {
      "text/html": [
       "<div>\n",
       "<style scoped>\n",
       "    .dataframe tbody tr th:only-of-type {\n",
       "        vertical-align: middle;\n",
       "    }\n",
       "\n",
       "    .dataframe tbody tr th {\n",
       "        vertical-align: top;\n",
       "    }\n",
       "\n",
       "    .dataframe thead th {\n",
       "        text-align: right;\n",
       "    }\n",
       "</style>\n",
       "<table border=\"1\" class=\"dataframe\">\n",
       "  <thead>\n",
       "    <tr style=\"text-align: right;\">\n",
       "      <th></th>\n",
       "      <th>Pred_0 (No Refill)</th>\n",
       "      <th>Pred_1 (Refill)</th>\n",
       "    </tr>\n",
       "  </thead>\n",
       "  <tbody>\n",
       "    <tr>\n",
       "      <th>Actual_0 (No Refill)</th>\n",
       "      <td>39</td>\n",
       "      <td>11</td>\n",
       "    </tr>\n",
       "    <tr>\n",
       "      <th>Actual_1 (Refill)</th>\n",
       "      <td>39</td>\n",
       "      <td>211</td>\n",
       "    </tr>\n",
       "  </tbody>\n",
       "</table>\n",
       "</div>"
      ],
      "text/plain": [
       "                      Pred_0 (No Refill)  Pred_1 (Refill)\n",
       "Actual_0 (No Refill)                  39               11\n",
       "Actual_1 (Refill)                     39              211"
      ]
     },
     "metadata": {},
     "output_type": "display_data"
    },
    {
     "name": "stdout",
     "output_type": "stream",
     "text": [
      "\n",
      "Classification Report with Class Weights:\n",
      "              precision    recall  f1-score   support\n",
      "\n",
      "           0       0.50      0.78      0.61        50\n",
      "           1       0.95      0.84      0.89       250\n",
      "\n",
      "    accuracy                           0.83       300\n",
      "   macro avg       0.73      0.81      0.75       300\n",
      "weighted avg       0.88      0.83      0.85       300\n",
      "\n"
     ]
    }
   ],
   "source": [
    "neg, pos = y.value_counts()[0], y.value_counts()[1]\n",
    "scale_pos_weight = neg / pos\n",
    "print(\"Scale_pos_weight:\", scale_pos_weight)\n",
    "model_weighted = xgb.XGBClassifier(\n",
    "    n_estimators=200,\n",
    "    max_depth=5,\n",
    "    learning_rate=0.1,\n",
    "    subsample=0.8,\n",
    "    colsample_bytree=0.8,\n",
    "    random_state=42,\n",
    "    use_label_encoder=False,\n",
    "    eval_metric='logloss',\n",
    "    scale_pos_weight=scale_pos_weight\n",
    ")\n",
    "model_weighted.fit(X_train, y_train)\n",
    "y_pred_weighted = model_weighted.predict(X_test)\n",
    "cm_weighted = confusion_matrix(y_test, y_pred_weighted)\n",
    "cm_weighted_table = pd.DataFrame(cm_weighted,\n",
    "    index=['Actual_0 (No Refill)', 'Actual_1 (Refill)'],\n",
    "    columns=['Pred_0 (No Refill)', 'Pred_1 (Refill)'])\n",
    "print(\"Confusion Matrix with Class Weights:\")\n",
    "display(cm_weighted_table)\n",
    "print(\"\\nClassification Report with Class Weights:\")\n",
    "print(classification_report(y_test, y_pred_weighted))"
   ]
  },
  {
   "cell_type": "code",
   "execution_count": 181,
   "id": "dee07a59",
   "metadata": {
    "execution": {
     "iopub.execute_input": "2025-10-02T22:10:00.800984Z",
     "iopub.status.busy": "2025-10-02T22:10:00.799359Z",
     "iopub.status.idle": "2025-10-02T22:10:00.851130Z",
     "shell.execute_reply": "2025-10-02T22:10:00.849927Z",
     "shell.execute_reply.started": "2025-10-02T22:10:00.800959Z"
    }
   },
   "outputs": [
    {
     "data": {
      "text/html": [
       "<div>\n",
       "<style scoped>\n",
       "    .dataframe tbody tr th:only-of-type {\n",
       "        vertical-align: middle;\n",
       "    }\n",
       "\n",
       "    .dataframe tbody tr th {\n",
       "        vertical-align: top;\n",
       "    }\n",
       "\n",
       "    .dataframe thead th {\n",
       "        text-align: right;\n",
       "    }\n",
       "</style>\n",
       "<table border=\"1\" class=\"dataframe\">\n",
       "  <thead>\n",
       "    <tr style=\"text-align: right;\">\n",
       "      <th></th>\n",
       "      <th>Model</th>\n",
       "      <th>Accuracy</th>\n",
       "      <th>Precision_0</th>\n",
       "      <th>Recall_0</th>\n",
       "      <th>F1_0</th>\n",
       "      <th>Precision_1</th>\n",
       "      <th>Recall_1</th>\n",
       "      <th>F1_1</th>\n",
       "    </tr>\n",
       "  </thead>\n",
       "  <tbody>\n",
       "    <tr>\n",
       "      <th>0</th>\n",
       "      <td>Baseline (0.5 threshold)</td>\n",
       "      <td>0.870</td>\n",
       "      <td>0.622</td>\n",
       "      <td>0.56</td>\n",
       "      <td>0.589</td>\n",
       "      <td>0.914</td>\n",
       "      <td>0.932</td>\n",
       "      <td>0.923</td>\n",
       "    </tr>\n",
       "    <tr>\n",
       "      <th>1</th>\n",
       "      <td>Threshold = 0.4</td>\n",
       "      <td>0.873</td>\n",
       "      <td>0.658</td>\n",
       "      <td>0.50</td>\n",
       "      <td>0.568</td>\n",
       "      <td>0.905</td>\n",
       "      <td>0.948</td>\n",
       "      <td>0.926</td>\n",
       "    </tr>\n",
       "    <tr>\n",
       "      <th>2</th>\n",
       "      <td>Class Weights</td>\n",
       "      <td>0.833</td>\n",
       "      <td>0.500</td>\n",
       "      <td>0.78</td>\n",
       "      <td>0.609</td>\n",
       "      <td>0.950</td>\n",
       "      <td>0.844</td>\n",
       "      <td>0.894</td>\n",
       "    </tr>\n",
       "  </tbody>\n",
       "</table>\n",
       "</div>"
      ],
      "text/plain": [
       "                      Model  Accuracy  Precision_0  Recall_0   F1_0  \\\n",
       "0  Baseline (0.5 threshold)     0.870        0.622      0.56  0.589   \n",
       "1           Threshold = 0.4     0.873        0.658      0.50  0.568   \n",
       "2             Class Weights     0.833        0.500      0.78  0.609   \n",
       "\n",
       "   Precision_1  Recall_1   F1_1  \n",
       "0        0.914     0.932  0.923  \n",
       "1        0.905     0.948  0.926  \n",
       "2        0.950     0.844  0.894  "
      ]
     },
     "metadata": {},
     "output_type": "display_data"
    }
   ],
   "source": [
    " from sklearn.metrics import precision_score, recall_score, f1_score, accuracy_score\n",
    "def get_metrics(y_true, y_pred, label):\n",
    "    return {\n",
    "        'Model': label,\n",
    "        'Accuracy': round(accuracy_score(y_true, y_pred), 3),\n",
    "        'Precision_0': round(precision_score(y_true, y_pred, pos_label=0), 3),\n",
    "        'Recall_0': round(recall_score(y_true, y_pred, pos_label=0), 3),\n",
    "        'F1_0': round(f1_score(y_true, y_pred, pos_label=0), 3),\n",
    "        'Precision_1': round(precision_score(y_true, y_pred, pos_label=1), 3),\n",
    "        'Recall_1': round(recall_score(y_true, y_pred, pos_label=1), 3),\n",
    "        'F1_1': round(f1_score(y_true, y_pred, pos_label=1), 3),\n",
    "    }\n",
    "results = []\n",
    "results.append(get_metrics(y_test, y_pred, \"Baseline (0.5 threshold)\"))\n",
    "results.append(get_metrics(y_test, y_pred_thresh, \"Threshold = 0.4\"))\n",
    "results.append(get_metrics(y_test, y_pred_weighted, \"Class Weights\"))\n",
    "results_table = pd.DataFrame(results)\n",
    "display(results_table)"
   ]
  },
  {
   "cell_type": "code",
   "execution_count": 182,
   "id": "f6785799",
   "metadata": {
    "execution": {
     "iopub.execute_input": "2025-10-02T22:10:00.852398Z",
     "iopub.status.busy": "2025-10-02T22:10:00.852113Z",
     "iopub.status.idle": "2025-10-02T22:10:01.349285Z",
     "shell.execute_reply": "2025-10-02T22:10:01.348151Z",
     "shell.execute_reply.started": "2025-10-02T22:10:00.852377Z"
    }
   },
   "outputs": [
    {
     "data": {
      "image/png": "[encoded data removed]",
      "text/plain": [
       "<Figure size 1200x500 with 4 Axes>"
      ]
     },
     "metadata": {},
     "output_type": "display_data"
    }
   ],
   "source": [
    "import matplotlib.pyplot as plt\n",
    "import seaborn as sns\n",
    "from sklearn.metrics import confusion_matrix\n",
    "cm_baseline = confusion_matrix(y_test, y_pred)\n",
    "cm_weighted = confusion_matrix(y_test, y_pred_weighted)\n",
    "fig, axes = plt.subplots(1, 2, figsize=(12,5))\n",
    "sns.heatmap(cm_baseline, annot=True, fmt='d', cmap=\"Blues\", ax=axes[0])\n",
    "axes[0].set_title(\"Baseline Model (Threshold=0.5)\")\n",
    "axes[0].set_xlabel(\"Predicted\")\n",
    "axes[0].set_ylabel(\"Actual\")\n",
    "axes[0].set_xticklabels([\"No Refill (0)\", \"Refill (1)\"])\n",
    "axes[0].set_yticklabels([\"No Refill (0)\", \"Refill (1)\"])\n",
    "sns.heatmap(cm_weighted, annot=True, fmt='d', cmap=\"Greens\", ax=axes[1])\n",
    "axes[1].set_title(\"Weighted Model (Class Weights)\")\n",
    "axes[1].set_xlabel(\"Predicted\")\n",
    "axes[1].set_ylabel(\"Actual\")\n",
    "axes[1].set_xticklabels([\"No Refill (0)\", \"Refill (1)\"])\n",
    "axes[1].set_yticklabels([\"No Refill (0)\", \"Refill (1)\"])\n",
    "plt.tight_layout()\n",
    "plt.show()"
   ]
  },
  {
   "cell_type": "code",
   "execution_count": 183,
   "id": "164447a8-1808-4e1a-9984-3bccbcc6336d",
   "metadata": {
    "execution": {
     "iopub.execute_input": "2025-10-02T22:10:01.350939Z",
     "iopub.status.busy": "2025-10-02T22:10:01.350577Z",
     "iopub.status.idle": "2025-10-02T22:10:01.988491Z",
     "shell.execute_reply": "2025-10-02T22:10:01.987096Z",
     "shell.execute_reply.started": "2025-10-02T22:10:01.350909Z"
    }
   },
   "outputs": [
    {
     "data": {
      "image/png": "[encoded data removed]",
      "text/plain": [
       "<Figure size 1400x500 with 2 Axes>"
      ]
     },
     "metadata": {},
     "output_type": "display_data"
    },
    {
     "name": "stdout",
     "output_type": "stream",
     "text": [
      "🔹 Patient counts by 10% probability bin (Threshold 0.4):\n",
      "Bin_04\n",
      "0-10%      124\n",
      "10-20%      80\n",
      "20-30%      68\n",
      "30-40%      53\n",
      "40-50%      52\n",
      "50-60%      23\n",
      "60-70%      37\n",
      "70-80%      24\n",
      "80-90%      23\n",
      "90-100%     13\n",
      "Name: count, dtype: int64\n",
      "\n",
      "🔹 Patient counts by 10% probability bin (Class-Weighted):\n",
      "Bin_WT\n",
      "0-10%      230\n",
      "10-20%     120\n",
      "20-30%      53\n",
      "30-40%      38\n",
      "40-50%      23\n",
      "50-60%      15\n",
      "60-70%       7\n",
      "70-80%       3\n",
      "80-90%       4\n",
      "90-100%      4\n",
      "Name: count, dtype: int64\n"
     ]
    }
   ],
   "source": [
    "import pandas as pd\n",
    "import matplotlib.pyplot as plt\n",
    "\n",
    "latest_features = claims_mapped_3.sort_values([\"patient_id\",\"year\",\"fiscal_quarter\"])\n",
    "latest_features = latest_features.groupby(\"patient_id\").tail(1).reset_index(drop=True)\n",
    "\n",
    "patient_final = pd.get_dummies(latest_features, columns=['specialty','region'])\n",
    "\n",
    "train_cols = [col for col in claims_encoded.columns if col not in [\"target\",\"patient_id\"]]\n",
    "\n",
    "for col in train_cols:\n",
    "    if col not in patient_final.columns:\n",
    "        patient_final[col] = 0\n",
    "\n",
    "patient_final = patient_final[train_cols]\n",
    "\n",
    "patient_probs_04 = model.predict_proba(patient_final)[:, 1]\n",
    "\n",
    "patient_probs_wt = model_weighted.predict_proba(patient_final)[:, 1]\n",
    "\n",
    "bins = list(range(0, 101, 10))\n",
    "labels = [f\"{i}-{i+10}%\" for i in bins[:-1]]\n",
    "\n",
    "prob_compare = pd.DataFrame({\n",
    "    \"Prob_04\": (patient_probs_04*100),\n",
    "    \"Prob_WT\": (patient_probs_wt*100)\n",
    "})\n",
    "\n",
    "prob_compare[\"Bin_04\"] = pd.cut(prob_compare[\"Prob_04\"], bins=bins, labels=labels, include_lowest=True)\n",
    "prob_compare[\"Bin_WT\"] = pd.cut(prob_compare[\"Prob_WT\"], bins=bins, labels=labels, include_lowest=True)\n",
    "\n",
    "bin_summary_04 = prob_compare[\"Bin_04\"].value_counts().sort_index()\n",
    "bin_summary_WT = prob_compare[\"Bin_WT\"].value_counts().sort_index()\n",
    "\n",
    "fig, axes = plt.subplots(1, 2, figsize=(14,5), sharey=True)\n",
    "\n",
    "bin_summary_04.plot(kind=\"bar\", ax=axes[0], color=\"orange\")\n",
    "axes[0].set_title(\"Threshold 0.4 Model\")\n",
    "axes[0].set_xlabel(\"Probability Range\")\n",
    "axes[0].set_ylabel(\"Number of Patients\")\n",
    "\n",
    "bin_summary_WT.plot(kind=\"bar\", ax=axes[1], color=\"green\")\n",
    "axes[1].set_title(\"Class-Weighted Model\")\n",
    "axes[1].set_xlabel(\"Probability Range\")\n",
    "\n",
    "plt.tight_layout()\n",
    "plt.show()\n",
    "\n",
    "print(\"🔹 Patient counts by 10% probability bin (Threshold 0.4):\")\n",
    "print(bin_summary_04)\n",
    "\n",
    "print(\"\\n🔹 Patient counts by 10% probability bin (Class-Weighted):\")\n",
    "print(bin_summary_WT)\n"
   ]
  },
  {
   "cell_type": "code",
   "execution_count": 184,
   "id": "728c5b6d-887f-4b3e-8a21-7b80fdb62e2d",
   "metadata": {
    "execution": {
     "iopub.execute_input": "2025-10-02T22:10:01.990260Z",
     "iopub.status.busy": "2025-10-02T22:10:01.989932Z",
     "iopub.status.idle": "2025-10-02T22:10:02.273095Z",
     "shell.execute_reply": "2025-10-02T22:10:02.271700Z",
     "shell.execute_reply.started": "2025-10-02T22:10:01.990237Z"
    }
   },
   "outputs": [
    {
     "data": {
      "image/png": "[encoded data removed]",
      "text/plain": [
       "<Figure size 800x600 with 1 Axes>"
      ]
     },
     "metadata": {},
     "output_type": "display_data"
    },
    {
     "name": "stdout",
     "output_type": "stream",
     "text": [
      "ROC–AUC (Threshold 0.4 model): 0.883\n",
      "ROC–AUC (Class-Weighted model): 0.878\n"
     ]
    }
   ],
   "source": [
    "from sklearn.metrics import roc_curve, roc_auc_score\n",
    "import matplotlib.pyplot as plt\n",
    "\n",
    "y_proba_04 = model.predict_proba(X_test)[:, 1]        # base model\n",
    "y_pred_04 = (y_proba_04 >= 0.4).astype(int)\n",
    "\n",
    "y_proba_wt = model_weighted.predict_proba(X_test)[:, 1]   # weighted model\n",
    "y_pred_wt = (y_proba_wt >= 0.5).astype(int)\n",
    "\n",
    "fpr_04, tpr_04, _ = roc_curve(y_test, y_proba_04)\n",
    "fpr_wt, tpr_wt, _ = roc_curve(y_test, y_proba_wt)\n",
    "\n",
    "auc_04 = roc_auc_score(y_test, y_proba_04)\n",
    "auc_wt = roc_auc_score(y_test, y_proba_wt)\n",
    "\n",
    "plt.figure(figsize=(8,6))\n",
    "plt.plot(fpr_04, tpr_04, label=f\"Threshold 0.4 Model (AUC={auc_04:.3f})\", color=\"orange\")\n",
    "plt.plot(fpr_wt, tpr_wt, label=f\"Class-Weighted Model (AUC={auc_wt:.3f})\", color=\"green\")\n",
    "plt.plot([0,1], [0,1], 'k--', label=\"Random Guess (AUC=0.5)\")\n",
    "\n",
    "plt.title(\"ROC Curve Comparison\")\n",
    "plt.xlabel(\"False Positive Rate (1 - Specificity)\")\n",
    "plt.ylabel(\"True Positive Rate (Recall)\")\n",
    "plt.legend(loc=\"lower right\")\n",
    "plt.grid(alpha=0.3)\n",
    "plt.show()\n",
    "\n",
    "print(f\"ROC–AUC (Threshold 0.4 model): {auc_04:.3f}\")\n",
    "print(f\"ROC–AUC (Class-Weighted model): {auc_wt:.3f}\")\n"
   ]
  },
  {
   "cell_type": "code",
   "execution_count": 185,
   "id": "41db26ba-e94e-4827-aad4-69946053e5cd",
   "metadata": {
    "execution": {
     "iopub.execute_input": "2025-10-02T22:10:02.274833Z",
     "iopub.status.busy": "2025-10-02T22:10:02.274564Z",
     "iopub.status.idle": "2025-10-02T22:10:02.293620Z",
     "shell.execute_reply": "2025-10-02T22:10:02.292350Z",
     "shell.execute_reply.started": "2025-10-02T22:10:02.274813Z"
    }
   },
   "outputs": [
    {
     "name": "stdout",
     "output_type": "stream",
     "text": [
      "=== Market Lookup Data ===\n",
      "['brand_name', 'molecule', 'therapeutic_class']\n",
      "  brand_name    molecule therapeutic_class\n",
      "0     Drug_A  Molecule_0           Class_A\n",
      "1     Drug_B  Molecule_1           Class_B\n",
      "2     Drug_C  Molecule_2           Class_C\n",
      "3     Drug_D  Molecule_3           Class_A\n",
      "4     Drug_E  Molecule_4           Class_B \n",
      "\n",
      "=== Prescribers Data ===\n",
      "['hcp_id', 'specialty', 'brand_written', 'region']\n",
      "    hcp_id      specialty brand_written region\n",
      "0  HCP7311  Endocrinology        Drug_E  South\n",
      "1  HCP4114        General        Drug_E  South\n",
      "2  HCP5173      Neurology        Drug_E   East\n",
      "3  HCP1727      Neurology        Drug_E   West\n",
      "4  HCP8144     Cardiology        Drug_C  North \n",
      "\n",
      "=== Claims Data ===\n",
      "['patient_id', 'ndc_code', 'drug_name', 'start_date', 'end_date', 'days_supply', 'provider_id', 'specialty', 'diagnosis_code', 'region']\n",
      "  patient_id    ndc_code drug_name  start_date    end_date  days_supply  \\\n",
      "0     P23104  51904-9849    Drug_B  2022-05-12  2022-07-11           60   \n",
      "1     P80678  29769-4788    Drug_D  2022-05-08  2022-06-07           30   \n",
      "2     P13617  45614-6502    Drug_A  2024-02-19  2024-04-19           60   \n",
      "3     P23577  29769-4788    Drug_D  2024-05-08  2024-08-06           90   \n",
      "4     P44718  20561-3267    Drug_C  2024-06-11  2024-08-10           60   \n",
      "\n",
      "  provider_id specialty diagnosis_code region  \n",
      "0     HCP3414   General           D654   East  \n",
      "1     HCP1400   General           D654   West  \n",
      "2     HCP7311   General           D789   East  \n",
      "3     HCP5499   General           D321  South  \n",
      "4     HCP1727   General           D789   West   \n",
      "\n",
      "=== Calendar Data ===\n",
      "['date', 'month', 'year', 'fiscal_quarter', 'fiscal_year']\n",
      "        date  month  year  fiscal_quarter  fiscal_year\n",
      "0 2022-01-01      1  2022               1         2022\n",
      "1 2022-01-02      1  2022               1         2022\n",
      "2 2022-01-03      1  2022               1         2022\n",
      "3 2022-01-04      1  2022               1         2022\n",
      "4 2022-01-05      1  2022               1         2022 \n",
      "\n"
     ]
    }
   ],
   "source": [
    "\n",
    "print(\"=== Market Lookup Data ===\")\n",
    "print(market.columns.tolist())\n",
    "print(market.head(), \"\\n\")\n",
    "\n",
    "print(\"=== Prescribers Data ===\")\n",
    "print(prescribers.columns.tolist())\n",
    "print(prescribers.head(), \"\\n\")\n",
    "\n",
    "print(\"=== Claims Data ===\")\n",
    "print(claims.columns.tolist())\n",
    "print(claims.head(), \"\\n\")\n",
    "\n",
    "print(\"=== Calendar Data ===\")\n",
    "print(calendar.columns.tolist())\n",
    "print(calendar.head(), \"\\n\")\n"
   ]
  },
  {
   "cell_type": "code",
   "execution_count": 186,
   "id": "d1e1fcf9-9cf4-4376-96e6-d916db5a8e25",
   "metadata": {
    "execution": {
     "iopub.execute_input": "2025-10-02T22:10:02.295545Z",
     "iopub.status.busy": "2025-10-02T22:10:02.294978Z",
     "iopub.status.idle": "2025-10-02T22:10:02.350540Z",
     "shell.execute_reply": "2025-10-02T22:10:02.349544Z",
     "shell.execute_reply.started": "2025-10-02T22:10:02.295518Z"
    }
   },
   "outputs": [
    {
     "name": "stdout",
     "output_type": "stream",
     "text": [
      "Total distinct patients: 497\n",
      "Average years of data per patient: 2.21\n",
      "Maximum years of data for any patient: 3.23\n"
     ]
    },
    {
     "data": {
      "text/html": [
       "<div>\n",
       "<style scoped>\n",
       "    .dataframe tbody tr th:only-of-type {\n",
       "        vertical-align: middle;\n",
       "    }\n",
       "\n",
       "    .dataframe tbody tr th {\n",
       "        vertical-align: top;\n",
       "    }\n",
       "\n",
       "    .dataframe thead th {\n",
       "        text-align: right;\n",
       "    }\n",
       "</style>\n",
       "<table border=\"1\" class=\"dataframe\">\n",
       "  <thead>\n",
       "    <tr style=\"text-align: right;\">\n",
       "      <th></th>\n",
       "      <th>patient_id</th>\n",
       "      <th>min_date</th>\n",
       "      <th>max_date</th>\n",
       "      <th>years_of_data</th>\n",
       "    </tr>\n",
       "  </thead>\n",
       "  <tbody>\n",
       "    <tr>\n",
       "      <th>0</th>\n",
       "      <td>P10074</td>\n",
       "      <td>2022-04-06</td>\n",
       "      <td>2024-10-12</td>\n",
       "      <td>2.518823</td>\n",
       "    </tr>\n",
       "    <tr>\n",
       "      <th>1</th>\n",
       "      <td>P10282</td>\n",
       "      <td>2022-08-15</td>\n",
       "      <td>2025-02-19</td>\n",
       "      <td>2.516085</td>\n",
       "    </tr>\n",
       "    <tr>\n",
       "      <th>2</th>\n",
       "      <td>P10425</td>\n",
       "      <td>2022-05-26</td>\n",
       "      <td>2024-11-22</td>\n",
       "      <td>2.494182</td>\n",
       "    </tr>\n",
       "    <tr>\n",
       "      <th>3</th>\n",
       "      <td>P10464</td>\n",
       "      <td>2023-03-01</td>\n",
       "      <td>2024-06-28</td>\n",
       "      <td>1.327858</td>\n",
       "    </tr>\n",
       "    <tr>\n",
       "      <th>4</th>\n",
       "      <td>P10851</td>\n",
       "      <td>2022-01-27</td>\n",
       "      <td>2024-12-15</td>\n",
       "      <td>2.882957</td>\n",
       "    </tr>\n",
       "    <tr>\n",
       "      <th>5</th>\n",
       "      <td>P10942</td>\n",
       "      <td>2022-03-17</td>\n",
       "      <td>2024-03-30</td>\n",
       "      <td>2.036961</td>\n",
       "    </tr>\n",
       "    <tr>\n",
       "      <th>6</th>\n",
       "      <td>P11025</td>\n",
       "      <td>2023-02-23</td>\n",
       "      <td>2024-06-29</td>\n",
       "      <td>1.347023</td>\n",
       "    </tr>\n",
       "    <tr>\n",
       "      <th>7</th>\n",
       "      <td>P11220</td>\n",
       "      <td>2022-01-14</td>\n",
       "      <td>2024-12-06</td>\n",
       "      <td>2.893908</td>\n",
       "    </tr>\n",
       "    <tr>\n",
       "      <th>8</th>\n",
       "      <td>P11267</td>\n",
       "      <td>2022-01-29</td>\n",
       "      <td>2023-04-24</td>\n",
       "      <td>1.232033</td>\n",
       "    </tr>\n",
       "    <tr>\n",
       "      <th>9</th>\n",
       "      <td>P11504</td>\n",
       "      <td>2023-06-25</td>\n",
       "      <td>2024-05-04</td>\n",
       "      <td>0.859685</td>\n",
       "    </tr>\n",
       "  </tbody>\n",
       "</table>\n",
       "</div>"
      ],
      "text/plain": [
       "  patient_id   min_date   max_date  years_of_data\n",
       "0     P10074 2022-04-06 2024-10-12       2.518823\n",
       "1     P10282 2022-08-15 2025-02-19       2.516085\n",
       "2     P10425 2022-05-26 2024-11-22       2.494182\n",
       "3     P10464 2023-03-01 2024-06-28       1.327858\n",
       "4     P10851 2022-01-27 2024-12-15       2.882957\n",
       "5     P10942 2022-03-17 2024-03-30       2.036961\n",
       "6     P11025 2023-02-23 2024-06-29       1.347023\n",
       "7     P11220 2022-01-14 2024-12-06       2.893908\n",
       "8     P11267 2022-01-29 2023-04-24       1.232033\n",
       "9     P11504 2023-06-25 2024-05-04       0.859685"
      ]
     },
     "execution_count": 186,
     "metadata": {},
     "output_type": "execute_result"
    }
   ],
   "source": [
    "import pandas as pd\n",
    "\n",
    "claims[\"start_date\"] = pd.to_datetime(claims[\"start_date\"])\n",
    "claims[\"end_date\"] = pd.to_datetime(claims[\"end_date\"])\n",
    "\n",
    "patient_span = claims.groupby(\"patient_id\").agg(\n",
    "    min_date=(\"start_date\", \"min\"),\n",
    "    max_date=(\"end_date\", \"max\")\n",
    ").reset_index()\n",
    "\n",
    "patient_span[\"years_of_data\"] = (patient_span[\"max_date\"] - patient_span[\"min_date\"]).dt.days / 365.25\n",
    "\n",
    "total_patients = patient_span[\"patient_id\"].nunique()\n",
    "avg_years = patient_span[\"years_of_data\"].mean()\n",
    "max_years = patient_span[\"years_of_data\"].max()\n",
    "\n",
    "print(f\"Total distinct patients: {total_patients}\")\n",
    "print(f\"Average years of data per patient: {avg_years:.2f}\")\n",
    "print(f\"Maximum years of data for any patient: {max_years:.2f}\")\n",
    "\n",
    "\n",
    "patient_span.head(10)\n"
   ]
  },
  {
   "cell_type": "code",
   "execution_count": null,
   "id": "62157ff2-5c75-4810-b639-0ea8dc513822",
   "metadata": {},
   "outputs": [],
   "source": []
  }
 ],
 "metadata": {
  "kaggle": {
   "accelerator": "none",
   "dataSources": [
    {
     "datasetId": 7883949,
     "sourceId": 12493090,
     "sourceType": "datasetVersion"
    },
    {
     "datasetId": 8392252,
     "sourceId": 13244607,
     "sourceType": "datasetVersion"
    },
    {
     "datasetId": 8392925,
     "sourceId": 13245616,
     "sourceType": "datasetVersion"
    }
   ],
   "dockerImageVersionId": 31089,
   "isGpuEnabled": false,
   "isInternetEnabled": false,
   "language": "python",
   "sourceType": "notebook"
  },
  "kernelspec": {
   "display_name": "Python 3",
   "language": "python",
   "name": "python3"
  },
  "language_info": {
   "codemirror_mode": {
    "name": "ipython",
    "version": 3
   },
   "file_extension": ".py",
   "mimetype": "text/x-python",
   "name": "python",
   "nbconvert_exporter": "python",
   "pygments_lexer": "ipython3",
   "version": "3.11.13"
  }
 },
 "nbformat": 4,
 "nbformat_minor": 5
}
